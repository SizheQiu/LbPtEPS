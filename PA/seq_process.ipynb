{
 "cells": [
  {
   "cell_type": "code",
   "execution_count": 1,
   "id": "f76933ac",
   "metadata": {},
   "outputs": [],
   "source": [
    "from Bio import SeqIO\n",
    "from Bio.Seq import Seq\n",
    "from Bio.SeqRecord import SeqRecord"
   ]
  },
  {
   "cell_type": "code",
   "execution_count": 2,
   "id": "987674b5",
   "metadata": {},
   "outputs": [],
   "source": [
    "with open('pa74_563194.3.fna') as f:\n",
    "    lines = f.readlines()"
   ]
  },
  {
   "cell_type": "code",
   "execution_count": 3,
   "id": "dd7ee7de",
   "metadata": {},
   "outputs": [],
   "source": [
    "scaffold = 'NZ_GG730084'\n",
    "keto_loc, aldol_loc = (293352,295328),(292636,293355)\n",
    "seq = ''\n",
    "start_read = False\n",
    "for l in lines:\n",
    "    l = l.replace('\\n','').strip()\n",
    "    if '>' in l and start_read:\n",
    "        break\n",
    "    if scaffold in l:\n",
    "        start_read = True\n",
    "    if '>' not in l and start_read:\n",
    "        seq = seq + l\n",
    "keto_seq_74 = (seq[keto_loc[0]+1:keto_loc[1]+2]).upper()\n",
    "aldol_seq_74 = (seq[aldol_loc[0]+1:aldol_loc[1]+2]).upper()"
   ]
  },
  {
   "cell_type": "code",
   "execution_count": 4,
   "id": "21c3bcfa",
   "metadata": {},
   "outputs": [],
   "source": [
    "with open('862514.3.fna') as f:\n",
    "    lines = f.readlines()"
   ]
  },
  {
   "cell_type": "code",
   "execution_count": 5,
   "id": "36aa5c88",
   "metadata": {},
   "outputs": [],
   "source": [
    "scaffold = 'NZ_GL397067'\n",
    "keto_loc, aldol_loc = (111607,113583),(113580,114299)\n",
    "seq = ''\n",
    "start_read = False\n",
    "for l in lines:\n",
    "    l = l.replace('\\n','').strip()\n",
    "    if '>' in l and start_read:\n",
    "        break\n",
    "    if scaffold in l:\n",
    "        start_read = True\n",
    "    if '>' not in l and start_read:\n",
    "        seq = seq + l\n",
    "keto_seq_DSM = (seq[keto_loc[0]+1:keto_loc[1]+2]).upper()\n",
    "aldol_seq_DSM = (seq[aldol_loc[0]+1:aldol_loc[1]+2]).upper()"
   ]
  },
  {
   "cell_type": "code",
   "execution_count": 10,
   "id": "4853d19e",
   "metadata": {},
   "outputs": [],
   "source": [
    "keto_74 = SeqRecord(\n",
    "    Seq(keto_seq_74),\n",
    "    id=\"fig|563194.3.peg.709|HMPREF9024_00672\",\n",
    "    name=\"Transketolase (EC 2.2.1.1)\",\n",
    "    description=\"\",\n",
    ")\n",
    "aldol_74 = SeqRecord(\n",
    "    Seq(aldol_seq_74),\n",
    "    id=\"fig|563194.3.peg.708|HMPREF9024_00671\",\n",
    "    name=\"Transaldolase (EC 2.2.1.2)\",\n",
    "    description=\"\",\n",
    ")\n",
    "keto_DSM = SeqRecord(\n",
    "    Seq(keto_seq_DSM),\n",
    "    id=\"fig|862514.3.peg.93|HMPREF0623_0094\",\n",
    "    name=\"Transketolase (EC 2.2.1.1)\",\n",
    "    description=\"\",\n",
    ")\n",
    "aldol_DSM = SeqRecord(\n",
    "    Seq(aldol_seq_DSM),\n",
    "    id=\"fig|862514.3.peg.94|HMPREF0623_0095\",\n",
    "    name=\"Transaldolase (EC 2.2.1.2)\",\n",
    "    description=\"\",\n",
    ")"
   ]
  },
  {
   "cell_type": "code",
   "execution_count": 11,
   "id": "8fc44646",
   "metadata": {},
   "outputs": [
    {
     "data": {
      "text/plain": [
       "2"
      ]
     },
     "execution_count": 11,
     "metadata": {},
     "output_type": "execute_result"
    }
   ],
   "source": [
    "SeqIO.write([keto_DSM,aldol_DSM],'ketoaldol_DSM_genome.fasta', \"fasta\")"
   ]
  },
  {
   "cell_type": "code",
   "execution_count": 12,
   "id": "239a7960",
   "metadata": {},
   "outputs": [
    {
     "data": {
      "text/plain": [
       "2"
      ]
     },
     "execution_count": 12,
     "metadata": {},
     "output_type": "execute_result"
    }
   ],
   "source": [
    "SeqIO.write([keto_74,aldol_74],'ketoaldol_74_genome.fasta', \"fasta\")"
   ]
  },
  {
   "cell_type": "code",
   "execution_count": null,
   "id": "e926b5a9",
   "metadata": {},
   "outputs": [],
   "source": []
  }
 ],
 "metadata": {
  "kernelspec": {
   "display_name": "Python 3 (ipykernel)",
   "language": "python",
   "name": "python3"
  },
  "language_info": {
   "codemirror_mode": {
    "name": "ipython",
    "version": 3
   },
   "file_extension": ".py",
   "mimetype": "text/x-python",
   "name": "python",
   "nbconvert_exporter": "python",
   "pygments_lexer": "ipython3",
   "version": "3.8.10"
  }
 },
 "nbformat": 4,
 "nbformat_minor": 5
}
