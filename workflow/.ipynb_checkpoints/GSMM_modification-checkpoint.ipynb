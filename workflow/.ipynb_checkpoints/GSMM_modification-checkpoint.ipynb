{
 "cells": [
  {
   "cell_type": "code",
   "execution_count": 1,
   "id": "18364fff",
   "metadata": {},
   "outputs": [],
   "source": [
    "import cobra\n",
    "from cobra.io import read_sbml_model,load_json_model\n",
    "from cobra import Model, Reaction, Metabolite\n",
    "from cobra.medium import minimal_medium\n",
    "import pandas as pd\n",
    "import numpy as np\n",
    "import matplotlib.pyplot as plt\n",
    "from Bio import SeqIO\n",
    "from Bio.Seq import Seq\n",
    "from Bio.SeqRecord import SeqRecord"
   ]
  },
  {
   "cell_type": "code",
   "execution_count": 2,
   "id": "0ec64578",
   "metadata": {},
   "outputs": [],
   "source": [
    "model = load_json_model('../data/GSMM_parameters/LP_WCFS1.json')"
   ]
  },
  {
   "cell_type": "code",
   "execution_count": null,
   "id": "9e0d023f",
   "metadata": {},
   "outputs": [],
   "source": [
    "model.reactions.FBA.id = 'FDPA'#avoid confusion with FBA(flux balance analysis)\n",
    "#fix directions\n",
    "model.reactions.PGI.lower_bound = 0.0\n",
    "model.reactions.FBA.lower_bound = 0.0\n",
    "model.reactions.GAPD.lower_bound = 0.0\n",
    "model.reactions.GALU.lower_bound = 0.0\n",
    "model.reactions.UDPG4E.lower_bound = 0.0\n",
    "model.reactions.PGK.lower_bound = 0.0\n",
    "model.reactions.PGM.lower_bound = 0.0\n",
    "model.reactions.ENO.lower_bound = 0.0\n",
    "model.reactions.LDH_L.build_reaction_from_string('h_c + nadh_c + pyr_c --> lac__L_c + nad_c')\n",
    "model.reactions.LDH_L.lower_bound = 0.0\n",
    "model.reactions.PFL.lower_bound = 0.0\n",
    "model.reactions.PTAr.lower_bound = 0.0\n",
    "model.reactions.ACKr.build_reaction_from_string('actp_c + adp_c --> ac_c + atp_c')\n",
    "model.reactions.ACKr.lower_bound = 0.0"
   ]
  },
  {
   "cell_type": "markdown",
   "id": "7df0d9dc",
   "metadata": {},
   "source": [
    "# Pseudo-reactions of EPS repeating unit synthesis"
   ]
  },
  {
   "cell_type": "code",
   "execution_count": null,
   "id": "abc8432e",
   "metadata": {},
   "outputs": [],
   "source": []
  }
 ],
 "metadata": {
  "kernelspec": {
   "display_name": "Python 3 (ipykernel)",
   "language": "python",
   "name": "python3"
  },
  "language_info": {
   "codemirror_mode": {
    "name": "ipython",
    "version": 3
   },
   "file_extension": ".py",
   "mimetype": "text/x-python",
   "name": "python",
   "nbconvert_exporter": "python",
   "pygments_lexer": "ipython3",
   "version": "3.8.10"
  }
 },
 "nbformat": 4,
 "nbformat_minor": 5
}
