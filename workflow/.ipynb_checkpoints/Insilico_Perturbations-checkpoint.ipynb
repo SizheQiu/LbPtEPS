{
 "cells": [
  {
   "cell_type": "code",
   "execution_count": null,
   "id": "d8a00bad",
   "metadata": {},
   "outputs": [],
   "source": [
    "import cobra\n",
    "from cobra.io import load_json_model\n",
    "import pandas as pd\n",
    "import numpy as np\n",
    "import matplotlib.pyplot as plt\n",
    "from sklearn.metrics import r2_score"
   ]
  },
  {
   "cell_type": "code",
   "execution_count": null,
   "id": "3e7f2018",
   "metadata": {},
   "outputs": [],
   "source": [
    "params = load_model_params('../data/GSMM_parameters/model_params.csv')\n",
    "MRS = init_MRSmedium()"
   ]
  },
  {
   "cell_type": "markdown",
   "id": "53f9bfbc",
   "metadata": {},
   "source": [
    "# 1. Different carbon sources: Glucose, Mannose, Lactose"
   ]
  },
  {
   "cell_type": "markdown",
   "id": "f5a9eaba",
   "metadata": {},
   "source": [
    "# 2. Different initial lactic acid concentrations: 0, 10, 20, 50 mM"
   ]
  },
  {
   "cell_type": "code",
   "execution_count": null,
   "id": "1f015c26",
   "metadata": {},
   "outputs": [],
   "source": []
  }
 ],
 "metadata": {
  "kernelspec": {
   "display_name": "Python 3 (ipykernel)",
   "language": "python",
   "name": "python3"
  },
  "language_info": {
   "codemirror_mode": {
    "name": "ipython",
    "version": 3
   },
   "file_extension": ".py",
   "mimetype": "text/x-python",
   "name": "python",
   "nbconvert_exporter": "python",
   "pygments_lexer": "ipython3",
   "version": "3.8.10"
  }
 },
 "nbformat": 4,
 "nbformat_minor": 5
}
