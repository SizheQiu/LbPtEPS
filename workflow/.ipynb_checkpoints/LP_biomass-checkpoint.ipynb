{
 "cells": [
  {
   "cell_type": "markdown",
   "id": "a507cefc",
   "metadata": {},
   "source": [
    "Ref:Analysis of Growth of Lactobacillus plantarum WCFS1 on a Complex Medium Using a Genome-scale Metabolic Model\n",
    "    DOI:https://doi.org/10.1074/jbc.M606263200"
   ]
  },
  {
   "cell_type": "code",
   "execution_count": null,
   "id": "0f391ce9",
   "metadata": {},
   "outputs": [],
   "source": [
    "import numpy as np"
   ]
  },
  {
   "cell_type": "code",
   "execution_count": null,
   "id": "e0dd3960",
   "metadata": {},
   "outputs": [],
   "source": [
    "fractions = {'DNA':1.9/100, 'RNA':9/100, 'Protein':29.9/100,\n",
    "            'lipids':6.3/100,'Polysaccharides':9.9/100,\n",
    "             'Peptidoglycans':14.5/100,'Wall_teichoic_acids':13.8/100,\n",
    "            'Lipoteichoic_acids':4.1/100,'Rest':14.4/100}\n",
    "DNA_syn ='(1.37) atp + (0.28) datp + (0.22) dctp + (0.22) dgtp + (0.28) dttp + (1.37) h2o --> (0.01) DNA_LPL + (1.37) adp + (1.37) h + (1.37) pi + ppi'\n",
    "RNA_syn ='(0.66) atp + (0.2) ctp + (0.32) gtp + (0.4) h2o + (0.22) utp --> (0.01) RNA_LPL + (0.4) adp + (0.4) h + (0.4) pi + ppi'\n"
   ]
  }
 ],
 "metadata": {
  "kernelspec": {
   "display_name": "Python 3 (ipykernel)",
   "language": "python",
   "name": "python3"
  },
  "language_info": {
   "codemirror_mode": {
    "name": "ipython",
    "version": 3
   },
   "file_extension": ".py",
   "mimetype": "text/x-python",
   "name": "python",
   "nbconvert_exporter": "python",
   "pygments_lexer": "ipython3",
   "version": "3.8.10"
  }
 },
 "nbformat": 4,
 "nbformat_minor": 5
}
