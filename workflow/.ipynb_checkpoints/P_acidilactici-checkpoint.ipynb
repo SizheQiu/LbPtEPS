{
 "cells": [
  {
   "cell_type": "code",
   "execution_count": 1,
   "id": "356c524a",
   "metadata": {},
   "outputs": [],
   "source": [
    "import cobra\n",
    "from cobra.io import read_sbml_model\n",
    "from cobra import Model, Reaction, Metabolite\n",
    "import pandas as pd\n",
    "import numpy as np\n",
    "import matplotlib.pyplot as plt\n",
    "from cobra.medium import minimal_medium"
   ]
  },
  {
   "cell_type": "code",
   "execution_count": 2,
   "id": "90d207ea",
   "metadata": {},
   "outputs": [],
   "source": [
    "pa74 = read_sbml_model('../PA/Pediococcus_acidilactici_7_4.xml')\n",
    "paDSM = read_sbml_model('../PA/Pediococcus_acidilactici_DSM_20284.xml')"
   ]
  },
  {
   "cell_type": "code",
   "execution_count": 27,
   "id": "e0f63410",
   "metadata": {},
   "outputs": [
    {
     "name": "stdout",
     "output_type": "stream",
     "text": [
      "{'EX_ala_L(e)': 1.0, 'EX_arg_L(e)': 1.0, 'EX_asn_L(e)': 1.0, 'EX_asp_L(e)': 1.0, 'EX_cys_L(e)': 1.0, 'EX_gln_L(e)': 1.0, 'EX_glu_L(e)': 1.0, 'EX_gly(e)': 1.0, 'EX_his_L(e)': 1.0, 'EX_ile_L(e)': 1.0, 'EX_leu_L(e)': 1.0, 'EX_lys_L(e)': 1.0, 'EX_met_L(e)': 1.0, 'EX_phe_L(e)': 1.0, 'EX_pro_L(e)': 1.0, 'EX_ser_L(e)': 1.0, 'EX_thr_L(e)': 1.0, 'EX_trp_L(e)': 1.0, 'EX_tyr_L(e)': 1.0, 'EX_val_L(e)': 1.0, 'EX_glc(e)': 4.5, 'EX_pyr(e)': 1.0, 'EX_ca2(e)': 1.0, 'EX_chol(e)': 1.0, 'EX_cl(e)': 1.0, 'EX_cobalt2(e)': 1.0, 'EX_cu2(e)': 1.0, 'EX_fe2(e)': 1.0, 'EX_fe3(e)': 1.0, 'EX_fol(e)': 1.0, 'EX_k(e)': 1.0, 'EX_h2o(e)': 10.0, 'EX_h2s(e)': 1.0, 'EX_inost(e)': 1.0, 'EX_mg2(e)': 1.0, 'EX_mn2(e)': 1.0, 'EX_ncam(e)': 1.0, 'EX_pi(e)': 10.0, 'EX_pnto_R(e)': 1.0, 'EX_pydxn(e)': 1.0, 'EX_ribflv(e)': 1.0, 'EX_so4(e)': 1.0, 'EX_thm(e)': 1.0, 'EX_zn2(e)': 1.0, 'EX_mqn7(e)': 1.0, 'EX_mqn8(e)': 1.0, 'EX_pheme(e)': 1.0, 'EX_arabinogal(e)': 0.0094, 'EX_q8(e)': 1.0, 'EX_sheme(e)': 1.0}\n"
     ]
    }
   ],
   "source": [
    "DMEM = pd.read_csv('DMEM6429_medium.csv')\n",
    "DMEM_medium = {}\n",
    "for i in range(len(DMEM['rxn'])):\n",
    "    DMEM_medium[list(DMEM['rxn'])[i]] = list(DMEM['flux'])[i]\n",
    "print(DMEM_medium)"
   ]
  },
  {
   "cell_type": "code",
   "execution_count": 39,
   "id": "34d35d86",
   "metadata": {},
   "outputs": [
    {
     "data": {
      "text/html": [
       "\n",
       "        <table>\n",
       "            <tr>\n",
       "                <td><strong>Metabolite identifier</strong></td><td>asp_L[c]</td>\n",
       "            </tr><tr>\n",
       "                <td><strong>Name</strong></td><td>L-aspartate(1-)</td>\n",
       "            </tr><tr>\n",
       "                <td><strong>Memory address</strong></td>\n",
       "                <td>0x07f4c1549dee0</td>\n",
       "            </tr><tr>\n",
       "                <td><strong>Formula</strong></td><td>C4H6NO4</td>\n",
       "            </tr><tr>\n",
       "                <td><strong>Compartment</strong></td><td>c</td>\n",
       "            </tr><tr>\n",
       "                <td><strong>In 12 reaction(s)</strong></td><td>\n",
       "                    ASPt2r, ADSS, ASNS2, PRASCSi, ASNS1, PedA_synthesis, ASPCT, ALAASP1c, GLYASP1c, r0127, ASPTA, biomass525</td>\n",
       "            </tr>\n",
       "        </table>"
      ],
      "text/plain": [
       "<Metabolite asp_L[c] at 0x7f4c1549dee0>"
      ]
     },
     "execution_count": 39,
     "metadata": {},
     "output_type": "execute_result"
    }
   ],
   "source": [
    "pa74.metabolites.query('asp_L')[0]"
   ]
  },
  {
   "cell_type": "code",
   "execution_count": 30,
   "id": "2897315e",
   "metadata": {},
   "outputs": [
    {
     "ename": "KeyError",
     "evalue": "'EX_ser_L(e)'",
     "output_type": "error",
     "traceback": [
      "\u001b[0;31m---------------------------------------------------------------------------\u001b[0m",
      "\u001b[0;31mKeyError\u001b[0m                                  Traceback (most recent call last)",
      "\u001b[0;32m/tmp/ipykernel_17049/471615117.py\u001b[0m in \u001b[0;36m<module>\u001b[0;34m\u001b[0m\n\u001b[1;32m      1\u001b[0m \u001b[0;32mwith\u001b[0m \u001b[0mpa74\u001b[0m\u001b[0;34m:\u001b[0m\u001b[0;34m\u001b[0m\u001b[0;34m\u001b[0m\u001b[0m\n\u001b[0;32m----> 2\u001b[0;31m     \u001b[0mpa74\u001b[0m\u001b[0;34m.\u001b[0m\u001b[0mmedium\u001b[0m \u001b[0;34m=\u001b[0m \u001b[0mDMEM_medium\u001b[0m\u001b[0;34m\u001b[0m\u001b[0;34m\u001b[0m\u001b[0m\n\u001b[0m\u001b[1;32m      3\u001b[0m     \u001b[0mprint\u001b[0m\u001b[0;34m(\u001b[0m\u001b[0mpa74\u001b[0m\u001b[0;34m.\u001b[0m\u001b[0mslim_optimize\u001b[0m\u001b[0;34m(\u001b[0m\u001b[0;34m)\u001b[0m\u001b[0;34m)\u001b[0m\u001b[0;34m\u001b[0m\u001b[0;34m\u001b[0m\u001b[0m\n",
      "\u001b[0;32m~/miniconda3/lib/python3.8/site-packages/cobra/core/model.py\u001b[0m in \u001b[0;36mmedium\u001b[0;34m(self, medium)\u001b[0m\n\u001b[1;32m    277\u001b[0m         \u001b[0mexchange_rxns\u001b[0m \u001b[0;34m=\u001b[0m \u001b[0mfrozenset\u001b[0m\u001b[0;34m(\u001b[0m\u001b[0mself\u001b[0m\u001b[0;34m.\u001b[0m\u001b[0mexchanges\u001b[0m\u001b[0;34m)\u001b[0m\u001b[0;34m\u001b[0m\u001b[0;34m\u001b[0m\u001b[0m\n\u001b[1;32m    278\u001b[0m         \u001b[0;32mfor\u001b[0m \u001b[0mrxn_id\u001b[0m\u001b[0;34m,\u001b[0m \u001b[0mbound\u001b[0m \u001b[0;32min\u001b[0m \u001b[0mmedium\u001b[0m\u001b[0;34m.\u001b[0m\u001b[0mitems\u001b[0m\u001b[0;34m(\u001b[0m\u001b[0;34m)\u001b[0m\u001b[0;34m:\u001b[0m\u001b[0;34m\u001b[0m\u001b[0;34m\u001b[0m\u001b[0m\n\u001b[0;32m--> 279\u001b[0;31m             \u001b[0mrxn\u001b[0m \u001b[0;34m=\u001b[0m \u001b[0mself\u001b[0m\u001b[0;34m.\u001b[0m\u001b[0mreactions\u001b[0m\u001b[0;34m.\u001b[0m\u001b[0mget_by_id\u001b[0m\u001b[0;34m(\u001b[0m\u001b[0mrxn_id\u001b[0m\u001b[0;34m)\u001b[0m\u001b[0;34m\u001b[0m\u001b[0;34m\u001b[0m\u001b[0m\n\u001b[0m\u001b[1;32m    280\u001b[0m             \u001b[0;32mif\u001b[0m \u001b[0mrxn\u001b[0m \u001b[0;32mnot\u001b[0m \u001b[0;32min\u001b[0m \u001b[0mexchange_rxns\u001b[0m\u001b[0;34m:\u001b[0m\u001b[0;34m\u001b[0m\u001b[0;34m\u001b[0m\u001b[0m\n\u001b[1;32m    281\u001b[0m                 logger.warn(\n",
      "\u001b[0;32m~/miniconda3/lib/python3.8/site-packages/cobra/core/dictlist.py\u001b[0m in \u001b[0;36mget_by_id\u001b[0;34m(self, id)\u001b[0m\n\u001b[1;32m     55\u001b[0m     \u001b[0;32mdef\u001b[0m \u001b[0mget_by_id\u001b[0m\u001b[0;34m(\u001b[0m\u001b[0mself\u001b[0m\u001b[0;34m,\u001b[0m \u001b[0mid\u001b[0m\u001b[0;34m)\u001b[0m\u001b[0;34m:\u001b[0m\u001b[0;34m\u001b[0m\u001b[0;34m\u001b[0m\u001b[0m\n\u001b[1;32m     56\u001b[0m         \u001b[0;34m\"\"\"return the element with a matching id\"\"\"\u001b[0m\u001b[0;34m\u001b[0m\u001b[0;34m\u001b[0m\u001b[0m\n\u001b[0;32m---> 57\u001b[0;31m         \u001b[0;32mreturn\u001b[0m \u001b[0mlist\u001b[0m\u001b[0;34m.\u001b[0m\u001b[0m__getitem__\u001b[0m\u001b[0;34m(\u001b[0m\u001b[0mself\u001b[0m\u001b[0;34m,\u001b[0m \u001b[0mself\u001b[0m\u001b[0;34m.\u001b[0m\u001b[0m_dict\u001b[0m\u001b[0;34m[\u001b[0m\u001b[0mid\u001b[0m\u001b[0;34m]\u001b[0m\u001b[0;34m)\u001b[0m\u001b[0;34m\u001b[0m\u001b[0;34m\u001b[0m\u001b[0m\n\u001b[0m\u001b[1;32m     58\u001b[0m \u001b[0;34m\u001b[0m\u001b[0m\n\u001b[1;32m     59\u001b[0m     \u001b[0;32mdef\u001b[0m \u001b[0mlist_attr\u001b[0m\u001b[0;34m(\u001b[0m\u001b[0mself\u001b[0m\u001b[0;34m,\u001b[0m \u001b[0mattribute\u001b[0m\u001b[0;34m)\u001b[0m\u001b[0;34m:\u001b[0m\u001b[0;34m\u001b[0m\u001b[0;34m\u001b[0m\u001b[0m\n",
      "\u001b[0;31mKeyError\u001b[0m: 'EX_ser_L(e)'"
     ]
    }
   ],
   "source": [
    "with pa74:\n",
    "    temp_medium = \n",
    "    pa74.medium = DMEM_medium\n",
    "    print(pa74.slim_optimize())"
   ]
  },
  {
   "cell_type": "markdown",
   "id": "0f51ee75",
   "metadata": {},
   "source": [
    "## PedA synthesis"
   ]
  },
  {
   "cell_type": "markdown",
   "id": "69c4128f",
   "metadata": {},
   "source": [
    "'H-Lys-Tyr-Tyr-Gly-Asn-Gly-Val-Thr-Cys(1)-Gly-Lys-His-Ser-Cys(1)-Ser-Val-Asp-Trp-Gly-Lys-Ala-Thr-Thr-Cys(2)-Ile-Ile-Asn-Asn-Gly-Ala-Met-Ala-Trp-Ala-Thr-Gly-Gly-His-Gln-Gly-Asn-His-Lys-Cys(2)-OH'\n",
    "\n",
    "https://pubchem.ncbi.nlm.nih.gov/compound/Pediocin-PA-1#section=Biologic-Description\n"
   ]
  },
  {
   "cell_type": "code",
   "execution_count": 8,
   "id": "935750a5",
   "metadata": {},
   "outputs": [
    {
     "name": "stdout",
     "output_type": "stream",
     "text": [
      "{'K': 4, 'Y': 2, 'G': 8, 'N': 4, 'V': 2, 'T': 4, 'C': 4, 'H': 3, 'S': 2, 'D': 1, 'W': 2, 'A': 4, 'I': 2, 'M': 1, 'Q': 1}\n",
      "189.464\n"
     ]
    }
   ],
   "source": [
    "# pediocin PA-1\n",
    "aa_freq = {}\n",
    "pedA_seq = 'KYYGNGVTCGKHSCSVDWGKATTCIINNGAMAWATGGHQGNHKC'\n",
    "for a in pedA_seq:\n",
    "    if a in aa_freq:\n",
    "        aa_freq[a] += 1\n",
    "    else:\n",
    "        aa_freq[a] = 1\n",
    "print(aa_freq)\n",
    "    \n",
    "atp_num = len(pedA_seq)*4.306\n",
    "print(atp_num)"
   ]
  },
  {
   "cell_type": "code",
   "execution_count": 10,
   "id": "8d1b7993",
   "metadata": {},
   "outputs": [
    {
     "name": "stdout",
     "output_type": "stream",
     "text": [
      "4.0 lys_L[c] + 2.0 tyr_L[c] + 8.0 gly[c] + 4.0 asn_L[c] + 2.0 val_L[c] + 4.0 thr_L[c] + 4.0 cys_L[c] + 3.0 his_L[c] + 2.0 ser_L[c] + 1.0 asp_L[c] + 2.0 trp_L[c] + 4.0 ala_L[c] + 2.0 ile_L[c] + 1.0 met_L[c] + 1.0 gln_L[c] + 189.464 atp[c] + 146.464 h2o[c] --> 189.464 adp[c] + 189.464 pi[c] + pedA[c] + 189.464 h[c]\n"
     ]
    }
   ],
   "source": [
    "aa_names = {'A':'ala_L[c]', 'C':'cys_L[c]', 'D':'asp_L[c]', 'E':'glu_L[c]', 'F':'phe_L[c]', 'G':'gly[c]',\n",
    "            'H':'his_L[c]', 'I':'ile_L[c]', 'K':'lys_L[c]', 'L':'leu_L[c]', 'M':'met_L[c]', 'N':'asn_L[c]',\n",
    "            'P':'pro_L[c]','Q':'gln_L[c]', 'R':'arg_L[c]', 'S':'ser_L[c]', 'T':'thr_L[c]', 'V':'val_L[c]',\n",
    "            'W':'trp_L[c]', 'Y':'tyr_L[c]'}\n",
    "\n",
    "pedA_c = Metabolite('pedA[c]',formula='C196H293N61O60S5',name='Pediocin PA-1',compartment='c')\n",
    "pedA_e = Metabolite('pedA[e]',formula='C196H293N61O60S5',name='Pediocin PA-1',compartment='e')\n",
    "pa74.add_metabolites([pedA_c,pedA_e])\n",
    "#pediocin synthesis\n",
    "PedA_synthesis = Reaction('PedA_synthesis')\n",
    "PedA_synthesis.name = 'Pediocin PA-1 synthesis'\n",
    "PedA_synthesis.subsystem = ''\n",
    "PedA_synthesis.lower_bound = 0\n",
    "PedA_synthesis.upper_bound = 1000.\n",
    "PedA_synthesis.gene_reaction_rule = ''\n",
    "PedA_synthesis_rxn = ''\n",
    "for aa in aa_freq:\n",
    "    PedA_synthesis_rxn = PedA_synthesis_rxn + str(float(aa_freq[aa])) + ' ' + aa_names[aa] + ' + '\n",
    "PedA_synthesis_rxn =(  PedA_synthesis_rxn + \n",
    "    '189.464 atp[c] + 146.464 h2o[c] --> 189.464 adp[c] + 189.464 pi[c] + pedA[c] + 189.464 h[c]' )\n",
    "    \n",
    "print(PedA_synthesis_rxn)\n",
    "#pediocin export: c->e and exchange\n",
    "PedAabc = Reaction('PedAabc')\n",
    "PedAabc.name = 'Pediocin PA-1 export via ABC system'\n",
    "PedAabc.subsystem = ''\n",
    "PedAabc.lower_bound = 0\n",
    "PedAabc.upper_bound = 1000.\n",
    "PedAabc.gene_reaction_rule = ''\n",
    "PedAabc_rxn = 'pedA[c] + atp[c] + h2o[c] --> pedA[e] + adp[c] + pi[c] + h[c] '\n",
    "EX_pedA_e = Reaction('EX_pedA_e')\n",
    "EX_pedA_e.name = 'R_EX_pedA_e'\n",
    "EX_pedA_e.subsystem = ''\n",
    "EX_pedA_e.lower_bound = -1000.\n",
    "EX_pedA_e.upper_bound = 1000.\n",
    "EX_pedA_e.gene_reaction_rule = ''\n",
    "EX_pedA_e_rxn = 'pedA[e] <=> '\n",
    "pa74.add_reactions([PedA_synthesis,PedAabc,EX_pedA_e])\n",
    "PedA_synthesis.build_reaction_from_string(PedA_synthesis_rxn)\n",
    "PedAabc.build_reaction_from_string(PedAabc_rxn)\n",
    "EX_pedA_e.build_reaction_from_string(EX_pedA_e_rxn)"
   ]
  },
  {
   "cell_type": "code",
   "execution_count": null,
   "id": "a062f486",
   "metadata": {},
   "outputs": [],
   "source": []
  }
 ],
 "metadata": {
  "kernelspec": {
   "display_name": "Python 3 (ipykernel)",
   "language": "python",
   "name": "python3"
  },
  "language_info": {
   "codemirror_mode": {
    "name": "ipython",
    "version": 3
   },
   "file_extension": ".py",
   "mimetype": "text/x-python",
   "name": "python",
   "nbconvert_exporter": "python",
   "pygments_lexer": "ipython3",
   "version": "3.8.10"
  }
 },
 "nbformat": 4,
 "nbformat_minor": 5
}
