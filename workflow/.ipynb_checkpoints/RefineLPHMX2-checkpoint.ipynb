{
 "cells": [
  {
   "cell_type": "code",
   "execution_count": 1,
   "id": "18364fff",
   "metadata": {},
   "outputs": [],
   "source": [
    "import cobra\n",
    "from cobra.io import read_sbml_model,load_json_model\n",
    "from cobra import Model, Reaction, Metabolite\n",
    "from cobra.medium import minimal_medium\n",
    "import pandas as pd\n",
    "import numpy as np\n",
    "import matplotlib.pyplot as plt\n",
    "from Bio import SeqIO\n",
    "from Bio.Seq import Seq\n",
    "from Bio.SeqRecord import SeqRecord"
   ]
  },
  {
   "cell_type": "markdown",
   "id": "c593bb1a",
   "metadata": {},
   "source": [
    "**Ref:Analysis of Growth of Lactobacillus plantarum WCFS1 on a Complex Medium Using a Genome-scale Metabolic Model DOI:https://doi.org/10.1074/jbc.M606263200 "
   ]
  },
  {
   "cell_type": "code",
   "execution_count": 2,
   "id": "e752f6da",
   "metadata": {},
   "outputs": [],
   "source": [
    "lphmx2 = read_sbml_model('../models/lphmx2.xml')\n",
    "# lphmx2 = read_sbml_model('../models/lphmx2_raw.xml')\n"
   ]
  },
  {
   "cell_type": "code",
   "execution_count": 25,
   "id": "22c8dea4",
   "metadata": {},
   "outputs": [
    {
     "data": {
      "text/plain": [
       "Text(0.5, 1.0, 'Reaction curation status in GSMM')"
      ]
     },
     "execution_count": 25,
     "metadata": {},
     "output_type": "execute_result"
    },
    {
     "data": {
      "image/png": "[encoded data removed]",
      "text/plain": [
       "<Figure size 576x288 with 1 Axes>"
      ]
     },
     "metadata": {
      "needs_background": "light"
     },
     "output_type": "display_data"
    }
   ],
   "source": [
    "rxn_status = {'boundary':len(lphmx2.boundary),'gene-protein-reaction':0,'gapfill':0}\n",
    "for rxn in lphmx2.reactions:\n",
    "    gpr = rxn.gene_reaction_rule\n",
    "    if '1_' in gpr:\n",
    "        rxn_status['gene-protein-reaction'] +=1\n",
    "    else:\n",
    "        if rxn not in lphmx2.boundary:\n",
    "            rxn_status['gapfill'] += 1\n",
    "plt.figure(figsize=(8,4))\n",
    "plt.bar(rxn_status.keys(),rxn_status.values())  \n",
    "plt.text(x=-0.1,y=200,s='195')\n",
    "plt.text(x=1-0.1,y=1040,s='1032')\n",
    "plt.text(x=2-0.1,y=320,s='312')\n",
    "plt.ylabel('Number of reactions')\n",
    "plt.title('Reaction curation status in GSMM')"
   ]
  },
  {
   "cell_type": "code",
   "execution_count": 20,
   "id": "3465ce8c",
   "metadata": {},
   "outputs": [
    {
     "data": {
      "text/plain": [
       "{'boundary': 195, 'gene-protein-reaction': 1032, 'gapfill': 312}"
      ]
     },
     "execution_count": 20,
     "metadata": {},
     "output_type": "execute_result"
    }
   ],
   "source": [
    "rxn_status"
   ]
  },
  {
   "cell_type": "code",
   "execution_count": 3,
   "id": "a1476d6e",
   "metadata": {},
   "outputs": [],
   "source": [
    "min_med = minimal_medium(lphmx2, 0.5, minimize_components=True)"
   ]
  },
  {
   "cell_type": "code",
   "execution_count": 4,
   "id": "6cb40d62",
   "metadata": {},
   "outputs": [
    {
     "name": "stdout",
     "output_type": "stream",
     "text": [
      "EX_ala_L_glu__L_e      2.376636\n",
      "EX_ca2_e               0.002602\n",
      "EX_cl_e                0.002602\n",
      "EX_coa_e               0.000288\n",
      "EX_cobalt2_e           0.000050\n",
      "EX_cu2_e               0.000354\n",
      "EX_fe3_e               0.007261\n",
      "EX_gly_phe_e           0.092632\n",
      "EX_k_e                 0.097596\n",
      "EX_leu__L_e            0.230665\n",
      "EX_malt_e            552.924763\n",
      "EX_mg2_e               0.004337\n",
      "EX_mn2_e               0.000345\n",
      "EX_ppi_e               0.350647\n",
      "EX_so4_e              32.584081\n",
      "EX_val__L_e            0.212892\n",
      "EX_zn2_e               0.000170\n",
      "dtype: float64\n"
     ]
    }
   ],
   "source": [
    "print(min_med)"
   ]
  },
  {
   "cell_type": "code",
   "execution_count": 16,
   "id": "f772cdc6",
   "metadata": {},
   "outputs": [
    {
     "data": {
      "text/plain": [
       "Text(0.5, 1.0, 'Minimal amino acid uptake for growth rate = 0.5/hr')"
      ]
     },
     "execution_count": 16,
     "metadata": {},
     "output_type": "execute_result"
    },
    {
     "data": {
      "image/png": "[encoded data removed]",
      "text/plain": [
       "<Figure size 576x288 with 1 Axes>"
      ]
     },
     "metadata": {
      "needs_background": "light"
     },
     "output_type": "display_data"
    }
   ],
   "source": [
    "min_aa = {'EX_ala_L_glu__L_e':2.376636,'EX_gly_phe_e':0.092632,'EX_leu__L_e':0.230665,'EX_val__L_e':0.212892}\n",
    "plt.figure(figsize=(8,4))\n",
    "plt.text(x=-0.1,y=2.4,s='2.377')\n",
    "plt.text(x=1-0.1,y=0.1,s='0.093')\n",
    "plt.text(x=2-0.1,y=0.24,s='0.231')\n",
    "plt.text(x=3-0.1,y=0.22,s='0.213')\n",
    "plt.bar(min_aa.keys(),min_aa.values())\n",
    "plt.ylabel('flux(mmol/gDW*hr)')\n",
    "plt.title('Minimal amino acid uptake for growth rate = 0.5/hr')"
   ]
  },
  {
   "cell_type": "markdown",
   "id": "259e114c",
   "metadata": {},
   "source": [
    "# Add missing reactions."
   ]
  },
  {
   "cell_type": "code",
   "execution_count": 3,
   "id": "5b5e4288",
   "metadata": {},
   "outputs": [],
   "source": [
    "# ac_e = Metabolite('ac_e',formula='C2H3O2',name='Acetate',compartment='C_e')\n",
    "# ACt2r = Reaction(id='ACt2r',name='Acetate reversible transport via proton symport', subsystem='',\n",
    "#                   lower_bound=-1000.0, upper_bound=1000.0)\n",
    "# EX_ac_e = Reaction(id='EX_ac_e',name='Acetate exchange', subsystem='', lower_bound=-1000.0, upper_bound=1000.0)\n",
    "# EX_na1_e = Reaction(id='EX_na1_e',name='Sodium exchange', subsystem='', lower_bound=-1000.0, upper_bound=1000.0)\n",
    "# lphmx2.add_metabolites([ac_e])\n",
    "# lphmx2.add_reactions([ ACt2r,EX_ac_e,EX_na1_e ])\n",
    "# lphmx2.reactions.ACt2r.build_reaction_from_string('ac_e + h_e <=> ac_c + h_c')\n",
    "# lphmx2.reactions.EX_ac_e.build_reaction_from_string('ac_e <=>')\n",
    "# lphmx2.reactions.EX_na1_e.build_reaction_from_string('na1_e <=>')"
   ]
  },
  {
   "cell_type": "code",
   "execution_count": 4,
   "id": "69f21797",
   "metadata": {},
   "outputs": [],
   "source": [
    "# cobra.io.write_sbml_model(lphmx2, '../models/lphmx2.xml' )\n",
    "# cobra.io.save_json_model(lphmx2, '../models/lphmx2.json')"
   ]
  },
  {
   "cell_type": "code",
   "execution_count": 4,
   "id": "cabe5be9",
   "metadata": {},
   "outputs": [],
   "source": [
    "medium_db = pd.read_csv('../models/medium_db.tsv',sep='\\t')"
   ]
  },
  {
   "cell_type": "code",
   "execution_count": 5,
   "id": "4504b04f",
   "metadata": {},
   "outputs": [],
   "source": [
    "rich_med = {}\n",
    "for met in list(medium_db['compound']):\n",
    "    if len( lphmx2.metabolites.query(met+'_e') ) > 0:\n",
    "        rich_med['EX_'+met+'_e'] = 1000"
   ]
  },
  {
   "cell_type": "code",
   "execution_count": null,
   "id": "4b7e9ec2",
   "metadata": {},
   "outputs": [],
   "source": [
    "complex_gpr=[]\n",
    "enzymes=[]\n",
    "for r in lphmx2.reactions:\n",
    "    if r.gene_reaction_rule == '' or r.gene_reaction_rule == 'spontaneous':\n",
    "        continue\n",
    "    if '(' in r.gene_reaction_rule:\n",
    "        complex_gpr.append(r.id)\n",
    "    if 'or' in r.gene_reaction_rule:\n",
    "        g_list = r.gene_reaction_rule.split('or')\n",
    "        for g in g_list:\n",
    "            g = g.strip()\n",
    "            enzymes.append( {'Gene':g,'Reaction':r.id,'Relation':'isozyme'})\n",
    "    elif 'and' in r.gene_reaction_rule:\n",
    "        g_list = r.gene_reaction_rule.split('and')\n",
    "        for g in g_list:\n",
    "            g = g.strip()\n",
    "            enzymes.append( {'Gene':g,'Reaction':r.id,'Relation':'subunit'})\n",
    "    else:\n",
    "        g = r.gene_reaction_rule.strip()\n",
    "        enzymes.append( {'Gene':g,'Reaction':r.id,'Relation':'single'})      "
   ]
  },
  {
   "cell_type": "code",
   "execution_count": null,
   "id": "c116dcef",
   "metadata": {},
   "outputs": [],
   "source": [
    "met_tb = pd.DataFrame(enzymes)\n",
    "met_tb.head()"
   ]
  }
 ],
 "metadata": {
  "kernelspec": {
   "display_name": "Python 3 (ipykernel)",
   "language": "python",
   "name": "python3"
  },
  "language_info": {
   "codemirror_mode": {
    "name": "ipython",
    "version": 3
   },
   "file_extension": ".py",
   "mimetype": "text/x-python",
   "name": "python",
   "nbconvert_exporter": "python",
   "pygments_lexer": "ipython3",
   "version": "3.8.10"
  }
 },
 "nbformat": 4,
 "nbformat_minor": 5
}
