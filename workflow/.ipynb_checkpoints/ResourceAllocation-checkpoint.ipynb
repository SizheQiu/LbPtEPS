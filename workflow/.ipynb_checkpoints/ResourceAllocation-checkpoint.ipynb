{
 "cells": [
  {
   "cell_type": "code",
   "execution_count": 1,
   "id": "f39be1a4",
   "metadata": {},
   "outputs": [],
   "source": [
    "import os\n",
    "import pickle as pkl\n",
    "import numpy as np\n",
    "import pandas as pd\n",
    "from matplotlib import pyplot as plt\n",
    "from functions import *\n",
    "import cobra\n",
    "from cobra.io import read_sbml_model,load_json_model\n",
    "from scipy.optimize import curve_fit\n",
    "import seaborn as sns\n",
    "from sklearn.metrics import r2_score\n",
    "from scipy import stats"
   ]
  },
  {
   "cell_type": "code",
   "execution_count": 2,
   "id": "bc86c467",
   "metadata": {},
   "outputs": [],
   "source": [
    "model = load_json_model('../data/GSMM_parameters/LP_WCFS1.json')\n",
    "proB = pd.read_excel('../data/Proteomics/Proteomics_B.xlsx')\n",
    "gene_info = proB[list(proB.columns[0:5])]\n",
    "proB = proB[ ['Accession'] + list(proB.columns[-12:])].fillna(0)\n",
    "uniprot_info = pd.read_csv('../data/Proteomics/uniprotkb_taxonomy_id_220668.tsv',sep='\\t')"
   ]
  },
  {
   "cell_type": "code",
   "execution_count": 3,
   "id": "3646a1f7",
   "metadata": {},
   "outputs": [],
   "source": [
    "deg_5vs6d5_B = pd.read_csv(\"../data/Proteomics/deg_5vs6d5_B.csv\")\n",
    "deg_4d5vs6d5_B = pd.read_csv(\"../data/Proteomics/deg_4d5vs6d5_B.csv\")"
   ]
  },
  {
   "cell_type": "markdown",
   "id": "3a1900b4",
   "metadata": {},
   "source": [
    "# Map expression to reactions\n",
    "* Central carbon metabolism\n",
    "* Purine and pyrimidine"
   ]
  },
  {
   "cell_type": "code",
   "execution_count": 4,
   "id": "3efdc8db",
   "metadata": {},
   "outputs": [],
   "source": [
    "cc_rxns = ['GLCpts','PGMT','GALU','UDPG4E','MAN6PI','PMANM',\n",
    "       'PGI','PFK','FBA','TPI','GAPD','PGK','PGM','ENO','PYK',\n",
    "       'PDH','PTAr','ACKr','PFL','LDH_D','LDH_L','ACCOAC','MACPMT','kaasIII',\n",
    "       'G6PDH2r','PGL','GND','RPE','RPI','TKT1','TKT2','TALA']\n",
    "\n",
    "pyr_rxns = ['ASPCT','DHORTS','DHORD6','ORPT','OMPDC','PRPPS',\n",
    "           'GLUPRT','PRAGS','GARFT','PRFGS','PRAIS','AIRC','PRASCS','ADSL2',\n",
    "           'AICART','IMPC','IMPD','GMPS2']"
   ]
  },
  {
   "cell_type": "code",
   "execution_count": 5,
   "id": "2f8d4dff",
   "metadata": {},
   "outputs": [],
   "source": [
    "def locus2id(locus, uniprot_info):\n",
    "    temp = uniprot_info[uniprot_info['Gene Names (ordered locus)']==locus] \n",
    "    return list(temp['Entry'])[0]\n",
    "    \n",
    "    \n",
    "def get_expr(gene, table, cond):\n",
    "    if gene not in list(table['Accession']):\n",
    "        return 0\n",
    "    temp_pd = (table[table['Accession']==gene]).reset_index().drop(['index'],axis=1)\n",
    "    expr = sum( [temp_pd[cond+'-B'+str(i)][0] for i in range(1,4) ] )/3\n",
    "    return expr\n",
    "\n",
    "def expr_or( gene_list, uniprot_info, expr_table, cond ):\n",
    "    gids = [ locus2id(x.strip(), uniprot_info) for x in gene_list]\n",
    "    expr = sum([get_expr(gid, expr_table, cond) for gid in gids])\n",
    "    return expr\n",
    "\n",
    "def expr_and( gene_list, uniprot_info, expr_table, cond ):\n",
    "    gids = [ locus2id(x.strip(), uniprot_info) for x in gene_list]\n",
    "    expr = min([get_expr(gid, expr_table, cond) for gid in gids])\n",
    "    return expr\n",
    "\n",
    "def get_rxn_expr( gpr, uniprot_info, expr_table, cond):\n",
    "    if '(' not in gpr:\n",
    "        if 'or' in gpr:\n",
    "            expr = expr_or( gpr.split('or'), uniprot_info, expr_table, cond )\n",
    "        else:\n",
    "            expr = expr_and( gpr.split('and'), uniprot_info, expr_table, cond )\n",
    "    elif ('(' in gpr) and ('and' in gpr) and ('or' in gpr): # for GLCpts/AIRC special case\n",
    "        gpr_list = gpr.split('or')\n",
    "        expr_1 = expr_and( gpr_list[0].replace('(','').replace(')','').split('and'), uniprot_info, expr_table, cond )\n",
    "        expr_2 = expr_and( gpr_list[1].replace('(','').replace(')','').split('and'), uniprot_info, expr_table, cond )\n",
    "        expr = expr_1 + expr_2\n",
    "    elif ('(' in gpr) and ('and' in gpr):\n",
    "        gpr = gpr.replace('(','').replace(')','')\n",
    "        expr = expr_and( gpr.split('and'), uniprot_info, expr_table, cond )\n",
    "        \n",
    "    return expr  "
   ]
  },
  {
   "cell_type": "code",
   "execution_count": 6,
   "id": "5ed806ad",
   "metadata": {},
   "outputs": [],
   "source": [
    "data = []\n",
    "for rxn_id in cc_rxns:\n",
    "    temp = {'RXN':rxn_id}\n",
    "    gpr = model.reactions.get_by_id( rxn_id ).gene_reaction_rule\n",
    "    for cond in ['pH6.5','pH5.5','pH5','pH4.5']:\n",
    "        expr = get_rxn_expr( gpr, uniprot_info, proB, cond)\n",
    "        temp[cond] = expr\n",
    "    data.append(temp)\n",
    "    \n",
    "cc_rxn_expr = pd.DataFrame(data)\n",
    "idx_keep = cc_rxn_expr.index[ cc_rxn_expr[cc_rxn_expr.columns[1:5]].sum(axis=1)>0 ]\n",
    "cc_rxn_expr = (cc_rxn_expr.iloc[idx_keep]).reset_index().drop(['index'],axis=1)\n",
    "\n",
    "for acid_cond in ['pH5.5','pH5','pH4.5']:\n",
    "    cc_rxn_expr[ 'Log2FC_'+ acid_cond + 'vsRef' ] = list( np.log2( cc_rxn_expr[acid_cond]/cc_rxn_expr['pH6.5'] ) )\n",
    "# cc_rxn_expr.to_csv('../data/Proteomics/cc_RXN_lfc.csv',index=None)"
   ]
  },
  {
   "cell_type": "code",
   "execution_count": 7,
   "id": "0455b588",
   "metadata": {},
   "outputs": [],
   "source": [
    "data = []\n",
    "for rxn_id in pyr_rxns:\n",
    "    temp = {'RXN':rxn_id}\n",
    "    gpr = model.reactions.get_by_id( rxn_id ).gene_reaction_rule\n",
    "    for cond in ['pH6.5','pH5.5','pH5','pH4.5']:\n",
    "        expr = get_rxn_expr( gpr, uniprot_info, proB, cond)\n",
    "        temp[cond] = expr\n",
    "    data.append(temp)\n",
    "pyr_rxn_expr = pd.DataFrame(data)\n",
    "for acid_cond in ['pH5.5','pH5','pH4.5']:\n",
    "    pyr_rxn_expr[ 'Log2FC_'+ acid_cond + 'vsRef' ] = list( np.log2( pyr_rxn_expr[acid_cond]/pyr_rxn_expr['pH6.5'] ) )\n",
    "# pyr_rxn_expr.to_csv('../data/Proteomics/pyr_RXN_lfc.csv' ,index=None)"
   ]
  },
  {
   "cell_type": "markdown",
   "id": "a5b3b978",
   "metadata": {},
   "source": [
    "# Resource allocation between proteome sectors"
   ]
  },
  {
   "cell_type": "code",
   "execution_count": 8,
   "id": "f26bd486",
   "metadata": {},
   "outputs": [],
   "source": [
    "sectors = {'C':[],'T':[],'A':[],'U':[]}\n",
    "sectors['T'] = ['F9UST3', 'F9UR54','F9UN59','F9UN60'] # lactic acid transporter, GLCpts, "
   ]
  },
  {
   "cell_type": "code",
   "execution_count": 9,
   "id": "5ac6585c",
   "metadata": {},
   "outputs": [],
   "source": [
    "#A sector includes ribosomal proteins, chaperones, DNA/RNA polymerases\n",
    "for i in range(len(gene_info.index) ):\n",
    "    g_name = list(gene_info['Protein Name'])[i]\n",
    "    if 'ribosomal subunit protein' in g_name or 'ribosomal protein' in g_name :\n",
    "        sectors['A'].append( list(gene_info['Accession'])[i].strip() )\n",
    "    elif ('Chaperone' in g_name) or ('Chaperonin' in g_name) or ('chaperone' in g_name) or ('chaperonin' in g_name):\n",
    "        sectors['A'].append( list(gene_info['Accession'])[i].strip() )"
   ]
  },
  {
   "cell_type": "code",
   "execution_count": 10,
   "id": "dece5c0c",
   "metadata": {},
   "outputs": [],
   "source": [
    "cc_proteins = []\n",
    "for rxn_id in cc_rxns:\n",
    "    genes = model.reactions.get_by_id( rxn_id ).genes\n",
    "    for g in genes:\n",
    "        cc_proteins.append( locus2id( g.id, uniprot_info) )\n",
    "cc_proteins = list(set(cc_proteins).intersection(set(list(gene_info['Accession']))))\n",
    "sectors['C'] = cc_proteins"
   ]
  },
  {
   "cell_type": "code",
   "execution_count": 11,
   "id": "4e8060d5",
   "metadata": {},
   "outputs": [],
   "source": [
    "column_names = ('query acc.ver, subject acc.ver, % identity, alignment length, mismatches, gap opens, q. start, q. end, s. start, s. end, evalue, bit score').split(', ')\n",
    "data = []\n",
    "ffile = open('../data/Genome_HMX2/eps_blast_uniprot.tsv', \"rt\")\n",
    "lines = ffile.readlines()\n",
    "ffile.close()\n",
    "for line in lines:\n",
    "    line = line.strip()\n",
    "    if '#' not in line:\n",
    "        data.append( line.split('\\t'))\n",
    "blast_result = pd.DataFrame(data ,columns=column_names)\n",
    "blast_result = blast_result[blast_result['query acc.ver']!='1_990'] #remove AraC\n",
    "EPS_genes = list( set(blast_result['subject acc.ver']).intersection(set(list(gene_info['Accession']))) )\n",
    "EPS_genes = list( set(EPS_genes)-set(cc_proteins) )\n",
    "sectors['U'] = EPS_genes"
   ]
  },
  {
   "cell_type": "code",
   "execution_count": 12,
   "id": "4da834c1",
   "metadata": {},
   "outputs": [],
   "source": [
    "sector_expr = []\n",
    "for sec in ['C','T','A','U']:\n",
    "    data = {'sector':sec}\n",
    "    temp = proB[proB.Accession.isin(sectors[sec])][proB.columns[1:]]\n",
    "    temp_dict = dict(temp.sum())\n",
    "    data.update(temp_dict)\n",
    "    sector_expr.append(data)\n",
    "sec_expr_table = pd.DataFrame(sector_expr)\n",
    "newcol_dict = {x: x.replace('B','') for x in proB.columns[1:]}\n",
    "sec_expr_table = sec_expr_table.rename( columns= newcol_dict )"
   ]
  },
  {
   "cell_type": "code",
   "execution_count": 13,
   "id": "22c0ee79",
   "metadata": {},
   "outputs": [
    {
     "data": {
      "text/html": [
       "<div>\n",
       "<style scoped>\n",
       "    .dataframe tbody tr th:only-of-type {\n",
       "        vertical-align: middle;\n",
       "    }\n",
       "\n",
       "    .dataframe tbody tr th {\n",
       "        vertical-align: top;\n",
       "    }\n",
       "\n",
       "    .dataframe thead th {\n",
       "        text-align: right;\n",
       "    }\n",
       "</style>\n",
       "<table border=\"1\" class=\"dataframe\">\n",
       "  <thead>\n",
       "    <tr style=\"text-align: right;\">\n",
       "      <th></th>\n",
       "      <th>sector</th>\n",
       "      <th>pH6.5-1</th>\n",
       "      <th>pH6.5-2</th>\n",
       "      <th>pH6.5-3</th>\n",
       "      <th>pH5.5-1</th>\n",
       "      <th>pH5.5-2</th>\n",
       "      <th>pH5.5-3</th>\n",
       "      <th>pH5-1</th>\n",
       "      <th>pH5-2</th>\n",
       "      <th>pH5-3</th>\n",
       "      <th>pH4.5-1</th>\n",
       "      <th>pH4.5-2</th>\n",
       "      <th>pH4.5-3</th>\n",
       "    </tr>\n",
       "  </thead>\n",
       "  <tbody>\n",
       "    <tr>\n",
       "      <th>0</th>\n",
       "      <td>C</td>\n",
       "      <td>71.375217</td>\n",
       "      <td>71.007676</td>\n",
       "      <td>70.366571</td>\n",
       "      <td>72.086005</td>\n",
       "      <td>71.663209</td>\n",
       "      <td>72.366470</td>\n",
       "      <td>68.441485</td>\n",
       "      <td>68.785790</td>\n",
       "      <td>68.097180</td>\n",
       "      <td>64.812136</td>\n",
       "      <td>65.872762</td>\n",
       "      <td>65.342449</td>\n",
       "    </tr>\n",
       "    <tr>\n",
       "      <th>1</th>\n",
       "      <td>T</td>\n",
       "      <td>3.302442</td>\n",
       "      <td>3.315682</td>\n",
       "      <td>3.312254</td>\n",
       "      <td>3.628535</td>\n",
       "      <td>3.585963</td>\n",
       "      <td>3.712618</td>\n",
       "      <td>4.282620</td>\n",
       "      <td>4.223713</td>\n",
       "      <td>4.341526</td>\n",
       "      <td>4.698778</td>\n",
       "      <td>4.595434</td>\n",
       "      <td>4.647106</td>\n",
       "    </tr>\n",
       "    <tr>\n",
       "      <th>2</th>\n",
       "      <td>A</td>\n",
       "      <td>67.335147</td>\n",
       "      <td>68.519734</td>\n",
       "      <td>67.355088</td>\n",
       "      <td>60.011841</td>\n",
       "      <td>59.626008</td>\n",
       "      <td>59.950449</td>\n",
       "      <td>66.192857</td>\n",
       "      <td>66.821894</td>\n",
       "      <td>65.563820</td>\n",
       "      <td>64.701355</td>\n",
       "      <td>64.558362</td>\n",
       "      <td>64.629858</td>\n",
       "    </tr>\n",
       "    <tr>\n",
       "      <th>3</th>\n",
       "      <td>U</td>\n",
       "      <td>13.416857</td>\n",
       "      <td>14.061554</td>\n",
       "      <td>13.419528</td>\n",
       "      <td>12.612391</td>\n",
       "      <td>12.648523</td>\n",
       "      <td>12.607449</td>\n",
       "      <td>25.126556</td>\n",
       "      <td>25.206325</td>\n",
       "      <td>25.046787</td>\n",
       "      <td>27.029122</td>\n",
       "      <td>27.001094</td>\n",
       "      <td>27.015108</td>\n",
       "    </tr>\n",
       "  </tbody>\n",
       "</table>\n",
       "</div>"
      ],
      "text/plain": [
       "  sector    pH6.5-1    pH6.5-2    pH6.5-3    pH5.5-1    pH5.5-2    pH5.5-3  \\\n",
       "0      C  71.375217  71.007676  70.366571  72.086005  71.663209  72.366470   \n",
       "1      T   3.302442   3.315682   3.312254   3.628535   3.585963   3.712618   \n",
       "2      A  67.335147  68.519734  67.355088  60.011841  59.626008  59.950449   \n",
       "3      U  13.416857  14.061554  13.419528  12.612391  12.648523  12.607449   \n",
       "\n",
       "       pH5-1      pH5-2      pH5-3    pH4.5-1    pH4.5-2    pH4.5-3  \n",
       "0  68.441485  68.785790  68.097180  64.812136  65.872762  65.342449  \n",
       "1   4.282620   4.223713   4.341526   4.698778   4.595434   4.647106  \n",
       "2  66.192857  66.821894  65.563820  64.701355  64.558362  64.629858  \n",
       "3  25.126556  25.206325  25.046787  27.029122  27.001094  27.015108  "
      ]
     },
     "execution_count": 13,
     "metadata": {},
     "output_type": "execute_result"
    }
   ],
   "source": [
    "old_columns = list(sec_expr_table.columns)\n",
    "sec_expr_table = sec_expr_table.drop(['pH5-1','pH4.5-3'],axis=1) # outliers are replaced by average values\n",
    "sec_expr_table['pH5-1'] = (sec_expr_table['pH5-2'] + sec_expr_table['pH5-3'])/2\n",
    "sec_expr_table['pH4.5-3'] = (sec_expr_table['pH4.5-1'] + sec_expr_table['pH4.5-2'])/2\n",
    "sec_expr_table = sec_expr_table[old_columns]\n",
    "sec_expr_table"
   ]
  },
  {
   "cell_type": "code",
   "execution_count": 14,
   "id": "92072613",
   "metadata": {},
   "outputs": [],
   "source": [
    "sec_ratios = []\n",
    "for sec in ['C','T','A','U']:\n",
    "    data = {'sector':sec}\n",
    "    values = sec_expr_table[sec_expr_table['sector']==sec].values[0][1:]\n",
    "    total = np.array( list(sec_expr_table.sum()[1:]) )\n",
    "    ratios = values/total\n",
    "    temp_dict = {list(sec_expr_table.columns[1:])[i]: ratios[i] for i in range(len(sec_expr_table.columns[1:]))}\n",
    "    data.update(temp_dict)\n",
    "    sec_ratios.append( data )\n",
    "ratio_table = pd.DataFrame(sec_ratios)"
   ]
  },
  {
   "cell_type": "code",
   "execution_count": 15,
   "id": "825a34d4",
   "metadata": {},
   "outputs": [
    {
     "data": {
      "text/html": [
       "<div>\n",
       "<style scoped>\n",
       "    .dataframe tbody tr th:only-of-type {\n",
       "        vertical-align: middle;\n",
       "    }\n",
       "\n",
       "    .dataframe tbody tr th {\n",
       "        vertical-align: top;\n",
       "    }\n",
       "\n",
       "    .dataframe thead th {\n",
       "        text-align: right;\n",
       "    }\n",
       "</style>\n",
       "<table border=\"1\" class=\"dataframe\">\n",
       "  <thead>\n",
       "    <tr style=\"text-align: right;\">\n",
       "      <th></th>\n",
       "      <th>sector</th>\n",
       "      <th>pH6.5-1</th>\n",
       "      <th>pH6.5-2</th>\n",
       "      <th>pH6.5-3</th>\n",
       "      <th>pH5.5-1</th>\n",
       "      <th>pH5.5-2</th>\n",
       "      <th>pH5.5-3</th>\n",
       "      <th>pH5-1</th>\n",
       "      <th>pH5-2</th>\n",
       "      <th>pH5-3</th>\n",
       "      <th>pH4.5-1</th>\n",
       "      <th>pH4.5-2</th>\n",
       "      <th>pH4.5-3</th>\n",
       "    </tr>\n",
       "  </thead>\n",
       "  <tbody>\n",
       "    <tr>\n",
       "      <th>0</th>\n",
       "      <td>C</td>\n",
       "      <td>0.459212</td>\n",
       "      <td>0.452553</td>\n",
       "      <td>0.455584</td>\n",
       "      <td>0.485955</td>\n",
       "      <td>0.485774</td>\n",
       "      <td>0.486867</td>\n",
       "      <td>0.417215</td>\n",
       "      <td>0.416788</td>\n",
       "      <td>0.417648</td>\n",
       "      <td>0.401957</td>\n",
       "      <td>0.406553</td>\n",
       "      <td>0.404260</td>\n",
       "    </tr>\n",
       "    <tr>\n",
       "      <th>1</th>\n",
       "      <td>T</td>\n",
       "      <td>0.021247</td>\n",
       "      <td>0.021132</td>\n",
       "      <td>0.021445</td>\n",
       "      <td>0.024461</td>\n",
       "      <td>0.024308</td>\n",
       "      <td>0.024978</td>\n",
       "      <td>0.026107</td>\n",
       "      <td>0.025592</td>\n",
       "      <td>0.026627</td>\n",
       "      <td>0.029141</td>\n",
       "      <td>0.028362</td>\n",
       "      <td>0.028751</td>\n",
       "    </tr>\n",
       "    <tr>\n",
       "      <th>2</th>\n",
       "      <td>A</td>\n",
       "      <td>0.433219</td>\n",
       "      <td>0.436697</td>\n",
       "      <td>0.436087</td>\n",
       "      <td>0.404559</td>\n",
       "      <td>0.404179</td>\n",
       "      <td>0.403335</td>\n",
       "      <td>0.403508</td>\n",
       "      <td>0.404889</td>\n",
       "      <td>0.402110</td>\n",
       "      <td>0.401270</td>\n",
       "      <td>0.398440</td>\n",
       "      <td>0.399852</td>\n",
       "    </tr>\n",
       "    <tr>\n",
       "      <th>3</th>\n",
       "      <td>U</td>\n",
       "      <td>0.086321</td>\n",
       "      <td>0.089618</td>\n",
       "      <td>0.086884</td>\n",
       "      <td>0.085024</td>\n",
       "      <td>0.085739</td>\n",
       "      <td>0.084820</td>\n",
       "      <td>0.153170</td>\n",
       "      <td>0.152731</td>\n",
       "      <td>0.153615</td>\n",
       "      <td>0.167631</td>\n",
       "      <td>0.166645</td>\n",
       "      <td>0.167137</td>\n",
       "    </tr>\n",
       "  </tbody>\n",
       "</table>\n",
       "</div>"
      ],
      "text/plain": [
       "  sector   pH6.5-1   pH6.5-2   pH6.5-3   pH5.5-1   pH5.5-2   pH5.5-3  \\\n",
       "0      C  0.459212  0.452553  0.455584  0.485955  0.485774  0.486867   \n",
       "1      T  0.021247  0.021132  0.021445  0.024461  0.024308  0.024978   \n",
       "2      A  0.433219  0.436697  0.436087  0.404559  0.404179  0.403335   \n",
       "3      U  0.086321  0.089618  0.086884  0.085024  0.085739  0.084820   \n",
       "\n",
       "      pH5-1     pH5-2     pH5-3   pH4.5-1   pH4.5-2   pH4.5-3  \n",
       "0  0.417215  0.416788  0.417648  0.401957  0.406553  0.404260  \n",
       "1  0.026107  0.025592  0.026627  0.029141  0.028362  0.028751  \n",
       "2  0.403508  0.404889  0.402110  0.401270  0.398440  0.399852  \n",
       "3  0.153170  0.152731  0.153615  0.167631  0.166645  0.167137  "
      ]
     },
     "execution_count": 15,
     "metadata": {},
     "output_type": "execute_result"
    }
   ],
   "source": [
    "ratio_table"
   ]
  },
  {
   "cell_type": "code",
   "execution_count": 16,
   "id": "1249bc57",
   "metadata": {},
   "outputs": [],
   "source": [
    "def add_linear(ax, xdata, ydata):\n",
    "    def func(x, a, b):\n",
    "        return a * x + b\n",
    "    popt, pcov = curve_fit(func, xdata, ydata)\n",
    "    temp_x = np.linspace(min(xdata),max(xdata) )\n",
    "    ax.plot(temp_x, func(temp_x, *popt),'r--')\n",
    "    \n",
    "def get_pv(x,y):\n",
    "    coeff, pv = stats.pearsonr( x, y)\n",
    "    return pv\n",
    "\n",
    "def get_pcc(x,y):\n",
    "    coeff, pv = stats.pearsonr( x, y)\n",
    "    return coeff"
   ]
  },
  {
   "cell_type": "code",
   "execution_count": 17,
   "id": "a49da90d",
   "metadata": {},
   "outputs": [
    {
     "name": "stdout",
     "output_type": "stream",
     "text": [
      "2.341608214934585e-06 -0.9496484836096344\n",
      "0.03371700723193803 -0.6139013782959111\n"
     ]
    }
   ],
   "source": [
    "print(get_pv(ratio_table.iloc[3][1:], ratio_table.iloc[0][1:]),get_pcc(ratio_table.iloc[3][1:], ratio_table.iloc[0][1:]))\n",
    "print(get_pv(ratio_table.iloc[3][1:], ratio_table.iloc[2][1:]),get_pcc(ratio_table.iloc[3][1:], ratio_table.iloc[2][1:]))"
   ]
  },
  {
   "cell_type": "code",
   "execution_count": 18,
   "id": "d7d1429d",
   "metadata": {},
   "outputs": [
    {
     "data": {
      "text/plain": [
       "Text(0.12, 0.425, 'p-value=0.03372')"
      ]
     },
     "execution_count": 18,
     "metadata": {},
     "output_type": "execute_result"
    },
    {
     "data": {
      "image/png": "[encoded data removed]",
      "text/plain": [
       "<Figure size 864x360 with 2 Axes>"
      ]
     },
     "metadata": {
      "needs_background": "light"
     },
     "output_type": "display_data"
    }
   ],
   "source": [
    "pH_colors = ['tab:red']*3+['tab:green']*3+['tab:orange']*3+['tab:blue']*3\n",
    "fig, axs = plt.subplots(1,2,figsize=(12,5))\n",
    "axs[0].scatter(ratio_table.iloc[3][1:], ratio_table.iloc[0][1:],edgecolor='black',linewidth=1, \n",
    "               s=200,alpha=0.8, color=pH_colors)\n",
    "add_linear(axs[0], ratio_table.iloc[3][1:], ratio_table.iloc[0][1:])\n",
    "axs[1].scatter(ratio_table.iloc[3][1:], ratio_table.iloc[2][1:],edgecolor='black',linewidth=1, \n",
    "               s=200,alpha=0.8, color=pH_colors)\n",
    "add_linear(axs[1], ratio_table.iloc[3][1:], ratio_table.iloc[2][1:])\n",
    "for ax in axs:\n",
    "    ax.set_xlabel('U-sector mass fraction',fontsize=14)\n",
    "    ax.grid(linestyle='--')\n",
    "axs[0].set_ylabel('C-sector mass fraction',fontsize=14)\n",
    "axs[1].set_ylabel('A-sector mass fraction',fontsize=14)\n",
    "\n",
    "axs[0].text(0.09,0.44,s='PCC=-0.9496',fontsize=14)\n",
    "axs[0].text(0.09,0.43,s='p-value=2.3416e-06',fontsize=14)\n",
    "axs[1].text(0.12,0.43,s='PCC=-0.6139',fontsize=14)\n",
    "axs[1].text(0.12,0.425,s='p-value=0.03372',fontsize=14)\n",
    "# plt.savefig('../../../../EPS_LP/Figures/proteome_tradeoff.svg',format='svg',dpi=150)"
   ]
  },
  {
   "cell_type": "code",
   "execution_count": 19,
   "id": "bb19834e",
   "metadata": {},
   "outputs": [
    {
     "data": {
      "image/png": "[encoded data removed]",
      "text/plain": [
       "<Figure size 864x864 with 4 Axes>"
      ]
     },
     "metadata": {
      "needs_background": "light"
     },
     "output_type": "display_data"
    }
   ],
   "source": [
    "fig, axs = plt.subplots(2,2,figsize=(12,12))\n",
    "colors = ['tab:blue','tab:cyan','tab:orange','tab:red']\n",
    "conds = ['pH6.5','pH5.5','pH5','pH4.5']\n",
    "for i in range(len(ratio_table.index)):\n",
    "    values = list( ratio_table.iloc[i][1:])\n",
    "    temp_sec = list(ratio_table['sector'])[i]\n",
    "    avgs, stds= [],[]\n",
    "    for j in range(len(conds)):\n",
    "        avgs.append( np.mean([values[j*3],values[j*3+1],values[j*3+2] ]))\n",
    "        stds.append( np.std([values[j*3],values[j*3+1],values[j*3+2] ]) )\n",
    "    x,y = int(i/2), int(i%2)\n",
    "    plot_conds = ['pH 6.5','pH 5.5','pH 5.0','pH 4.5']\n",
    "    axs[x][y].bar(plot_conds, avgs, color =colors[i])\n",
    "    axs[x][y].errorbar(plot_conds, avgs, marker='o',markersize=5, elinewidth=2, yerr=stds,color=\"black\")\n",
    "    axs[x][y].set_title(temp_sec+' sector',fontsize=14)\n",
    "    axs[x][y].set_ylabel('Mass fraction', fontsize=14)\n",
    "axs[0][0].set_ylim([0.3,0.51])\n",
    "axs[0][1].set_ylim([0.01,0.0305])\n",
    "axs[1][0].set_ylim([0.3,0.45])\n",
    "# plt.savefig('../../../../EPS_LP/Figures/sector_vs_pH.svg',format='svg',dpi=150)"
   ]
  },
  {
   "cell_type": "markdown",
   "id": "90e2610b",
   "metadata": {},
   "source": [
    "# Equation discovery for U/(A+C)"
   ]
  },
  {
   "cell_type": "code",
   "execution_count": 42,
   "id": "5a062fec",
   "metadata": {},
   "outputs": [
    {
     "data": {
      "text/html": [
       "<div>\n",
       "<style scoped>\n",
       "    .dataframe tbody tr th:only-of-type {\n",
       "        vertical-align: middle;\n",
       "    }\n",
       "\n",
       "    .dataframe tbody tr th {\n",
       "        vertical-align: top;\n",
       "    }\n",
       "\n",
       "    .dataframe thead th {\n",
       "        text-align: right;\n",
       "    }\n",
       "</style>\n",
       "<table border=\"1\" class=\"dataframe\">\n",
       "  <thead>\n",
       "    <tr style=\"text-align: right;\">\n",
       "      <th></th>\n",
       "      <th>sector</th>\n",
       "      <th>pH6.5-1</th>\n",
       "      <th>pH6.5-2</th>\n",
       "      <th>pH6.5-3</th>\n",
       "      <th>pH5.5-1</th>\n",
       "      <th>pH5.5-2</th>\n",
       "      <th>pH5.5-3</th>\n",
       "      <th>pH5-1</th>\n",
       "      <th>pH5-2</th>\n",
       "      <th>pH5-3</th>\n",
       "      <th>pH4.5-1</th>\n",
       "      <th>pH4.5-2</th>\n",
       "      <th>pH4.5-3</th>\n",
       "    </tr>\n",
       "  </thead>\n",
       "  <tbody>\n",
       "    <tr>\n",
       "      <th>0</th>\n",
       "      <td>C</td>\n",
       "      <td>71.375217</td>\n",
       "      <td>71.007676</td>\n",
       "      <td>70.366571</td>\n",
       "      <td>72.086005</td>\n",
       "      <td>71.663209</td>\n",
       "      <td>72.366470</td>\n",
       "      <td>68.441485</td>\n",
       "      <td>68.785790</td>\n",
       "      <td>68.097180</td>\n",
       "      <td>64.812136</td>\n",
       "      <td>65.872762</td>\n",
       "      <td>65.342449</td>\n",
       "    </tr>\n",
       "    <tr>\n",
       "      <th>1</th>\n",
       "      <td>T</td>\n",
       "      <td>3.302442</td>\n",
       "      <td>3.315682</td>\n",
       "      <td>3.312254</td>\n",
       "      <td>3.628535</td>\n",
       "      <td>3.585963</td>\n",
       "      <td>3.712618</td>\n",
       "      <td>4.282620</td>\n",
       "      <td>4.223713</td>\n",
       "      <td>4.341526</td>\n",
       "      <td>4.698778</td>\n",
       "      <td>4.595434</td>\n",
       "      <td>4.647106</td>\n",
       "    </tr>\n",
       "    <tr>\n",
       "      <th>2</th>\n",
       "      <td>A</td>\n",
       "      <td>67.335147</td>\n",
       "      <td>68.519734</td>\n",
       "      <td>67.355088</td>\n",
       "      <td>60.011841</td>\n",
       "      <td>59.626008</td>\n",
       "      <td>59.950449</td>\n",
       "      <td>66.192857</td>\n",
       "      <td>66.821894</td>\n",
       "      <td>65.563820</td>\n",
       "      <td>64.701355</td>\n",
       "      <td>64.558362</td>\n",
       "      <td>64.629858</td>\n",
       "    </tr>\n",
       "    <tr>\n",
       "      <th>3</th>\n",
       "      <td>U</td>\n",
       "      <td>13.416857</td>\n",
       "      <td>14.061554</td>\n",
       "      <td>13.419528</td>\n",
       "      <td>12.612391</td>\n",
       "      <td>12.648523</td>\n",
       "      <td>12.607449</td>\n",
       "      <td>25.126556</td>\n",
       "      <td>25.206325</td>\n",
       "      <td>25.046787</td>\n",
       "      <td>27.029122</td>\n",
       "      <td>27.001094</td>\n",
       "      <td>27.015108</td>\n",
       "    </tr>\n",
       "  </tbody>\n",
       "</table>\n",
       "</div>"
      ],
      "text/plain": [
       "  sector    pH6.5-1    pH6.5-2    pH6.5-3    pH5.5-1    pH5.5-2    pH5.5-3  \\\n",
       "0      C  71.375217  71.007676  70.366571  72.086005  71.663209  72.366470   \n",
       "1      T   3.302442   3.315682   3.312254   3.628535   3.585963   3.712618   \n",
       "2      A  67.335147  68.519734  67.355088  60.011841  59.626008  59.950449   \n",
       "3      U  13.416857  14.061554  13.419528  12.612391  12.648523  12.607449   \n",
       "\n",
       "       pH5-1      pH5-2      pH5-3    pH4.5-1    pH4.5-2    pH4.5-3  \n",
       "0  68.441485  68.785790  68.097180  64.812136  65.872762  65.342449  \n",
       "1   4.282620   4.223713   4.341526   4.698778   4.595434   4.647106  \n",
       "2  66.192857  66.821894  65.563820  64.701355  64.558362  64.629858  \n",
       "3  25.126556  25.206325  25.046787  27.029122  27.001094  27.015108  "
      ]
     },
     "execution_count": 42,
     "metadata": {},
     "output_type": "execute_result"
    }
   ],
   "source": [
    "sec_expr_table"
   ]
  },
  {
   "cell_type": "code",
   "execution_count": 30,
   "id": "59c630b9",
   "metadata": {},
   "outputs": [],
   "source": [
    "c_fracs = sec_expr_table.iloc[0][1:].values\n",
    "a_fracs = sec_expr_table.iloc[2][1:].values\n",
    "u_fracs = sec_expr_table.iloc[3][1:].values\n",
    "up_ratios = u_fracs/(a_fracs+c_fracs)\n",
    "\n",
    "u_avgs, u_stds=[],[]\n",
    "for i in range(4):\n",
    "    u_avgs.append(  np.mean([up_ratios[i*3],up_ratios[i*3+1],up_ratios[i*3+2] ]) )\n",
    "    u_stds.append( np.std([up_ratios[i*3],up_ratios[i*3+1],up_ratios[i*3+2] ])  )"
   ]
  },
  {
   "cell_type": "code",
   "execution_count": 32,
   "id": "1fcfa909",
   "metadata": {},
   "outputs": [
    {
     "name": "stdout",
     "output_type": "stream",
     "text": [
      "[ 0.10955478 44.60158979  5.03197226]\n"
     ]
    }
   ],
   "source": [
    "conds = [6.5,5.5,5.0,4.5]\n",
    "def sigmoid_func(x, r1, k1, k2):\n",
    "    r0=0.0983;\n",
    "    return r0+r1/(1+np.exp(k1*(x-k2)))\n",
    "\n",
    "popt, pcov = curve_fit( sigmoid_func, conds, u_avgs)\n",
    "print(popt)"
   ]
  },
  {
   "cell_type": "code",
   "execution_count": 48,
   "id": "18c01787",
   "metadata": {},
   "outputs": [
    {
     "name": "stdout",
     "output_type": "stream",
     "text": [
      "0.9993252553354687\n"
     ]
    },
    {
     "data": {
      "image/png": "[encoded data removed]",
      "text/plain": [
       "<Figure size 432x360 with 1 Axes>"
      ]
     },
     "metadata": {
      "needs_background": "light"
     },
     "output_type": "display_data"
    }
   ],
   "source": [
    "fig, ax = plt.subplots(1,1,figsize=(6,5))\n",
    "ax.scatter([6.5]*3+[5.5]*3+[5.0]*3+[4.5]*3, up_ratios, color='tab:red',\n",
    "           alpha=0.7, edgecolor='black', s=200, label='Experiment')\n",
    "temp_pHs = np.linspace(4.2, 6.7,num=100)\n",
    "ax.plot(temp_pHs, [sigmoid_func(x, 0.1096, 44.6016, 5.0320) for x in temp_pHs],\n",
    "        color='black',linestyle='--', label='Approximation')\n",
    "\n",
    "r2 =  r2_score( [sigmoid_func(x, 0.1096, 44.6016, 5.0320) for x in conds],u_avgs )\n",
    "print(r2)\n",
    "ax.text(5.5,0.18,s='R2=0.9993',fontsize=15)\n",
    "ax.text(5.2,0.16,s=r'$\\frac{U}{A+C}=r_{0}+\\frac{r_{1}}{1+e^{k_{pH}*(pH-k_{1})} }$',fontsize=15)\n",
    "\n",
    "ax.set_ylim([0.06,0.23])\n",
    "ax.set_xlim([4.2,6.7])\n",
    "ax.grid(linestyle='--')\n",
    "ax.legend()\n",
    "ax.set_xlabel('pH',fontsize=14)\n",
    "ax.set_ylabel('U/(A+C) mass ratio',fontsize=14)\n",
    "# plt.savefig('../../../../EPS_LP/Figures/Ufrac_curvefit.svg',format='svg',dpi=150)"
   ]
  }
 ],
 "metadata": {
  "kernelspec": {
   "display_name": "Python 3 (ipykernel)",
   "language": "python",
   "name": "python3"
  },
  "language_info": {
   "codemirror_mode": {
    "name": "ipython",
    "version": 3
   },
   "file_extension": ".py",
   "mimetype": "text/x-python",
   "name": "python",
   "nbconvert_exporter": "python",
   "pygments_lexer": "ipython3",
   "version": "3.8.10"
  }
 },
 "nbformat": 4,
 "nbformat_minor": 5
}
