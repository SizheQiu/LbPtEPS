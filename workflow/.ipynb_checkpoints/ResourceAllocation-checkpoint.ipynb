{
 "cells": [
  {
   "cell_type": "code",
   "execution_count": 46,
   "id": "f39be1a4",
   "metadata": {},
   "outputs": [],
   "source": [
    "import os\n",
    "import pickle as pkl\n",
    "import numpy as np\n",
    "import pandas as pd\n",
    "from matplotlib import pyplot as plt\n",
    "from functions import *\n",
    "import cobra\n",
    "from cobra.io import read_sbml_model,load_json_model\n",
    "from scipy.optimize import curve_fit\n",
    "import seaborn as sns"
   ]
  },
  {
   "cell_type": "code",
   "execution_count": 3,
   "id": "bc86c467",
   "metadata": {},
   "outputs": [],
   "source": [
    "model = load_json_model('../data/GSMM_parameters/LP_WCFS1.json')\n",
    "proB = pd.read_excel('../data/Proteomics/Proteomics_B.xlsx')\n",
    "gene_info = proB[list(proB.columns[0:5])]\n",
    "proB = proB[ ['Accession'] + list(proB.columns[-12:])].fillna(0)\n",
    "uniprot_info = pd.read_csv('../data/Proteomics/uniprotkb_taxonomy_id_220668.tsv',sep='\\t')"
   ]
  },
  {
   "cell_type": "markdown",
   "id": "3a1900b4",
   "metadata": {},
   "source": [
    "# Map expression to reactions\n",
    "* Central carbon metabolism\n",
    "* Purine and pyrimidine"
   ]
  },
  {
   "cell_type": "code",
   "execution_count": 4,
   "id": "3efdc8db",
   "metadata": {},
   "outputs": [],
   "source": [
    "cc_rxns = ['GLCpts','PGMT','GALU','UDPG4E','MAN6PI','PMANM',\n",
    "       'PGI','PFK','FBA','TPI','GAPD','PGK','PGM','ENO','PYK',\n",
    "       'PDH','PTAr','ACKr','PFL','LDH_D','LDH_L','ACCOAC','MACPMT','kaasIII',\n",
    "       'G6PDH2r','PGL','GND','RPE','RPI','TKT1','TKT2','TALA']\n",
    "\n",
    "pyr_rxns = ['ASPCT','DHORTS','DHORD6','ORPT','OMPDC','PRPPS',\n",
    "           'GLUPRT','PRAGS','GARFT','PRFGS','PRAIS','AIRC','PRASCS','ADSL2',\n",
    "           'AICART','IMPC','IMPD','GMPS2']"
   ]
  },
  {
   "cell_type": "code",
   "execution_count": 5,
   "id": "2f8d4dff",
   "metadata": {},
   "outputs": [],
   "source": [
    "def locus2id(locus, uniprot_info):\n",
    "    temp = uniprot_info[uniprot_info['Gene Names (ordered locus)']==locus] \n",
    "    return list(temp['Entry'])[0]\n",
    "    \n",
    "    \n",
    "def get_expr(gene, table, cond):\n",
    "    if gene not in list(table['Accession']):\n",
    "        return 0\n",
    "    temp_pd = (table[table['Accession']==gene]).reset_index().drop(['index'],axis=1)\n",
    "    expr = sum( [temp_pd[cond+'-B'+str(i)][0] for i in range(1,4) ] )/3\n",
    "    return expr\n",
    "\n",
    "def expr_or( gene_list, uniprot_info, expr_table, cond ):\n",
    "    gids = [ locus2id(x.strip(), uniprot_info) for x in gene_list]\n",
    "    expr = sum([get_expr(gid, expr_table, cond) for gid in gids])\n",
    "    return expr\n",
    "\n",
    "def expr_and( gene_list, uniprot_info, expr_table, cond ):\n",
    "    gids = [ locus2id(x.strip(), uniprot_info) for x in gene_list]\n",
    "    expr = min([get_expr(gid, expr_table, cond) for gid in gids])\n",
    "    return expr\n",
    "\n",
    "def get_rxn_expr( gpr, uniprot_info, expr_table, cond):\n",
    "    if '(' not in gpr:\n",
    "        if 'or' in gpr:\n",
    "            expr = expr_or( gpr.split('or'), uniprot_info, expr_table, cond )\n",
    "        else:\n",
    "            expr = expr_and( gpr.split('and'), uniprot_info, expr_table, cond )\n",
    "    elif ('(' in gpr) and ('and' in gpr) and ('or' in gpr): # for GLCpts/AIRC special case\n",
    "        gpr_list = gpr.split('or')\n",
    "        expr_1 = expr_and( gpr_list[0].replace('(','').replace(')','').split('and'), uniprot_info, expr_table, cond )\n",
    "        expr_2 = expr_and( gpr_list[1].replace('(','').replace(')','').split('and'), uniprot_info, expr_table, cond )\n",
    "        expr = expr_1 + expr_2\n",
    "    elif ('(' in gpr) and ('and' in gpr):\n",
    "        gpr = gpr.replace('(','').replace(')','')\n",
    "        expr = expr_and( gpr.split('and'), uniprot_info, expr_table, cond )\n",
    "        \n",
    "    return expr  "
   ]
  },
  {
   "cell_type": "code",
   "execution_count": 5,
   "id": "5ed806ad",
   "metadata": {},
   "outputs": [],
   "source": [
    "data = []\n",
    "for rxn_id in cc_rxns:\n",
    "    temp = {'RXN':rxn_id}\n",
    "    gpr = model.reactions.get_by_id( rxn_id ).gene_reaction_rule\n",
    "    for cond in ['pH6.5','pH5.5','pH5','pH4.5']:\n",
    "        expr = get_rxn_expr( gpr, uniprot_info, proB, cond)\n",
    "        temp[cond] = expr\n",
    "    data.append(temp)\n",
    "    \n",
    "cc_rxn_expr = pd.DataFrame(data)\n",
    "idx_keep = cc_rxn_expr.index[ cc_rxn_expr[cc_rxn_expr.columns[1:5]].sum(axis=1)>0 ]\n",
    "cc_rxn_expr = (cc_rxn_expr.iloc[idx_keep]).reset_index().drop(['index'],axis=1)\n",
    "\n",
    "for acid_cond in ['pH5.5','pH5','pH4.5']:\n",
    "    cc_rxn_expr[ 'Log2FC_'+ acid_cond + 'vsRef' ] = list( np.log2( cc_rxn_expr[acid_cond]/cc_rxn_expr['pH6.5'] ) )\n",
    "# cc_rxn_expr.to_csv('../data/Proteomics/cc_RXN_lfc.csv',index=None)"
   ]
  },
  {
   "cell_type": "code",
   "execution_count": 6,
   "id": "0455b588",
   "metadata": {},
   "outputs": [],
   "source": [
    "data = []\n",
    "for rxn_id in pyr_rxns:\n",
    "    temp = {'RXN':rxn_id}\n",
    "    gpr = model.reactions.get_by_id( rxn_id ).gene_reaction_rule\n",
    "    for cond in ['pH6.5','pH5.5','pH5','pH4.5']:\n",
    "        expr = get_rxn_expr( gpr, uniprot_info, proB, cond)\n",
    "        temp[cond] = expr\n",
    "    data.append(temp)\n",
    "pyr_rxn_expr = pd.DataFrame(data)\n",
    "for acid_cond in ['pH5.5','pH5','pH4.5']:\n",
    "    pyr_rxn_expr[ 'Log2FC_'+ acid_cond + 'vsRef' ] = list( np.log2( pyr_rxn_expr[acid_cond]/pyr_rxn_expr['pH6.5'] ) )\n",
    "# pyr_rxn_expr.to_csv('../data/Proteomics/pyr_RXN_lfc.csv' ,index=None)"
   ]
  },
  {
   "cell_type": "markdown",
   "id": "a5b3b978",
   "metadata": {},
   "source": [
    "# Resource allocation between proteome sectors"
   ]
  },
  {
   "cell_type": "code",
   "execution_count": 25,
   "id": "f26bd486",
   "metadata": {},
   "outputs": [],
   "source": [
    "sectors = {'C':[],'T':[],'A':[],'EPS_syn':[]}\n",
    "sectors['T'] = ['F9UST3', 'F9UR54','F9UN59','F9UN60'] # lactic acid transporter, GLCpts, "
   ]
  },
  {
   "cell_type": "code",
   "execution_count": 26,
   "id": "5ac6585c",
   "metadata": {},
   "outputs": [],
   "source": [
    "for i in range(len(gene_info.index) ):\n",
    "    if 'ribosomal subunit protein' in list(gene_info['Protein Name'])[i] \\\n",
    "            or 'ribosomal protein' in list(gene_info['Protein Name'])[i] :\n",
    "        sectors['A'].append( list(gene_info['Accession'])[i].strip() )"
   ]
  },
  {
   "cell_type": "code",
   "execution_count": 27,
   "id": "4e8060d5",
   "metadata": {},
   "outputs": [],
   "source": [
    "column_names = ('query acc.ver, subject acc.ver, % identity, alignment length, mismatches, gap opens, q. start, q. end, s. start, s. end, evalue, bit score').split(', ')\n",
    "data = []\n",
    "ffile = open('../data/Genome_HMX2/eps_blast_uniprot.tsv', \"rt\")\n",
    "lines = ffile.readlines()\n",
    "ffile.close()\n",
    "for line in lines:\n",
    "    line = line.strip()\n",
    "    if '#' not in line:\n",
    "        data.append( line.split('\\t'))\n",
    "blast_result = pd.DataFrame(data ,columns=column_names)\n",
    "blast_result = blast_result[blast_result['query acc.ver']!='1_990']\n",
    "sectors['EPS_syn'] = list( set(blast_result['subject acc.ver']).intersection(set(list(gene_info['Accession']))) )"
   ]
  },
  {
   "cell_type": "code",
   "execution_count": 28,
   "id": "dece5c0c",
   "metadata": {},
   "outputs": [],
   "source": [
    "cc_proteins = []\n",
    "for rxn_id in cc_rxns:\n",
    "    genes = model.reactions.get_by_id( rxn_id ).genes\n",
    "    for g in genes:\n",
    "        cc_proteins.append( locus2id( g.id, uniprot_info) )\n",
    "cc_proteins = list(set(cc_proteins).intersection(set(list(gene_info['Accession']))))\n",
    "sectors['C'] = cc_proteins"
   ]
  },
  {
   "cell_type": "code",
   "execution_count": 44,
   "id": "4da834c1",
   "metadata": {},
   "outputs": [],
   "source": [
    "sector_expr = []\n",
    "for sec in ['C','T','A','EPS_syn']:\n",
    "    data = {'sector':sec}\n",
    "    temp = proB[proB.Accession.isin(sectors[sec])][proB.columns[1:]]\n",
    "    temp_dict = dict(temp.sum())\n",
    "    data.update(temp_dict)\n",
    "    sector_expr.append(data)\n",
    "sec_expr_table = pd.DataFrame(sector_expr)\n",
    "newcol_dict = {x: x.replace('B','') for x in proB.columns[1:]}\n",
    "sec_expr_table = sec_expr_table.rename( columns= newcol_dict )"
   ]
  },
  {
   "cell_type": "code",
   "execution_count": 58,
   "id": "92072613",
   "metadata": {},
   "outputs": [],
   "source": [
    "sec_ratios = []\n",
    "for sec in ['C','T','A','EPS_syn']:\n",
    "    data = {'sector':sec}\n",
    "    values = sec_expr_table[sec_expr_table['sector']==sec].values[0][1:]\n",
    "    total = np.array( list(sec_expr_table.sum()[1:]) )\n",
    "    ratios = values/total\n",
    "    temp_dict = {list(sec_expr_table.columns[1:])[i]: ratios[i] for i in range(len(sec_expr_table.columns[1:]))}\n",
    "    data.update(temp_dict)\n",
    "    sec_ratios.append( data )\n",
    "ratio_table = pd.DataFrame(sec_ratios)"
   ]
  },
  {
   "cell_type": "code",
   "execution_count": 70,
   "id": "6fb2b001",
   "metadata": {},
   "outputs": [
    {
     "data": {
      "text/html": [
       "<div>\n",
       "<style scoped>\n",
       "    .dataframe tbody tr th:only-of-type {\n",
       "        vertical-align: middle;\n",
       "    }\n",
       "\n",
       "    .dataframe tbody tr th {\n",
       "        vertical-align: top;\n",
       "    }\n",
       "\n",
       "    .dataframe thead th {\n",
       "        text-align: right;\n",
       "    }\n",
       "</style>\n",
       "<table border=\"1\" class=\"dataframe\">\n",
       "  <thead>\n",
       "    <tr style=\"text-align: right;\">\n",
       "      <th></th>\n",
       "      <th>sector</th>\n",
       "      <th>pH6.5-1</th>\n",
       "      <th>pH6.5-2</th>\n",
       "      <th>pH6.5-3</th>\n",
       "      <th>pH5.5-1</th>\n",
       "      <th>pH5.5-2</th>\n",
       "      <th>pH5.5-3</th>\n",
       "      <th>pH5-1</th>\n",
       "      <th>pH5-2</th>\n",
       "      <th>pH5-3</th>\n",
       "      <th>pH4.5-1</th>\n",
       "      <th>pH4.5-2</th>\n",
       "      <th>pH4.5-3</th>\n",
       "    </tr>\n",
       "  </thead>\n",
       "  <tbody>\n",
       "    <tr>\n",
       "      <th>0</th>\n",
       "      <td>C</td>\n",
       "      <td>0.460331</td>\n",
       "      <td>0.455793</td>\n",
       "      <td>0.458713</td>\n",
       "      <td>0.483207</td>\n",
       "      <td>0.482825</td>\n",
       "      <td>0.484436</td>\n",
       "      <td>0.439846</td>\n",
       "      <td>0.418187</td>\n",
       "      <td>0.419291</td>\n",
       "      <td>0.405110</td>\n",
       "      <td>0.410060</td>\n",
       "      <td>0.427868</td>\n",
       "    </tr>\n",
       "    <tr>\n",
       "      <th>1</th>\n",
       "      <td>T</td>\n",
       "      <td>0.021299</td>\n",
       "      <td>0.021283</td>\n",
       "      <td>0.021592</td>\n",
       "      <td>0.024323</td>\n",
       "      <td>0.024160</td>\n",
       "      <td>0.024853</td>\n",
       "      <td>0.024280</td>\n",
       "      <td>0.025678</td>\n",
       "      <td>0.026732</td>\n",
       "      <td>0.029370</td>\n",
       "      <td>0.028607</td>\n",
       "      <td>0.027857</td>\n",
       "    </tr>\n",
       "    <tr>\n",
       "      <th>2</th>\n",
       "      <td>A</td>\n",
       "      <td>0.386521</td>\n",
       "      <td>0.392592</td>\n",
       "      <td>0.391226</td>\n",
       "      <td>0.362353</td>\n",
       "      <td>0.362428</td>\n",
       "      <td>0.362637</td>\n",
       "      <td>0.407613</td>\n",
       "      <td>0.368157</td>\n",
       "      <td>0.364301</td>\n",
       "      <td>0.362696</td>\n",
       "      <td>0.359280</td>\n",
       "      <td>0.418517</td>\n",
       "    </tr>\n",
       "    <tr>\n",
       "      <th>3</th>\n",
       "      <td>EPS_syn</td>\n",
       "      <td>0.131848</td>\n",
       "      <td>0.130331</td>\n",
       "      <td>0.128469</td>\n",
       "      <td>0.130118</td>\n",
       "      <td>0.130587</td>\n",
       "      <td>0.128074</td>\n",
       "      <td>0.128260</td>\n",
       "      <td>0.187978</td>\n",
       "      <td>0.189676</td>\n",
       "      <td>0.202824</td>\n",
       "      <td>0.202053</td>\n",
       "      <td>0.125757</td>\n",
       "    </tr>\n",
       "  </tbody>\n",
       "</table>\n",
       "</div>"
      ],
      "text/plain": [
       "    sector   pH6.5-1   pH6.5-2   pH6.5-3   pH5.5-1   pH5.5-2   pH5.5-3  \\\n",
       "0        C  0.460331  0.455793  0.458713  0.483207  0.482825  0.484436   \n",
       "1        T  0.021299  0.021283  0.021592  0.024323  0.024160  0.024853   \n",
       "2        A  0.386521  0.392592  0.391226  0.362353  0.362428  0.362637   \n",
       "3  EPS_syn  0.131848  0.130331  0.128469  0.130118  0.130587  0.128074   \n",
       "\n",
       "      pH5-1     pH5-2     pH5-3   pH4.5-1   pH4.5-2   pH4.5-3  \n",
       "0  0.439846  0.418187  0.419291  0.405110  0.410060  0.427868  \n",
       "1  0.024280  0.025678  0.026732  0.029370  0.028607  0.027857  \n",
       "2  0.407613  0.368157  0.364301  0.362696  0.359280  0.418517  \n",
       "3  0.128260  0.187978  0.189676  0.202824  0.202053  0.125757  "
      ]
     },
     "execution_count": 70,
     "metadata": {},
     "output_type": "execute_result"
    }
   ],
   "source": [
    "ratio_table"
   ]
  },
  {
   "cell_type": "code",
   "execution_count": 72,
   "id": "e1b05dda",
   "metadata": {},
   "outputs": [
    {
     "data": {
      "text/plain": [
       "<function numpy.mean(a, axis=None, dtype=None, out=None, keepdims=<no value>, *, where=<no value>)>"
      ]
     },
     "execution_count": 72,
     "metadata": {},
     "output_type": "execute_result"
    }
   ],
   "source": [
    "np.mean"
   ]
  },
  {
   "cell_type": "code",
   "execution_count": 81,
   "id": "bb19834e",
   "metadata": {},
   "outputs": [
    {
     "data": {
      "image/png": "[encoded data removed]",
      "text/plain": [
       "<Figure size 1296x288 with 4 Axes>"
      ]
     },
     "metadata": {
      "needs_background": "light"
     },
     "output_type": "display_data"
    }
   ],
   "source": [
    "fig, axs = plt.subplots(1,4,figsize=(18,4))\n",
    "colors = ['tab:blue','tab:cyan','tab:orange','tab:red']\n",
    "conds = ['pH6.5','pH5.5','pH5','pH4.5']\n",
    "for i in range(len(ratio_table.index)):\n",
    "    values = list( ratio_table.iloc[i][1:])\n",
    "    temp_sec = list(ratio_table['sector'])[i]\n",
    "    avgs, stds= [],[]\n",
    "    for j in range(len(conds)):\n",
    "        avgs.append( np.mean([values[j*3],values[j*3+1],values[j*3+2] ]))\n",
    "        stds.append( np.std([values[j*3],values[j*3+1],values[j*3+2] ]) )\n",
    "        \n",
    "    axs[i].bar(conds, avgs, color =colors[i])\n",
    "    axs[i].errorbar(conds, avgs, yerr=stds,color=\"black\")\n",
    "    axs[i].scatter(conds, avgs, s=50, color=\"black\")\n",
    "    if temp_sec == 'EPS_syn':\n",
    "        axs[i].set_title('U/(A+C+T+U)')\n",
    "    else:\n",
    "        axs[i].set_title(temp_sec+'/(A+C+T+U)')\n",
    "axs[0].set_ylabel('Proteome fraction ratio');"
   ]
  },
  {
   "cell_type": "markdown",
   "id": "90e2610b",
   "metadata": {},
   "source": [
    "# Equation discovery for U sector ratio"
   ]
  },
  {
   "cell_type": "code",
   "execution_count": 38,
   "id": "c6378c28",
   "metadata": {},
   "outputs": [
    {
     "name": "stdout",
     "output_type": "stream",
     "text": [
      "[ 4.05301547 48.33125655]\n",
      "[[4.80186401e+13 7.00425995e+13]\n",
      " [7.00425995e+13 1.02167955e+14]]\n"
     ]
    }
   ],
   "source": [
    "u_ratio = []\n",
    "for i in range(4):\n",
    "    u_ratio.append( sec_expr_table.iloc[3,i]/sum(sec_expr_table.iloc[:,i])  )\n",
    "pH_values = [4.5,5.0,5.5,6.5]\n"
   ]
  },
  {
   "cell_type": "code",
   "execution_count": 41,
   "id": "a3ae36bf",
   "metadata": {},
   "outputs": [
    {
     "data": {
      "text/plain": [
       "Text(0, 0.5, 'U/(A+C+T+U)')"
      ]
     },
     "execution_count": 41,
     "metadata": {},
     "output_type": "execute_result"
    },
    {
     "data": {
      "image/png": "[encoded data removed]",
      "text/plain": [
       "<Figure size 432x288 with 1 Axes>"
      ]
     },
     "metadata": {
      "needs_background": "light"
     },
     "output_type": "display_data"
    }
   ],
   "source": [
    "plt.plot([6.5,5.5,5.0,4.5],u_ratio, marker='o',linestyle='--')\n",
    "plt.xticks([4.5,5.0,5.5,6.0,6.5]);\n",
    "plt.xlabel('pH')\n",
    "plt.ylabel('U/(A+C+T+U)')"
   ]
  },
  {
   "cell_type": "code",
   "execution_count": null,
   "id": "e5ff7dfc",
   "metadata": {},
   "outputs": [],
   "source": []
  }
 ],
 "metadata": {
  "kernelspec": {
   "display_name": "Python 3 (ipykernel)",
   "language": "python",
   "name": "python3"
  },
  "language_info": {
   "codemirror_mode": {
    "name": "ipython",
    "version": 3
   },
   "file_extension": ".py",
   "mimetype": "text/x-python",
   "name": "python",
   "nbconvert_exporter": "python",
   "pygments_lexer": "ipython3",
   "version": "3.8.10"
  }
 },
 "nbformat": 4,
 "nbformat_minor": 5
}
