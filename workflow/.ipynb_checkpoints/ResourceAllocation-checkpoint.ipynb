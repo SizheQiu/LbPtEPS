{
 "cells": [
  {
   "cell_type": "code",
   "execution_count": 13,
   "id": "f39be1a4",
   "metadata": {},
   "outputs": [],
   "source": [
    "import os\n",
    "import pickle as pkl\n",
    "import numpy as np\n",
    "import pandas as pd\n",
    "from matplotlib import pyplot as plt\n",
    "from functions import *\n",
    "import cobra\n",
    "from cobra.io import read_sbml_model,load_json_model\n",
    "from cobra import Model, Reaction, Metabolite"
   ]
  },
  {
   "cell_type": "code",
   "execution_count": 14,
   "id": "bc86c467",
   "metadata": {},
   "outputs": [],
   "source": [
    "model = load_json_model('../models/LP_WCFS1.json')\n",
    "proB = pd.read_excel('../data/Proteomics/Proteomics_B.xlsx')\n",
    "uniprot_info = pd.read_csv('../data/Proteomics/uniprotkb_taxonomy_id_220668.tsv',sep='\\t')"
   ]
  },
  {
   "cell_type": "markdown",
   "id": "3a1900b4",
   "metadata": {},
   "source": [
    "# Map expression to reactions\n",
    "* Central carbon metabolism\n",
    "* Purine and pyrimidine"
   ]
  },
  {
   "cell_type": "code",
   "execution_count": 15,
   "id": "3efdc8db",
   "metadata": {},
   "outputs": [],
   "source": [
    "cc_rxns = ['GLCpts','PGMT','GALU','UDPG4E','MAN6PI','PMANM',\n",
    "       'PGI','PFK','FBA','TPI','GAPD','PGK','PGM','ENO','PYK',\n",
    "       'PDH','PTAr','ACKr','PFL','LDH_D','LDH_L','ACCOAC','MACPMT','kaasIII',\n",
    "       'G6PDH2r','PGL','GND','RPE','RPI','TKT1','TKT2','TALA']\n",
    "\n",
    "pyr_rxns = ['ASPCT','DHORTS','DHORD6','ORPT','OMPDC','PRPPS',\n",
    "           'GLUPRT','PRAGS','GARFT','PRFGS','PRAIS','AIRC','PRASCS','ADSL2',\n",
    "           'AICART','IMPC','IMPD','GMPS2']"
   ]
  },
  {
   "cell_type": "code",
   "execution_count": 37,
   "id": "2f8d4dff",
   "metadata": {},
   "outputs": [],
   "source": [
    "def locus2id(locus, uniprot_info):\n",
    "    temp = uniprot_info[uniprot_info['Gene Names (ordered locus)']==locus] \n",
    "    return list(temp['Entry'])[0]\n",
    "    \n",
    "    \n",
    "def get_expr(gene, table, cond):\n",
    "    if gene not in list(table['Accession']):\n",
    "        return 0\n",
    "    temp_pd = (table[table['Accession']==gene]).reset_index().drop(['index'],axis=1)\n",
    "    expr = sum( [temp_pd[cond+'-B'+str(i)][0] for i in range(1,4) ] )/3\n",
    "    return expr\n",
    "\n",
    "def expr_or( gene_list, uniprot_info, expr_table, cond ):\n",
    "    gids = [ locus2id(x.strip(), uniprot_info) for x in gene_list]\n",
    "    expr = sum([get_expr(gid, expr_table, cond) for gid in gids])\n",
    "    return expr\n",
    "\n",
    "def expr_and( gene_list, uniprot_info, expr_table, cond ):\n",
    "    gids = [ locus2id(x.strip(), uniprot_info) for x in gene_list]\n",
    "    expr = min([get_expr(gid, expr_table, cond) for gid in gids])\n",
    "    return expr\n",
    "\n",
    "def get_rxn_expr( gpr, uniprot_info, expr_table, cond):\n",
    "    if '(' not in gpr:\n",
    "        if 'or' in gpr:\n",
    "            expr = expr_or( gpr.split('or'), uniprot_info, expr_table, cond )\n",
    "        else:\n",
    "            expr = expr_and( gpr.split('and'), uniprot_info, expr_table, cond )\n",
    "    elif ('(' in gpr) and ('and' in gpr) and ('or' in gpr): # for GLCpts/AIRC special case\n",
    "        gpr_list = gpr.split('or')\n",
    "        expr_1 = expr_and( gpr_list[0].replace('(','').replace(')','').split('and'), uniprot_info, expr_table, cond )\n",
    "        expr_2 = expr_and( gpr_list[1].replace('(','').replace(')','').split('and'), uniprot_info, expr_table, cond )\n",
    "        expr = expr_1 + expr_2\n",
    "    elif ('(' in gpr) and ('and' in gpr):\n",
    "        gpr = gpr.replace('(','').replace(')','')\n",
    "        expr = expr_and( gpr.split('and'), uniprot_info, expr_table, cond )\n",
    "        \n",
    "    return expr  "
   ]
  },
  {
   "cell_type": "code",
   "execution_count": 22,
   "id": "5ed806ad",
   "metadata": {},
   "outputs": [],
   "source": [
    "data = []\n",
    "for rxn_id in cc_rxns:\n",
    "    temp = {'RXN':rxn_id}\n",
    "    gpr = model.reactions.get_by_id( rxn_id ).gene_reaction_rule\n",
    "    for cond in ['pH6.5','pH5.5','pH5','pH4.5']:\n",
    "        expr = get_rxn_expr( gpr, uniprot_info, proB, cond)\n",
    "        temp[cond] = expr\n",
    "    data.append(temp)\n",
    "    \n",
    "cc_rxn_expr = pd.DataFrame(data)\n",
    "# idx_keep = cc_rxn_expr.index[ cc_rxn_expr[cc_rxn_expr.columns[1:5]].sum(axis=1)>0 ]\n",
    "# cc_rxn_expr = (cc_rxn_expr.iloc[idx_keep]).reset_index().drop(['index'],axis=1)\n",
    "\n",
    "# for acid_cond in ['pH5.5','pH5','pH4.5']:\n",
    "#     cc_rxn_expr[ 'Log2FC_'+ acid_cond + 'vsRef' ] = list( np.log2( cc_rxn_expr[acid_cond]/cc_rxn_expr['pH6.5'] ) )\n",
    "# cc_rxn_expr.to_csv('../data/Proteomics/cc_RXN_lfc.csv',index=None)"
   ]
  },
  {
   "cell_type": "code",
   "execution_count": 41,
   "id": "16bfc571",
   "metadata": {},
   "outputs": [],
   "source": [
    "gpr = model.reactions.get_by_id( 'GLCpts').gene_reaction_rule\n",
    "gpr_list = gpr.split('or')\n",
    "expr_1 = expr_and( gpr_list[0].replace('(','').replace(')','').split('and'), uniprot_info, proB, 'pH5' )\n",
    "expr_2 = expr_and( gpr_list[1].replace('(','').replace(')','').split('and'), uniprot_info, proB, 'pH5' )"
   ]
  },
  {
   "cell_type": "code",
   "execution_count": 24,
   "id": "0455b588",
   "metadata": {},
   "outputs": [],
   "source": [
    "data = []\n",
    "for rxn_id in pyr_rxns:\n",
    "    temp = {'RXN':rxn_id}\n",
    "    gpr = model.reactions.get_by_id( rxn_id ).gene_reaction_rule\n",
    "    for cond in ['pH6.5','pH5.5','pH5','pH4.5']:\n",
    "        expr = get_rxn_expr( gpr, uniprot_info, proAB, cond)\n",
    "        temp[cond] = expr\n",
    "    data.append(temp)\n",
    "pyr_rxn_expr = pd.DataFrame(data)\n",
    "for acid_cond in ['pH5.5','pH5','pH4.5']:\n",
    "    pyr_rxn_expr[ 'Log2FC_'+ acid_cond + 'vsRef' ] = list( np.log2( pyr_rxn_expr[acid_cond]/pyr_rxn_expr['pH6.5'] ) )\n",
    "# pyr_rxn_expr.to_csv('../data/Proteomics/pyr_RXN_lfc.csv' ,index=None)"
   ]
  },
  {
   "cell_type": "code",
   "execution_count": 28,
   "id": "22602c3a",
   "metadata": {},
   "outputs": [
    {
     "data": {
      "text/html": [
       "<div>\n",
       "<style scoped>\n",
       "    .dataframe tbody tr th:only-of-type {\n",
       "        vertical-align: middle;\n",
       "    }\n",
       "\n",
       "    .dataframe tbody tr th {\n",
       "        vertical-align: top;\n",
       "    }\n",
       "\n",
       "    .dataframe thead th {\n",
       "        text-align: right;\n",
       "    }\n",
       "</style>\n",
       "<table border=\"1\" class=\"dataframe\">\n",
       "  <thead>\n",
       "    <tr style=\"text-align: right;\">\n",
       "      <th></th>\n",
       "      <th>RXN</th>\n",
       "      <th>pH6.5</th>\n",
       "      <th>pH5.5</th>\n",
       "      <th>pH5</th>\n",
       "      <th>pH4.5</th>\n",
       "      <th>Log2FC_pH5.5vsRef</th>\n",
       "      <th>Log2FC_pH5vsRef</th>\n",
       "      <th>Log2FC_pH4.5vsRef</th>\n",
       "    </tr>\n",
       "  </thead>\n",
       "  <tbody>\n",
       "    <tr>\n",
       "      <th>0</th>\n",
       "      <td>ASPCT</td>\n",
       "      <td>1.264764</td>\n",
       "      <td>1.577231</td>\n",
       "      <td>0.544190</td>\n",
       "      <td>0.514559</td>\n",
       "      <td>0.318526</td>\n",
       "      <td>-1.216686</td>\n",
       "      <td>-1.297461</td>\n",
       "    </tr>\n",
       "    <tr>\n",
       "      <th>1</th>\n",
       "      <td>DHORTS</td>\n",
       "      <td>1.050922</td>\n",
       "      <td>1.140222</td>\n",
       "      <td>0.427112</td>\n",
       "      <td>0.418967</td>\n",
       "      <td>0.117659</td>\n",
       "      <td>-1.298968</td>\n",
       "      <td>-1.326746</td>\n",
       "    </tr>\n",
       "    <tr>\n",
       "      <th>2</th>\n",
       "      <td>DHORD6</td>\n",
       "      <td>1.348214</td>\n",
       "      <td>1.393343</td>\n",
       "      <td>0.232157</td>\n",
       "      <td>0.200720</td>\n",
       "      <td>0.047501</td>\n",
       "      <td>-2.537874</td>\n",
       "      <td>-2.747795</td>\n",
       "    </tr>\n",
       "    <tr>\n",
       "      <th>3</th>\n",
       "      <td>ORPT</td>\n",
       "      <td>1.319486</td>\n",
       "      <td>1.388778</td>\n",
       "      <td>0.363979</td>\n",
       "      <td>0.366709</td>\n",
       "      <td>0.073840</td>\n",
       "      <td>-1.858050</td>\n",
       "      <td>-1.847269</td>\n",
       "    </tr>\n",
       "    <tr>\n",
       "      <th>4</th>\n",
       "      <td>OMPDC</td>\n",
       "      <td>1.635220</td>\n",
       "      <td>1.770384</td>\n",
       "      <td>0.815709</td>\n",
       "      <td>0.754710</td>\n",
       "      <td>0.114578</td>\n",
       "      <td>-1.003358</td>\n",
       "      <td>-1.115491</td>\n",
       "    </tr>\n",
       "  </tbody>\n",
       "</table>\n",
       "</div>"
      ],
      "text/plain": [
       "      RXN     pH6.5     pH5.5       pH5     pH4.5  Log2FC_pH5.5vsRef  \\\n",
       "0   ASPCT  1.264764  1.577231  0.544190  0.514559           0.318526   \n",
       "1  DHORTS  1.050922  1.140222  0.427112  0.418967           0.117659   \n",
       "2  DHORD6  1.348214  1.393343  0.232157  0.200720           0.047501   \n",
       "3    ORPT  1.319486  1.388778  0.363979  0.366709           0.073840   \n",
       "4   OMPDC  1.635220  1.770384  0.815709  0.754710           0.114578   \n",
       "\n",
       "   Log2FC_pH5vsRef  Log2FC_pH4.5vsRef  \n",
       "0        -1.216686          -1.297461  \n",
       "1        -1.298968          -1.326746  \n",
       "2        -2.537874          -2.747795  \n",
       "3        -1.858050          -1.847269  \n",
       "4        -1.003358          -1.115491  "
      ]
     },
     "execution_count": 28,
     "metadata": {},
     "output_type": "execute_result"
    }
   ],
   "source": [
    "pyr_rxn_expr.head()"
   ]
  },
  {
   "cell_type": "markdown",
   "id": "a5b3b978",
   "metadata": {},
   "source": [
    "# RA relations"
   ]
  },
  {
   "cell_type": "code",
   "execution_count": 50,
   "id": "f26bd486",
   "metadata": {},
   "outputs": [],
   "source": [
    "sectors = {'C':[],'T':[],'A':[],'EPS_syn':[]}\n",
    "sectors['T'] = ['F9UST3', 'F9UR54','F9UN59','F9UN60']"
   ]
  },
  {
   "cell_type": "code",
   "execution_count": 11,
   "id": "5ac6585c",
   "metadata": {},
   "outputs": [],
   "source": [
    "for i in range(len(proB.index) ):\n",
    "    if 'ribosomal subunit protein' in list(proB['Protein Name'])[i] \\\n",
    "            or 'ribosomal protein' in list(proB['Protein Name'])[i] :\n",
    "        sectors['A'].append( list(proB['Accession'])[i].strip() )"
   ]
  },
  {
   "cell_type": "code",
   "execution_count": 51,
   "id": "4e8060d5",
   "metadata": {},
   "outputs": [],
   "source": [
    "column_names = ('query acc.ver, subject acc.ver, % identity, alignment length, mismatches, gap opens, q. start, q. end, s. start, s. end, evalue, bit score').split(', ')\n",
    "data = []\n",
    "ffile = open('../data/Genome_HMX2/eps_blast_uniprot.tsv', \"rt\")\n",
    "lines = ffile.readlines()\n",
    "ffile.close()\n",
    "for line in lines:\n",
    "    line = line.strip()\n",
    "    if '#' not in line:\n",
    "        data.append( line.split('\\t'))\n",
    "blast_result = pd.DataFrame(data ,columns=column_names)\n",
    "sectors['EPS_syn'] = list( set(blast_result['subject acc.ver']) )"
   ]
  },
  {
   "cell_type": "code",
   "execution_count": null,
   "id": "4b285b7d",
   "metadata": {},
   "outputs": [],
   "source": []
  }
 ],
 "metadata": {
  "kernelspec": {
   "display_name": "Python 3 (ipykernel)",
   "language": "python",
   "name": "python3"
  },
  "language_info": {
   "codemirror_mode": {
    "name": "ipython",
    "version": 3
   },
   "file_extension": ".py",
   "mimetype": "text/x-python",
   "name": "python",
   "nbconvert_exporter": "python",
   "pygments_lexer": "ipython3",
   "version": "3.8.10"
  }
 },
 "nbformat": 4,
 "nbformat_minor": 5
}
