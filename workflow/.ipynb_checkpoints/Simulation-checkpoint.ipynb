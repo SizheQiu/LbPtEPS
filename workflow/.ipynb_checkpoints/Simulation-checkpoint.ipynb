{
 "cells": [
  {
   "cell_type": "code",
   "execution_count": 4,
   "id": "ddbba682",
   "metadata": {},
   "outputs": [],
   "source": [
    "import cobra\n",
    "from cobra.io import load_json_model"
   ]
  },
  {
   "cell_type": "markdown",
   "id": "bf6f8099",
   "metadata": {},
   "source": [
    "# Load datasets"
   ]
  },
  {
   "cell_type": "code",
   "execution_count": null,
   "id": "98e1d14c",
   "metadata": {},
   "outputs": [],
   "source": [
    "conv_factor = 0.35\n",
    "growth_free = pd.read_excel('../data/Exp_data/Growth_freepH.xlsx')\n",
    "mass_avg = np.mean(growth_free.iloc[:,2:5].values, axis=1)*conv_factor\n",
    "mass_std = np.std(growth_free.iloc[:,2:5].values, axis=1)*conv_factor\n",
    "eps_avg = np.mean(growth_free.iloc[:,5:].values, axis=1)\n",
    "eps_std = np.std(growth_free.iloc[:,5:].values, axis=1)\n",
    "pH_list = list(growth_free['pH'])"
   ]
  }
 ],
 "metadata": {
  "kernelspec": {
   "display_name": "Python 3 (ipykernel)",
   "language": "python",
   "name": "python3"
  },
  "language_info": {
   "codemirror_mode": {
    "name": "ipython",
    "version": 3
   },
   "file_extension": ".py",
   "mimetype": "text/x-python",
   "name": "python",
   "nbconvert_exporter": "python",
   "pygments_lexer": "ipython3",
   "version": "3.8.10"
  }
 },
 "nbformat": 4,
 "nbformat_minor": 5
}
