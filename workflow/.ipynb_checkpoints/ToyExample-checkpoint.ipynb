{
 "cells": [
  {
   "cell_type": "code",
   "execution_count": 4,
   "id": "5b750903",
   "metadata": {},
   "outputs": [],
   "source": [
    "import cobra\n",
    "from cobra.io import read_sbml_model,load_json_model\n",
    "from cobra import Model, Reaction, Metabolite\n",
    "from cobra.medium import minimal_medium\n",
    "import pandas as pd\n",
    "import numpy as np\n",
    "import matplotlib.pyplot as plt"
   ]
  },
  {
   "cell_type": "code",
   "execution_count": 5,
   "id": "4e0b8a0c",
   "metadata": {},
   "outputs": [],
   "source": [
    "model = load_json_model('../data/GSMM_parameters/LP_WCFS1.json')"
   ]
  },
  {
   "cell_type": "markdown",
   "id": "bfe3aa77",
   "metadata": {},
   "source": [
    "# Pseudo-reactions of EPS repeating unit synthesis"
   ]
  },
  {
   "cell_type": "code",
   "execution_count": 6,
   "id": "3491ff9a",
   "metadata": {},
   "outputs": [],
   "source": [
    "glc_glc_c = Metabolite('glc_glc_c','','EPS intermediate',0,'default')\n",
    "EPS_c = Metabolite('EPS_c','','EPS repeating unit',0,'default')\n",
    "EPS_e = Metabolite('EPS_e','','EPS repeating unit',0,'default')\n",
    "model.add_metabolites([glc_glc_c,EPS_c,EPS_e ])\n",
    "GT1 = Reaction('GT1','GT1','',0,1000)\n",
    "GT2 = Reaction('GT2','GT2','',0,1000)\n",
    "WZX = Reaction('WZX','WZX','',0,1000)\n",
    "EX_EPS_e = Reaction('EX_EPS_e','EX_EPS_e','',-1000,1000)\n",
    "model.add_reactions([GT1, GT2, WZX,EX_EPS_e ])\n",
    "\n",
    "model.reactions.GT1.build_reaction_from_string('udpg_c + glc__D_c --> glc_glc_c + udp_c')\n",
    "model.reactions.GT2.build_reaction_from_string('udpgal_c + glc_glc_c --> EPS_c + udp_c')\n",
    "model.reactions.WZX.build_reaction_from_string('EPS_c + atp_c + h2o_c --> EPS_e + adp_c + pi_c +h_c' )\n",
    "model.reactions.EX_EPS_e.build_reaction_from_string('EPS_e <=> ')\n",
    "\n",
    "model.objective = {model.reactions.biomass_LPL60: 1}\n",
    "\n",
    "model.remove_reactions([model.reactions.F6PA,model.reactions.DHAPT, model.reactions.LDH_D,\n",
    "                       model.reactions.GLCpts, model.reactions.PKL])\n",
    "#fix directions\n",
    "model.reactions.PGI.lower_bound = 0.0\n",
    "model.reactions.FBA.lower_bound = 0.0\n",
    "model.reactions.GAPD.lower_bound = 0.0\n",
    "model.reactions.GALU.lower_bound = 0.0\n",
    "model.reactions.UDPG4E.lower_bound = 0.0\n",
    "model.reactions.PGK.lower_bound = 0.0\n",
    "model.reactions.PGM.lower_bound = 0.0\n",
    "model.reactions.ENO.lower_bound = 0.0\n",
    "model.reactions.LDH_L.build_reaction_from_string('h_c + nadh_c + pyr_c --> lac__L_c + nad_c')\n",
    "model.reactions.LDH_L.lower_bound = 0.0\n",
    "model.reactions.PFL.lower_bound = 0.0\n",
    "model.reactions.PTAr.lower_bound = 0.0\n",
    "model.reactions.ACKr.build_reaction_from_string('actp_c + adp_c --> ac_c + atp_c')\n",
    "model.reactions.ACKr.lower_bound = 0.0"
   ]
  },
  {
   "cell_type": "code",
   "execution_count": 4,
   "id": "6608ba85",
   "metadata": {},
   "outputs": [],
   "source": [
    "cobra.io.save_json_model(model, \"../models/toy.json\")"
   ]
  },
  {
   "cell_type": "code",
   "execution_count": 7,
   "id": "8f0270b3",
   "metadata": {},
   "outputs": [
    {
     "data": {
      "text/plain": [
       "[<matplotlib.lines.Line2D at 0x7fce1eb7b370>]"
      ]
     },
     "execution_count": 7,
     "metadata": {},
     "output_type": "execute_result"
    },
    {
     "data": {
      "image/png": "[encoded data removed]",
      "text/plain": [
       "<Figure size 432x288 with 1 Axes>"
      ]
     },
     "metadata": {
      "needs_background": "light"
     },
     "output_type": "display_data"
    }
   ],
   "source": [
    "x=np.linspace(4.0,6.5)\n",
    "k1, k2 = 2.3, 6.5\n",
    "plt.plot(x, k1/np.exp(k2-x)  ) "
   ]
  },
  {
   "cell_type": "code",
   "execution_count": 7,
   "id": "425b4248",
   "metadata": {},
   "outputs": [],
   "source": [
    "model = load_json_model('../data/GSMM_parameters/toy.json')"
   ]
  },
  {
   "cell_type": "code",
   "execution_count": 8,
   "id": "b42297ca",
   "metadata": {},
   "outputs": [],
   "source": [
    "A_table = pd.read_csv('../data/GSMM_parameters/toy_params.csv')\n",
    "A_dict = {A_table['rxn'][i]:A_table['a'][i] for i in A_table.index}"
   ]
  },
  {
   "cell_type": "code",
   "execution_count": 9,
   "id": "4edeff26",
   "metadata": {},
   "outputs": [],
   "source": [
    "Ptot = 0.299 #g/gDW\n",
    "def init_medium():\n",
    "    out_medium = {}\n",
    "    vitamins = ['EX_btn_e','EX_pnto_R_e', 'EX_ribflv_e', 'EX_thm_e', 'EX_fol_e', 'EX_nac_e','EX_pydam_e']\n",
    "    DNA_materials = ['EX_ade_e', 'EX_gua_e', 'EX_xan_e', 'EX_ura_e','EX_thymd_e']\n",
    "    others = ['EX_mn2_e','EX_so4_e', 'EX_h2o_e', 'EX_h_e', 'EX_pi_e', 'EX_nh4_e']\n",
    "    out_medium['EX_glc_e'] = 100\n",
    "    for k in ['EX_his_L_e', 'EX_ile_L_e', 'EX_leu_L_e', 'EX_lys_L_e', 'EX_met_L_e', \n",
    "                     'EX_phe_L_e', 'EX_thr_L_e', 'EX_trp_L_e', 'EX_val_L_e', 'EX_ala_L_e', \n",
    "                     'EX_arg_L_e', 'EX_asn_L_e', 'EX_asp_L_e', 'EX_cys_L_e', 'EX_gln_L_e', \n",
    "                     'EX_glu_L_e', 'EX_gly_e', 'EX_pro_L_e', 'EX_ser_L_e', 'EX_tyr_L_e']:\n",
    "        out_medium[k] = 0.2\n",
    "    for EX_m in (vitamins+DNA_materials):\n",
    "        out_medium[EX_m] = 10\n",
    "    for EX_m in others:\n",
    "        out_medium[EX_m] = 1000\n",
    "    return out_medium\n",
    "\n",
    "def set_PA( model, ptot, a_dict ):\n",
    "    sigma = 0.5\n",
    "    # anabolism and transportation\n",
    "    expr = model.reactions.biomass_LPL60.flux_expression/a_dict['biomass_LPL60'] +\\\n",
    "           model.reactions.EX_glc_e.flux_expression/(-1*a_dict['EX_glc_e'])  +\\\n",
    "           model.reactions.EX_ac_e.flux_expression/(sigma*a_dict['EX_ac_e']) + \\\n",
    "           model.reactions.EX_lac_L_e.flux_expression/(sigma*a_dict['EX_lac_L_e'])\n",
    "           \n",
    "    for k in a_dict.keys():\n",
    "        if ( 'EX_' not in k ) and ( 'biomass' not in k ):\n",
    "            expr = expr + model.reactions.get_by_id(k).flux_expression/( sigma*a_dict[k] )\n",
    "            \n",
    "        \n",
    "    PA = model.problem.Constraint( expression = expr,name = 'PA', lb= 0, ub = 0.5*ptot)\n",
    "    model.add_cons_vars([ PA ])\n",
    "    \n",
    "    return expr\n",
    "\n",
    "def pH_effect( model,ptot, a_dict, pH):\n",
    "    k1, kpH = 0.2, 2\n",
    "    sigma = 0.5\n",
    "    ratio = k1*np.exp(   -kpH/((6.5-pH)**2) )\n",
    "    p_sector = model.reactions.biomass_LPL60.flux_expression/a_dict['biomass_LPL60'] +\\\n",
    "           model.reactions.EX_glc_e.flux_expression/(-1*a_dict['EX_glc_e'])  +\\\n",
    "           model.reactions.EX_ac_e.flux_expression/(sigma*a_dict['EX_ac_e']) + \\\n",
    "           model.reactions.EX_lac_L_e.flux_expression/(sigma*a_dict['EX_lac_L_e'])\n",
    "    for k in a_dict.keys():\n",
    "        if ( 'EX_' not in k ) and ( 'biomass' not in k ) and (k!='WZX') and ('GT' not in k):\n",
    "            p_sector = p_sector + model.reactions.get_by_id(k).flux_expression/( sigma*a_dict[k] )\n",
    "    \n",
    "    \n",
    "    u_sector = model.reactions.GT1.flux_expression/(sigma*a_dict['GT1']) + \\\n",
    "            model.reactions.GT2.flux_expression/(sigma*a_dict['GT2']) + \\\n",
    "            model.reactions.WZX.flux_expression/(sigma*a_dict['WZX'])\n",
    "    \n",
    "    pH_effect = model.problem.Constraint( expression = u_sector - ratio * ( p_sector + u_sector ),\n",
    "                                         name = 'pH_effect', lb= 0, ub = 0 )\n",
    "    model.add_cons_vars([ pH_effect ])\n",
    "    \n",
    "    return u_sector - ratio * ( p_sector + u_sector )\n",
    "    "
   ]
  },
  {
   "cell_type": "code",
   "execution_count": 12,
   "id": "611a12a9",
   "metadata": {},
   "outputs": [
    {
     "name": "stdout",
     "output_type": "stream",
     "text": [
      "0.9057157606488422\n",
      "19.60178973503961\n"
     ]
    }
   ],
   "source": [
    "Ptot = 0.299\n",
    "pH = 6.4\n",
    "with model:\n",
    "    model.medium = init_medium()\n",
    "    set_PA( model, Ptot, A_dict )\n",
    "    pH_effect( model,Ptot, A_dict, pH)\n",
    "    fluxes = cobra.flux_analysis.pfba(model)\n",
    "    print(fluxes['biomass_LPL60'])\n",
    "    print(fluxes['EX_ac_e'])"
   ]
  },
  {
   "cell_type": "code",
   "execution_count": 14,
   "id": "0cffac87",
   "metadata": {},
   "outputs": [
    {
     "name": "stdout",
     "output_type": "stream",
     "text": [
      "0.7753234798185679\n",
      "0.03022544454234624\n"
     ]
    }
   ],
   "source": [
    "Ptot = 0.299\n",
    "pH = 4.5\n",
    "with model:\n",
    "    model.medium = init_medium()\n",
    "    set_PA( model, Ptot, A_dict )\n",
    "    pH_effect( model,Ptot, A_dict, pH)\n",
    "    fluxes = cobra.flux_analysis.pfba(model)\n",
    "    print(fluxes['biomass_LPL60'])\n",
    "    print(fluxes['WZX'])"
   ]
  },
  {
   "cell_type": "code",
   "execution_count": 15,
   "id": "5babae96",
   "metadata": {},
   "outputs": [],
   "source": [
    "def predict_diffpH(pH):\n",
    "    Ptot = 0.299\n",
    "    with model:\n",
    "        model.medium = init_medium()\n",
    "        set_PA( model, Ptot, A_dict )\n",
    "        pH_effect( model,Ptot, A_dict, pH)\n",
    "        fluxes = cobra.flux_analysis.pfba(model)\n",
    "    return fluxes\n",
    "    "
   ]
  },
  {
   "cell_type": "code",
   "execution_count": 16,
   "id": "112443b5",
   "metadata": {},
   "outputs": [],
   "source": [
    "pH_list = np.linspace(4.0,6.4)\n",
    "grs, EPS_syns = [],[]\n",
    "for v in pH_list:\n",
    "    result = predict_diffpH( v )\n",
    "    grs.append(result['biomass_LPL60'])\n",
    "    EPS_syns.append(result['WZX'])"
   ]
  },
  {
   "cell_type": "code",
   "execution_count": 35,
   "id": "b2dfdae0",
   "metadata": {},
   "outputs": [
    {
     "data": {
      "image/png": "[encoded data removed]",
      "text/plain": [
       "<Figure size 720x360 with 2 Axes>"
      ]
     },
     "metadata": {
      "needs_background": "light"
     },
     "output_type": "display_data"
    }
   ],
   "source": [
    "fig, ax = plt.subplots(1,1, figsize=(10,5))\n",
    "l1 = ax.plot(pH_list, grs, label='Growth rate')\n",
    "ax_0 = ax.twinx()\n",
    "l2 = ax_0.plot(pH_list,EPS_syns, color = 'orange', label = 'EPS synthesis')\n",
    "labs = [l.get_label() for l in (l1+l2)]\n",
    "ax.legend((l1+l2), labs, loc='center left')\n",
    "ax.set_xlabel('pH')\n",
    "ax.set_ylabel('Growth rate(1/hr)')\n",
    "ax_0.set_ylabel('EPS unit synthesis(mmol/gDW/hr)')\n",
    "plt.savefig('../models/toy_gr_eps.svg',format='svg',dpi=150)"
   ]
  },
  {
   "cell_type": "code",
   "execution_count": 24,
   "id": "40b745d4",
   "metadata": {},
   "outputs": [],
   "source": [
    "def get_frac(  model, fluxes, ptot, a_dict ):\n",
    "    sigma = 0.5\n",
    "    out = {'R':(fluxes['biomass_LPL60']/a_dict['biomass_LPL60'])/ptot }\n",
    "    out['T'] = (- fluxes['EX_glc_e']/a_dict['EX_glc_e'] + fluxes['EX_ac_e']/(sigma*a_dict['EX_ac_e']) + \\\n",
    "                    fluxes['EX_lac_L_e']/(sigma*a_dict['EX_lac_L_e']) )/ptot\n",
    "    out['U'] = ( fluxes['GT1']/(sigma*a_dict['GT1']) + \\\n",
    "            fluxes['GT2']/(sigma*a_dict['GT2']) + \\\n",
    "            fluxes['WZX']/(sigma*a_dict['WZX']) )/ptot\n",
    "    C_cost = 0\n",
    "    for k in a_dict.keys():\n",
    "        if ( 'EX_' not in k ) and ( 'biomass' not in k ) and (k!='WZX') and ('GT' not in k):\n",
    "            C_cost = C_cost  + fluxes[k]/( sigma*a_dict[k] )\n",
    "    out['C'] = C_cost/ptot\n",
    "    out['Q'] = 1-(out['U']+out['C']+out['R']+out['T'])\n",
    "    return out\n",
    "    "
   ]
  },
  {
   "cell_type": "code",
   "execution_count": 25,
   "id": "b6f64db2",
   "metadata": {},
   "outputs": [],
   "source": [
    "Pcost_dict = {}\n",
    "for v in [6.4, 5.5, 5.0, 4.5 ]:\n",
    "    fluxes = predict_diffpH(v)\n",
    "    Pcost_dict[v] = get_frac(  model, fluxes, 0.299, A_dict )"
   ]
  },
  {
   "cell_type": "code",
   "execution_count": 36,
   "id": "519723bf",
   "metadata": {},
   "outputs": [
    {
     "data": {
      "image/png": "[encoded data removed]",
      "text/plain": [
       "<Figure size 720x720 with 4 Axes>"
      ]
     },
     "metadata": {},
     "output_type": "display_data"
    }
   ],
   "source": [
    "fig,axs=plt.subplots(1,4, figsize=(10,10))\n",
    "for i in range(len(Pcost_dict.keys())):\n",
    "    pH = list( Pcost_dict.keys() )[i]\n",
    "    axs[i].pie( Pcost_dict[pH].values(), labels=Pcost_dict[pH].keys() )\n",
    "    axs[i].set_title('pH = '+str(pH))\n",
    "plt.savefig('../models/toy_pa.svg',format='svg',dpi=150)"
   ]
  },
  {
   "cell_type": "code",
   "execution_count": null,
   "id": "9374fcca",
   "metadata": {},
   "outputs": [],
   "source": []
  }
 ],
 "metadata": {
  "kernelspec": {
   "display_name": "Python 3 (ipykernel)",
   "language": "python",
   "name": "python3"
  },
  "language_info": {
   "codemirror_mode": {
    "name": "ipython",
    "version": 3
   },
   "file_extension": ".py",
   "mimetype": "text/x-python",
   "name": "python",
   "nbconvert_exporter": "python",
   "pygments_lexer": "ipython3",
   "version": "3.8.10"
  }
 },
 "nbformat": 4,
 "nbformat_minor": 5
}
