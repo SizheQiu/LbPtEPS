{
 "cells": [
  {
   "cell_type": "code",
   "execution_count": 6,
   "id": "9dbc028f",
   "metadata": {},
   "outputs": [],
   "source": [
    "import numpy as np\n",
    "import pandas as pd\n",
    "from sklearn.cluster import spectral_clustering\n",
    "from sklearn.cluster import KMeans\n",
    "from matplotlib import pyplot as plt\n",
    "import networkx as nx\n",
    "import seaborn as sns\n",
    "from functions import *"
   ]
  },
  {
   "cell_type": "code",
   "execution_count": 2,
   "id": "9b64044b",
   "metadata": {},
   "outputs": [],
   "source": [
    "from scipy.stats import kendalltau, pearsonr, spearmanr\n",
    "def pearsonr_pval(x,y):\n",
    "    return pearsonr(x,y)[1]\n",
    "def sig_pv(x):\n",
    "    if x <= 0.05:\n",
    "        return 1\n",
    "    return 0"
   ]
  },
  {
   "cell_type": "markdown",
   "id": "a4fe1f87",
   "metadata": {},
   "source": [
    "# Get expressions of differential expressed proteins"
   ]
  },
  {
   "cell_type": "code",
   "execution_count": 5,
   "id": "8bd68114",
   "metadata": {},
   "outputs": [],
   "source": [
    "deg_5d5vs6d5_B = pd.read_csv(\"../data/Proteomics/deg_5d5vs6d5_B.csv\")\n",
    "deg_5vs6d5_B = pd.read_csv(\"../data/Proteomics/deg_5vs6d5_B.csv\")\n",
    "deg_4d5vs6d5_B = pd.read_csv(\"../data/Proteomics/deg_4d5vs6d5_B.csv\")\n",
    "genes_5d5vs6d5_B = get_deg( deg_5d5vs6d5_B, 'log2FoldChange', 'padj', 0.5, 0.05 )\n",
    "genes_5vs6d5_B = get_deg( deg_5vs6d5_B, 'log2FoldChange', 'padj', 0.5, 0.05 )\n",
    "genes_4d5vs6d5_B = get_deg( deg_4d5vs6d5_B, 'log2FoldChange', 'padj', 0.5, 0.05 )"
   ]
  },
  {
   "cell_type": "code",
   "execution_count": 6,
   "id": "1d27263c",
   "metadata": {},
   "outputs": [
    {
     "name": "stdout",
     "output_type": "stream",
     "text": [
      "895\n"
     ]
    }
   ],
   "source": [
    "deGenes = list( set( genes_5d5vs6d5_B['up'] + genes_5vs6d5_B['up'] + genes_4d5vs6d5_B['up'] +\\\n",
    "    genes_5d5vs6d5_B['down'] + genes_5vs6d5_B['down'] + genes_4d5vs6d5_B['down'] ) )\n",
    "print(len(deGenes))"
   ]
  },
  {
   "cell_type": "code",
   "execution_count": 7,
   "id": "17953f59",
   "metadata": {},
   "outputs": [],
   "source": [
    "proB = pd.read_excel('../data/Proteomics/Proteomics_B.xlsx')\n",
    "geneExp = proB[ ['Accession'] + list(proB.columns[-12:])].fillna(0)\n",
    "geneExp = (geneExp[geneExp.Accession.isin(deGenes)]).reset_index().drop(['index'],axis=1)# select only de genes\n",
    "geneExp = geneExp.T\n",
    "geneExp.columns = geneExp.iloc[0]\n",
    "geneExp = (geneExp.drop(['Accession'], axis=0)).reset_index().drop(['index'],axis=1)"
   ]
  },
  {
   "cell_type": "code",
   "execution_count": 8,
   "id": "e1b494f6",
   "metadata": {},
   "outputs": [],
   "source": [
    "for col in geneExp.columns:\n",
    "    geneExp[col] = geneExp[col].astype(float)"
   ]
  },
  {
   "cell_type": "markdown",
   "id": "7034ecf3",
   "metadata": {},
   "source": [
    "# Co-expression analysis: Pearson corr & Spectral clustering"
   ]
  },
  {
   "cell_type": "code",
   "execution_count": 10,
   "id": "94df2022",
   "metadata": {},
   "outputs": [],
   "source": [
    "# gene_corr = geneExp.corr(method='pearson')\n",
    "# gene_corr_pv = geneExp.corr(method=pearsonr_pval)\n",
    "# result = {'corr_matrix':gene_corr,'pv_matrix':gene_corr_pv}\n",
    "# dump_pickle(result, '../data/Proteomics/corr_result.pkl')"
   ]
  },
  {
   "cell_type": "code",
   "execution_count": 9,
   "id": "8807849a",
   "metadata": {},
   "outputs": [],
   "source": [
    "corr_result = load_pickle('../data/Proteomics/corr_result.pkl')\n",
    "M_corr, M_pv = corr_result['corr_matrix'], corr_result['pv_matrix']\n",
    "M_sig = M_pv.applymap(sig_pv)\n",
    "X = M_corr.iloc[:,:].values\n",
    "gene_list = list( M_corr.columns )\n",
    "adj_matrix = M_sig.iloc[:,:].values"
   ]
  },
  {
   "cell_type": "code",
   "execution_count": 10,
   "id": "13156815",
   "metadata": {},
   "outputs": [],
   "source": [
    "nclusters = np.arange(10,66,2)\n",
    "inertias = []\n",
    "for nc in nclusters:\n",
    "    kmeans = KMeans(n_clusters=nc, random_state=0, n_init=\"auto\").fit( adj_matrix)\n",
    "    inertias.append(kmeans.inertia_)"
   ]
  },
  {
   "cell_type": "code",
   "execution_count": 16,
   "id": "a727830f",
   "metadata": {},
   "outputs": [
    {
     "data": {
      "text/plain": [
       "Text(0, 0.5, 'Inertia')"
      ]
     },
     "execution_count": 16,
     "metadata": {},
     "output_type": "execute_result"
    },
    {
     "data": {
      "image/png": "[encoded data removed]",
      "text/plain": [
       "<Figure size 720x360 with 1 Axes>"
      ]
     },
     "metadata": {
      "needs_background": "light"
     },
     "output_type": "display_data"
    }
   ],
   "source": [
    "fig, ax = plt.subplots(figsize=(10,5))\n",
    "ax.plot(nclusters,inertias, marker = 'o');\n",
    "ax.set_xticks( np.arange(10,66, 5) );\n",
    "ax.set_xlabel('Number of clusters')\n",
    "ax.set_ylabel('Inertia')"
   ]
  },
  {
   "cell_type": "code",
   "execution_count": 22,
   "id": "0a8b891d",
   "metadata": {},
   "outputs": [],
   "source": [
    "cluster_labels = spectral_clustering(adj_matrix, n_clusters=30,\\\n",
    "                assign_labels='discretize',random_state=0)\n",
    "module_info = pd.DataFrame(zip(gene_list,cluster_labels), columns=['Protein','Cluster'])"
   ]
  },
  {
   "cell_type": "code",
   "execution_count": 27,
   "id": "849436fe",
   "metadata": {},
   "outputs": [
    {
     "data": {
      "text/html": [
       "<div>\n",
       "<style scoped>\n",
       "    .dataframe tbody tr th:only-of-type {\n",
       "        vertical-align: middle;\n",
       "    }\n",
       "\n",
       "    .dataframe tbody tr th {\n",
       "        vertical-align: top;\n",
       "    }\n",
       "\n",
       "    .dataframe thead th {\n",
       "        text-align: right;\n",
       "    }\n",
       "</style>\n",
       "<table border=\"1\" class=\"dataframe\">\n",
       "  <thead>\n",
       "    <tr style=\"text-align: right;\">\n",
       "      <th></th>\n",
       "      <th>Protein</th>\n",
       "      <th>Cluster</th>\n",
       "    </tr>\n",
       "  </thead>\n",
       "  <tbody>\n",
       "    <tr>\n",
       "      <th>0</th>\n",
       "      <td>Q88YM5</td>\n",
       "      <td>3</td>\n",
       "    </tr>\n",
       "    <tr>\n",
       "      <th>1</th>\n",
       "      <td>P77886</td>\n",
       "      <td>28</td>\n",
       "    </tr>\n",
       "    <tr>\n",
       "      <th>2</th>\n",
       "      <td>Q88VK7</td>\n",
       "      <td>5</td>\n",
       "    </tr>\n",
       "    <tr>\n",
       "      <th>3</th>\n",
       "      <td>F9UN60</td>\n",
       "      <td>29</td>\n",
       "    </tr>\n",
       "    <tr>\n",
       "      <th>4</th>\n",
       "      <td>Q88U29</td>\n",
       "      <td>2</td>\n",
       "    </tr>\n",
       "  </tbody>\n",
       "</table>\n",
       "</div>"
      ],
      "text/plain": [
       "  Protein  Cluster\n",
       "0  Q88YM5        3\n",
       "1  P77886       28\n",
       "2  Q88VK7        5\n",
       "3  F9UN60       29\n",
       "4  Q88U29        2"
      ]
     },
     "execution_count": 27,
     "metadata": {},
     "output_type": "execute_result"
    }
   ],
   "source": [
    "module_info.head()"
   ]
  },
  {
   "cell_type": "markdown",
   "id": "586521e7",
   "metadata": {},
   "source": [
    "# Analysis of co-expressed modules"
   ]
  },
  {
   "cell_type": "code",
   "execution_count": 41,
   "id": "d9cb400b",
   "metadata": {},
   "outputs": [],
   "source": [
    "regulons = load_pickle('../data/Proteomics/lpwcfs1_regulons.pkl')"
   ]
  },
  {
   "cell_type": "code",
   "execution_count": 29,
   "id": "6cfaa152",
   "metadata": {},
   "outputs": [],
   "source": [
    "m_sizes = []\n",
    "for i in range(30):\n",
    "    m_sizes.append( list(module_info['Cluster']).count(i) )"
   ]
  },
  {
   "cell_type": "code",
   "execution_count": 37,
   "id": "0251f88d",
   "metadata": {},
   "outputs": [
    {
     "data": {
      "image/png": "[encoded data removed]",
      "text/plain": [
       "<Figure size 432x288 with 1 Axes>"
      ]
     },
     "metadata": {
      "needs_background": "light"
     },
     "output_type": "display_data"
    }
   ],
   "source": [
    "plt.hist(m_sizes);\n",
    "plt.xlabel('Module size')\n",
    "plt.ylabel('Count')"
   ]
  },
  {
   "cell_type": "code",
   "execution_count": null,
   "id": "2c4849eb",
   "metadata": {},
   "outputs": [],
   "source": []
  }
 ],
 "metadata": {
  "kernelspec": {
   "display_name": "Python 3 (ipykernel)",
   "language": "python",
   "name": "python3"
  },
  "language_info": {
   "codemirror_mode": {
    "name": "ipython",
    "version": 3
   },
   "file_extension": ".py",
   "mimetype": "text/x-python",
   "name": "python",
   "nbconvert_exporter": "python",
   "pygments_lexer": "ipython3",
   "version": "3.8.10"
  }
 },
 "nbformat": 4,
 "nbformat_minor": 5
}
