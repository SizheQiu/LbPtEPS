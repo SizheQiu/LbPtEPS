{
 "cells": [
  {
   "cell_type": "code",
   "execution_count": 1,
   "id": "0f391ce9",
   "metadata": {},
   "outputs": [],
   "source": [
    "import cobra\n",
    "from cobra.io import read_sbml_model,load_json_model\n",
    "from cobra import Model, Reaction, Metabolite\n",
    "import pandas as pd\n",
    "import numpy as np\n",
    "import matplotlib.pyplot as plt\n",
    "from Bio import SeqIO\n",
    "from Bio.Seq import Seq\n",
    "from Bio.SeqRecord import SeqRecord"
   ]
  },
  {
   "cell_type": "markdown",
   "id": "c24104dc",
   "metadata": {},
   "source": [
    "# Extract tRNA from Lactobacillus plantarum WCFS1"
   ]
  },
  {
   "cell_type": "code",
   "execution_count": 18,
   "id": "d400825e",
   "metadata": {},
   "outputs": [
    {
     "data": {
      "text/plain": [
       "70"
      ]
     },
     "execution_count": 18,
     "metadata": {},
     "output_type": "execute_result"
    }
   ],
   "source": [
    "# trna_counts = {}\n",
    "# rna_records = SeqIO.parse( '../LP_HMX2/220668.9.PATRIC.frn', \"fasta\")\n",
    "# trna_records=[]\n",
    "# for r in rna_records:\n",
    "#     if 'tRNA' in r.description:\n",
    "#         if '?' in r.description:\n",
    "#             continue\n",
    "#         seq = str(r.seq)\n",
    "#         des = str(r.description).split('   ')[1].strip()\n",
    "#         if des not in trna_counts:\n",
    "#             trna_counts[des] = 1\n",
    "#             name = des + '_0'\n",
    "#         else:\n",
    "#             trna_counts[des] += 1\n",
    "#             name = des + '_' + str( trna_counts[des]-1 )\n",
    "#         trna_records.append( SeqRecord(Seq(seq), id = \"\", name=\"\",description=name) )\n",
    "# SeqIO.write( trna_records, '../LP_HMX2/LP_WCFS1_trna.fa' ,\"fasta\")        "
   ]
  },
  {
   "cell_type": "markdown",
   "id": "e6d2543c",
   "metadata": {},
   "source": [
    "# Extract chaperones"
   ]
  },
  {
   "cell_type": "code",
   "execution_count": 17,
   "id": "2293f0fc",
   "metadata": {},
   "outputs": [
    {
     "data": {
      "text/html": [
       "<div>\n",
       "<style scoped>\n",
       "    .dataframe tbody tr th:only-of-type {\n",
       "        vertical-align: middle;\n",
       "    }\n",
       "\n",
       "    .dataframe tbody tr th {\n",
       "        vertical-align: top;\n",
       "    }\n",
       "\n",
       "    .dataframe thead th {\n",
       "        text-align: right;\n",
       "    }\n",
       "</style>\n",
       "<table border=\"1\" class=\"dataframe\">\n",
       "  <thead>\n",
       "    <tr style=\"text-align: right;\">\n",
       "      <th></th>\n",
       "      <th>Gene_ID</th>\n",
       "      <th>GO_terms</th>\n",
       "      <th>Kegg_Gene_Name</th>\n",
       "      <th>Nr_Description</th>\n",
       "    </tr>\n",
       "  </thead>\n",
       "  <tbody>\n",
       "    <tr>\n",
       "      <th>0</th>\n",
       "      <td>1_449</td>\n",
       "      <td>cytoplasm</td>\n",
       "      <td>hslO</td>\n",
       "      <td>MULTISPECIES: Hsp33 family molecular chaperone...</td>\n",
       "    </tr>\n",
       "    <tr>\n",
       "      <th>1</th>\n",
       "      <td>1_549</td>\n",
       "      <td>ATP binding</td>\n",
       "      <td>groES, HSPE1</td>\n",
       "      <td>MULTISPECIES: co-chaperone GroES [Lactobacillus]</td>\n",
       "    </tr>\n",
       "    <tr>\n",
       "      <th>2</th>\n",
       "      <td>1_550</td>\n",
       "      <td>ATP binding</td>\n",
       "      <td>groEL, HSPD1</td>\n",
       "      <td>MULTISPECIES: chaperonin GroEL [Lactobacillus]</td>\n",
       "    </tr>\n",
       "    <tr>\n",
       "      <th>3</th>\n",
       "      <td>1_1801</td>\n",
       "      <td>protein folding</td>\n",
       "      <td>tig</td>\n",
       "      <td>MULTISPECIES: trigger factor [Lactobacillus]</td>\n",
       "    </tr>\n",
       "    <tr>\n",
       "      <th>4</th>\n",
       "      <td>1_2927</td>\n",
       "      <td>metal ion transport</td>\n",
       "      <td>--</td>\n",
       "      <td>MULTISPECIES: copper chaperone [Lactobacillales]</td>\n",
       "    </tr>\n",
       "    <tr>\n",
       "      <th>5</th>\n",
       "      <td>1_1716</td>\n",
       "      <td>ATP binding</td>\n",
       "      <td>dnaJ</td>\n",
       "      <td>MULTISPECIES: molecular chaperone DnaJ [Lactob...</td>\n",
       "    </tr>\n",
       "    <tr>\n",
       "      <th>6</th>\n",
       "      <td>1_1717</td>\n",
       "      <td>ATP binding</td>\n",
       "      <td>dnaK</td>\n",
       "      <td>MULTISPECIES: molecular chaperone DnaK [Lactob...</td>\n",
       "    </tr>\n",
       "    <tr>\n",
       "      <th>7</th>\n",
       "      <td>1_1718</td>\n",
       "      <td>adenyl-nucleotide exchange factor activity</td>\n",
       "      <td>GRPE</td>\n",
       "      <td>co-chaperone GrpE [Lactobacillus plantarum WJL]</td>\n",
       "    </tr>\n",
       "    <tr>\n",
       "      <th>8</th>\n",
       "      <td>1_1627</td>\n",
       "      <td>ATP binding</td>\n",
       "      <td>clpB</td>\n",
       "      <td>MULTISPECIES: ATP-dependent chaperone ClpB [La...</td>\n",
       "    </tr>\n",
       "  </tbody>\n",
       "</table>\n",
       "</div>"
      ],
      "text/plain": [
       "   Gene_ID                                    GO_terms Kegg_Gene_Name  \\\n",
       "0   1_449                                    cytoplasm           hslO   \n",
       "1   1_549                                  ATP binding   groES, HSPE1   \n",
       "2   1_550                                  ATP binding   groEL, HSPD1   \n",
       "3  1_1801                              protein folding            tig   \n",
       "4  1_2927                          metal ion transport             --   \n",
       "5  1_1716                                  ATP binding           dnaJ   \n",
       "6  1_1717                                  ATP binding           dnaK   \n",
       "7  1_1718   adenyl-nucleotide exchange factor activity           GRPE   \n",
       "8  1_1627                                  ATP binding           clpB   \n",
       "\n",
       "                                      Nr_Description  \n",
       "0  MULTISPECIES: Hsp33 family molecular chaperone...  \n",
       "1   MULTISPECIES: co-chaperone GroES [Lactobacillus]  \n",
       "2     MULTISPECIES: chaperonin GroEL [Lactobacillus]  \n",
       "3       MULTISPECIES: trigger factor [Lactobacillus]  \n",
       "4   MULTISPECIES: copper chaperone [Lactobacillales]  \n",
       "5  MULTISPECIES: molecular chaperone DnaJ [Lactob...  \n",
       "6  MULTISPECIES: molecular chaperone DnaK [Lactob...  \n",
       "7    co-chaperone GrpE [Lactobacillus plantarum WJL]  \n",
       "8  MULTISPECIES: ATP-dependent chaperone ClpB [La...  "
      ]
     },
     "execution_count": 17,
     "metadata": {},
     "output_type": "execute_result"
    }
   ],
   "source": [
    "pro_annot = pd.read_csv('../LP_HMX2/BCH.all_annotation.csv')\n",
    "pro_annot = pro_annot[['Gene_ID','GO_terms','Kegg_Gene_Name','Nr_Description']]\n",
    "keep_ind=[]\n",
    "for i in range(len(pro_annot['Gene_ID'])):\n",
    "    if 'chaper' in list(pro_annot['Nr_Description'])[i]:\n",
    "        keep_ind.append(i)\n",
    "    elif list(pro_annot['Kegg_Gene_Name'])[i] in ['tig','groL','groS','dnaK','grpE','dnaJ']:\n",
    "        keep_ind.append(i)\n",
    "keep_ind = list(set(keep_ind))\n",
    "cpr_annot = (pro_annot.iloc[keep_ind]).reset_index().drop(['index'],axis=1)\n",
    "cpr_annot"
   ]
  },
  {
   "cell_type": "code",
   "execution_count": 23,
   "id": "c562c78e",
   "metadata": {},
   "outputs": [
    {
     "data": {
      "text/plain": [
       "8"
      ]
     },
     "execution_count": 23,
     "metadata": {},
     "output_type": "execute_result"
    }
   ],
   "source": [
    "chaperones = {'1_449':'hslO','1_549':'groES','1_550':'groEL','1_1801':'tig',\n",
    "              '1_1716':'dnaJ','1_1717':'dnaK','1_1718':'GRPE','1_1627':'clpB'}\n",
    "prot_records = SeqIO.parse( '../LP_HMX2/BCH.protein.fa', \"fasta\")\n",
    "cpr_records=[]\n",
    "for r in prot_records:\n",
    "    if r.id in chaperones.keys():\n",
    "        ID = '>rba|'+r.id+'|'+chaperones[r.id]\n",
    "        cpr_records.append( SeqRecord(Seq(str(r.seq)), id = ID, name=\"\",description=\"\") )\n",
    "SeqIO.write( cpr_records, '../LP_HMX2/chaperones.fasta' ,\"fasta\")"
   ]
  },
  {
   "cell_type": "markdown",
   "id": "745c9eab",
   "metadata": {},
   "source": [
    "# Extract ribosomal proteins"
   ]
  },
  {
   "cell_type": "code",
   "execution_count": 41,
   "id": "2a278187",
   "metadata": {},
   "outputs": [],
   "source": [
    "rb_prots= [ 'rps' + chr(ord('A')+i) for i in range(21) ] + \\\n",
    "       ['sra'] + ['rpl' + chr(ord('A')+i) for i in range(6)] + ['rpl' + chr(ord('I')+i) for i in range(17)] + \\\n",
    "      [ 'rpm' + chr(ord('A')+i) for i in range(10)] + [ 'inf' + chr(ord('A')+i) for i in range(3)] + \\\n",
    "      ['tsf','tuf','fusA','efp','prfA','prfB']"
   ]
  },
  {
   "cell_type": "code",
   "execution_count": 61,
   "id": "d74d1c78",
   "metadata": {},
   "outputs": [],
   "source": [
    "pro_annot = pd.read_csv('../LP_HMX2/BCH.all_annotation.csv')\n",
    "pro_annot = pro_annot[['Gene_ID','GO_terms','Kegg_Gene_Name','Nr_Description']]\n",
    "keep_ind=[]\n",
    "for i in range(len(pro_annot['Gene_ID'])):\n",
    "    if list(pro_annot['Kegg_Gene_Name'])[i] in ['rimI', 'rimL', 'ysxB']:\n",
    "        continue \n",
    "    if 'ribosomal' in list(pro_annot['Nr_Description'])[i]:\n",
    "        keep_ind.append(i)\n",
    "    else:\n",
    "        for ID in rb_prots:\n",
    "            if ID in list(pro_annot['Kegg_Gene_Name'])[i]:\n",
    "                keep_ind.append(i)\n",
    "keep_ind = list(set(keep_ind) )\n",
    "rb_annot = (pro_annot.iloc[keep_ind]).reset_index().drop(['index'],axis=1)"
   ]
  },
  {
   "cell_type": "code",
   "execution_count": 71,
   "id": "eb01550c",
   "metadata": {},
   "outputs": [],
   "source": [
    "names = []\n",
    "for i in range(len(rb_annot['Kegg_Gene_Name'])):\n",
    "    temp_name = list( rb_annot['Kegg_Gene_Name'] )[i]\n",
    "    for rbp in rb_prots:\n",
    "        if rbp in temp_name:\n",
    "            temp_name = rbp\n",
    "    names.append(temp_name)\n",
    "rb_annot['name'] = names\n",
    "ID_list = list(rb_annot['Gene_ID'])\n",
    "rb_annot['Gene_ID'] = [ ID.strip() for ID in ID_list]"
   ]
  },
  {
   "cell_type": "code",
   "execution_count": 73,
   "id": "5e6d445c",
   "metadata": {},
   "outputs": [],
   "source": [
    "prot_records = SeqIO.parse( '../LP_HMX2/BCH.protein.fa', \"fasta\")\n",
    "rbp_records=[]\n",
    "for r in prot_records:\n",
    "    if r.id in list(rb_annot['Gene_ID']):\n",
    "        temp_name = list(rb_annot[rb_annot['Gene_ID']==r.id]['name'])[0]\n",
    "        ID = '>rba|'+r.id+'|'+temp_name\n",
    "        rbp_records.append( SeqRecord(Seq(str(r.seq)), id = ID, name=\"\",description=\"\") )"
   ]
  },
  {
   "cell_type": "code",
   "execution_count": 76,
   "id": "38390f86",
   "metadata": {},
   "outputs": [
    {
     "data": {
      "text/plain": [
       "60"
      ]
     },
     "execution_count": 76,
     "metadata": {},
     "output_type": "execute_result"
    }
   ],
   "source": [
    "SeqIO.write( rbp_records, '../LP_HMX2/ribosomal_proteins.fasta' ,\"fasta\")"
   ]
  },
  {
   "cell_type": "code",
   "execution_count": null,
   "id": "68b1579f",
   "metadata": {},
   "outputs": [],
   "source": []
  }
 ],
 "metadata": {
  "kernelspec": {
   "display_name": "Python 3 (ipykernel)",
   "language": "python",
   "name": "python3"
  },
  "language_info": {
   "codemirror_mode": {
    "name": "ipython",
    "version": 3
   },
   "file_extension": ".py",
   "mimetype": "text/x-python",
   "name": "python",
   "nbconvert_exporter": "python",
   "pygments_lexer": "ipython3",
   "version": "3.8.10"
  }
 },
 "nbformat": 4,
 "nbformat_minor": 5
}
