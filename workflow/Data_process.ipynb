{
 "cells": [
  {
   "cell_type": "code",
   "execution_count": 1,
   "id": "63839401",
   "metadata": {},
   "outputs": [],
   "source": [
    "import requests\n",
    "import numpy as np\n",
    "import pandas as pd\n",
    "from matplotlib import pyplot as plt\n",
    "import seaborn as sns\n",
    "from brendapyrser import BRENDA\n",
    "import html\n",
    "import pickle\n",
    "from math import exp"
   ]
  },
  {
   "cell_type": "code",
   "execution_count": 3,
   "id": "1958957d",
   "metadata": {},
   "outputs": [],
   "source": [
    "brenda = BRENDA('../../../local_data/brenda.txt')"
   ]
  },
  {
   "cell_type": "code",
   "execution_count": 23,
   "id": "4b339dae",
   "metadata": {},
   "outputs": [],
   "source": [
    "ec_table = pd.read_csv('../data/Parameters/LBPT_EC_brenda.txt',header=None)\n",
    "lp_ec_list = []\n",
    "for i in range(len(ec_table.index)):\n",
    "    lp_ec_list.append( ec_table.loc[i][0].split('\\t')[0].strip())\n",
    "lp_ec_list = list(np.unique(lp_ec_list))"
   ]
  },
  {
   "cell_type": "code",
   "execution_count": 46,
   "id": "0a709916",
   "metadata": {},
   "outputs": [
    {
     "data": {
      "text/plain": [
       "'1.1.1.28'"
      ]
     },
     "execution_count": 46,
     "metadata": {},
     "output_type": "execute_result"
    }
   ],
   "source": [
    "lp_ec_list[5]"
   ]
  },
  {
   "cell_type": "code",
   "execution_count": 40,
   "id": "f3c14f6f",
   "metadata": {},
   "outputs": [],
   "source": [
    "r = brenda.reactions.get_by_id(lp_ec_list[5])"
   ]
  },
  {
   "cell_type": "code",
   "execution_count": null,
   "id": "0fbab07e",
   "metadata": {},
   "outputs": [],
   "source": []
  }
 ],
 "metadata": {
  "kernelspec": {
   "display_name": "Python 3 (ipykernel)",
   "language": "python",
   "name": "python3"
  },
  "language_info": {
   "codemirror_mode": {
    "name": "ipython",
    "version": 3
   },
   "file_extension": ".py",
   "mimetype": "text/x-python",
   "name": "python",
   "nbconvert_exporter": "python",
   "pygments_lexer": "ipython3",
   "version": "3.8.10"
  }
 },
 "nbformat": 4,
 "nbformat_minor": 5
}
