{
 "cells": [
  {
   "cell_type": "code",
   "execution_count": 1,
   "id": "18364fff",
   "metadata": {},
   "outputs": [],
   "source": [
    "import cobra\n",
    "from cobra.io import read_sbml_model,load_json_model\n",
    "from cobra import Model, Reaction, Metabolite\n",
    "from cobra.medium import minimal_medium\n",
    "import pandas as pd\n",
    "import numpy as np\n",
    "import matplotlib.pyplot as plt\n",
    "from Bio import SeqIO\n",
    "from Bio.Seq import Seq\n",
    "from Bio.SeqRecord import SeqRecord"
   ]
  },
  {
   "cell_type": "code",
   "execution_count": 2,
   "id": "0ec64578",
   "metadata": {},
   "outputs": [],
   "source": [
    "model = load_json_model('../data/GSMM_parameters/LP_WCFS1.json')"
   ]
  },
  {
   "cell_type": "markdown",
   "id": "6c3c1d46",
   "metadata": {},
   "source": [
    "# GPR"
   ]
  },
  {
   "cell_type": "code",
   "execution_count": null,
   "id": "300b881a",
   "metadata": {},
   "outputs": [],
   "source": [
    "# gpr_data=[]\n",
    "# for gene in  model.genes:\n",
    "#     for rxn in list(gene.reactions):\n",
    "#         gpr_data.append({'gene':gene.id,'rxn':rxn.id})    \n",
    "# gpr_pd = pd.DataFrame(gpr_data)   \n",
    "# gpr_pd.to_csv('../data/GSMM_parameters/gpr_metnet.csv',index=None)"
   ]
  },
  {
   "cell_type": "code",
   "execution_count": null,
   "id": "ec40d75e",
   "metadata": {},
   "outputs": [],
   "source": [
    "gpr_pd = pd.read_csv('../data/GSMM_parameters/gpr_metnet.csv')\n",
    "uniprot_info = pd.read_csv('../data/Proteomics/uniprotkb_taxonomy_id_220668.tsv',sep='\\t')\n",
    "uniprot_info = uniprot_info.rename({'Gene Names (ordered locus)':'locus_tag'}, axis='columns')\n",
    "metgene_tags = list( set(list(gpr_pd['gene'])) )\n",
    "print(len(metgene_tags))\n",
    "matched_pd = (uniprot_info[uniprot_info.locus_tag.isin(metgene_tags)]).reset_index().drop(['index'],axis=1)\n",
    "metgene_uids = list(matched_pd.Entry)+['F9UST1']"
   ]
  },
  {
   "cell_type": "code",
   "execution_count": null,
   "id": "217436c4",
   "metadata": {},
   "outputs": [],
   "source": [
    "# wcfs1_proteins = SeqIO.parse( \"../data/Proteomics/wcfs1_prot.fasta\", \"fasta\")\n",
    "# met_proteins = []\n",
    "# for seq_record in wcfs1_proteins:\n",
    "#     if str(seq_record.id) in metgene_uids:\n",
    "#         if str(seq_record.id) == 'F9UST1':\n",
    "#             locus_tag = 'lp_0106/lp_0107'\n",
    "#         else:\n",
    "#             locus_tag = list(matched_pd[matched_pd['Entry'] == str(seq_record.id)]['locus_tag'])[0]\n",
    "#         met_proteins.append( SeqRecord(Seq( str(seq_record.seq).replace('*','') ),\\\n",
    "#                                     id = locus_tag+'|'+str(seq_record.id), name=\"\",description=\"\") )\n",
    "# SeqIO.write( met_proteins, '../data/Genome_HMX2/wcfs1_metabolic_proteins.fasta' ,\"fasta\")"
   ]
  },
  {
   "cell_type": "markdown",
   "id": "e72f5ac5",
   "metadata": {},
   "source": [
    "# Remove genes"
   ]
  },
  {
   "cell_type": "markdown",
   "id": "2443c5ae",
   "metadata": {},
   "source": [
    "# Add reactions"
   ]
  },
  {
   "cell_type": "code",
   "execution_count": 3,
   "id": "9e0d023f",
   "metadata": {},
   "outputs": [],
   "source": [
    "model.reactions.FBA.id = 'FDPA'#avoid confusion with FBA(flux balance analysis)\n",
    "#fix directions\n",
    "model.reactions.PGI.lower_bound = 0.0\n",
    "model.reactions.FDPA.lower_bound = 0.0#FBA\n",
    "model.reactions.GAPD.lower_bound = 0.0\n",
    "model.reactions.GALU.lower_bound = 0.0\n",
    "model.reactions.UDPG4E.lower_bound = 0.0\n",
    "model.reactions.PGK.lower_bound = 0.0\n",
    "model.reactions.PGM.lower_bound = 0.0\n",
    "model.reactions.ENO.lower_bound = 0.0\n",
    "model.reactions.LDH_L.build_reaction_from_string('h_c + nadh_c + pyr_c --> lac__L_c + nad_c')\n",
    "model.reactions.LDH_L.lower_bound = 0.0\n",
    "model.reactions.PFL.lower_bound = 0.0\n",
    "model.reactions.PTAr.lower_bound = 0.0\n",
    "model.reactions.ACKr.build_reaction_from_string('actp_c + adp_c --> ac_c + atp_c')\n",
    "model.reactions.ACKr.lower_bound = 0.0\n",
    "model.reactions.MAN6PI.build_reaction_from_string('f6p_c --> man6p_c')\n",
    "model.reactions.MAN6PI.lower_bound = 0.0"
   ]
  },
  {
   "cell_type": "markdown",
   "id": "7df0d9dc",
   "metadata": {},
   "source": [
    "# Pseudo-reactions of EPS repeating unit synthesis"
   ]
  },
  {
   "cell_type": "code",
   "execution_count": 4,
   "id": "abc8432e",
   "metadata": {},
   "outputs": [],
   "source": [
    "gdpmann_c = Metabolite('gdpmann_c','C16H23N5O16P2','GDP-D-mannose',-2,'default')\n",
    "manx14_c = Metabolite('manx14_c','C84H154O70','Mannose residues of EPS repeating unit',0,'default')\n",
    "manx14_glcx6_c = Metabolite('manx14_glcx6_c','C120H220O100','Mannose and glucose residues of EPS repeating unit',0,'default')\n",
    "EPS_c = Metabolite('EPS_c','C126H231O105','EPS repeating unit',0,'default')\n",
    "EPS_e = Metabolite('EPS_e','C126H231O105','EPS repeating unit',0,'default')\n",
    "model.add_metabolites([gdpmann_c, manx14_c,manx14_glcx6_c,EPS_c, EPS_e ])\n",
    "\n",
    "MAN1PT = Reaction('MAN1PT','Mannose-1-phosphate guanylyltransferase (GDP)', 0, 1000)\n",
    "MANT_EPS = Reaction('MANT_EPS','Mannosyltransferase for EPS formation', 0, 1000)\n",
    "GLCT_EPS = Reaction('GLCT_EPS','Glucosyltransferase for EPS formation', 0, 1000)\n",
    "GALT_EPS = Reaction('GALT_EPS','Galactosyltransferase for EPS formation', 0, 1000)\n",
    "WZX = Reaction('WZX','Wzx flippase-mediated membrane translocation','',0,1000)\n",
    "EX_EPS_e = Reaction('EX_EPS_e','EX_EPS_e','',-1000,1000)\n",
    "model.add_reactions([MAN1PT, MANT_EPS, GLCT_EPS,GALT_EPS, WZX,EX_EPS_e ])\n",
    "\n",
    "model.reactions.MAN1PT.build_reaction_from_string('gdp_c + h_c + man1p_c --> gdpmann_c + pi_c')\n",
    "model.reactions.MANT_EPS.build_reaction_from_string('gdpmann_c --> 0.07143 manx14_c + gdp_c')\n",
    "model.reactions.GLCT_EPS.build_reaction_from_string('udpg_c + 0.16667 manx14_c --> 0.16667 manx14_glcx6_c + udp_c')\n",
    "model.reactions.GALT_EPS.build_reaction_from_string('udpgal_c + manx14_glcx6_c --> EPS_c + udp_c')\n",
    "model.reactions.WZX.build_reaction_from_string('EPS_c + atp_c + h2o_c --> EPS_e + adp_c + pi_c +h_c' )\n",
    "model.reactions.EX_EPS_e.build_reaction_from_string('EPS_e <=> ')"
   ]
  },
  {
   "cell_type": "markdown",
   "id": "10908863",
   "metadata": {},
   "source": [
    "# Save the modified model"
   ]
  },
  {
   "cell_type": "code",
   "execution_count": 5,
   "id": "95647964",
   "metadata": {},
   "outputs": [],
   "source": [
    "cobra.io.save_json_model(model, \"../data/GSMM_parameters/LP_HMX2.json\")"
   ]
  },
  {
   "cell_type": "code",
   "execution_count": null,
   "id": "595d8b55",
   "metadata": {},
   "outputs": [],
   "source": []
  }
 ],
 "metadata": {
  "kernelspec": {
   "display_name": "Python 3 (ipykernel)",
   "language": "python",
   "name": "python3"
  },
  "language_info": {
   "codemirror_mode": {
    "name": "ipython",
    "version": 3
   },
   "file_extension": ".py",
   "mimetype": "text/x-python",
   "name": "python",
   "nbconvert_exporter": "python",
   "pygments_lexer": "ipython3",
   "version": "3.8.10"
  }
 },
 "nbformat": 4,
 "nbformat_minor": 5
}
