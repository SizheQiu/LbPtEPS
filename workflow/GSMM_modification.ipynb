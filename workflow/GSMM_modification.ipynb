{
 "cells": [
  {
   "cell_type": "code",
   "execution_count": 12,
   "id": "18364fff",
   "metadata": {},
   "outputs": [],
   "source": [
    "import cobra\n",
    "from cobra.io import read_sbml_model,load_json_model,write_sbml_model\n",
    "from cobra import Model, Reaction, Metabolite\n",
    "from cobra.medium import minimal_medium\n",
    "import pandas as pd\n",
    "import numpy as np\n",
    "import matplotlib.pyplot as plt\n",
    "from Bio import SeqIO\n",
    "from Bio.Seq import Seq\n",
    "from Bio.SeqRecord import SeqRecord\n",
    "from rpcfba import *"
   ]
  },
  {
   "cell_type": "code",
   "execution_count": 13,
   "id": "0ec64578",
   "metadata": {},
   "outputs": [],
   "source": [
    "model = load_json_model('../data/GSMM_parameters/LP_WCFS1.json')\n",
    "model.objective = {model.reactions.biomass_LPL60: 1}"
   ]
  },
  {
   "cell_type": "code",
   "execution_count": 14,
   "id": "2252827d",
   "metadata": {},
   "outputs": [],
   "source": [
    "# write_sbml_model(model, \"../data/GSMM_parameters/LP_WCFS1.xml\")"
   ]
  },
  {
   "cell_type": "markdown",
   "id": "6c3c1d46",
   "metadata": {},
   "source": [
    "# GPR"
   ]
  },
  {
   "cell_type": "code",
   "execution_count": null,
   "id": "300b881a",
   "metadata": {},
   "outputs": [],
   "source": [
    "# gpr_data=[]\n",
    "# for gene in  model.genes:\n",
    "#     for rxn in list(gene.reactions):\n",
    "#         gpr_data.append({'gene':gene.id,'rxn':rxn.id})    \n",
    "# gpr_pd = pd.DataFrame(gpr_data)   \n",
    "# gpr_pd.to_csv('../data/GSMM_parameters/gpr_metnet.csv',index=None)"
   ]
  },
  {
   "cell_type": "code",
   "execution_count": null,
   "id": "ec40d75e",
   "metadata": {},
   "outputs": [],
   "source": [
    "# gpr_pd = pd.read_csv('../data/GSMM_parameters/gpr_metnet.csv')\n",
    "# uniprot_info = pd.read_csv('../data/Proteomics/uniprotkb_taxonomy_id_220668.tsv',sep='\\t')\n",
    "# uniprot_info = uniprot_info.rename({'Gene Names (ordered locus)':'locus_tag'}, axis='columns')\n",
    "# metgene_tags = list( set(list(gpr_pd['gene'])) )\n",
    "# print(len(metgene_tags))\n",
    "# matched_pd = (uniprot_info[uniprot_info.locus_tag.isin(metgene_tags)]).reset_index().drop(['index'],axis=1)\n",
    "# metgene_uids = list(matched_pd.Entry)+['F9UST1']"
   ]
  },
  {
   "cell_type": "code",
   "execution_count": null,
   "id": "217436c4",
   "metadata": {},
   "outputs": [],
   "source": [
    "# wcfs1_proteins = SeqIO.parse( \"../data/Proteomics/wcfs1_prot.fasta\", \"fasta\")\n",
    "# met_proteins = []\n",
    "# for seq_record in wcfs1_proteins:\n",
    "#     if str(seq_record.id) in metgene_uids:\n",
    "#         if str(seq_record.id) == 'F9UST1':\n",
    "#             locus_tag = 'lp_0106/lp_0107'\n",
    "#         else:\n",
    "#             locus_tag = list(matched_pd[matched_pd['Entry'] == str(seq_record.id)]['locus_tag'])[0]\n",
    "#         met_proteins.append( SeqRecord(Seq( str(seq_record.seq).replace('*','') ),\\\n",
    "#                                     id = locus_tag+'|'+str(seq_record.id), name=\"\",description=\"\") )\n",
    "# SeqIO.write( met_proteins, '../data/Genome_HMX2/wcfs1_metabolic_proteins.fasta' ,\"fasta\")"
   ]
  },
  {
   "cell_type": "markdown",
   "id": "e72f5ac5",
   "metadata": {},
   "source": [
    "# Remove genes"
   ]
  },
  {
   "cell_type": "code",
   "execution_count": 3,
   "id": "01880af4",
   "metadata": {},
   "outputs": [],
   "source": [
    "model.remove_reactions([model.reactions.GLCt2r, model.reactions.PKL,model.reactions.GALM,\n",
    "                model.reactions.F6PA, model.reactions.DHAPT],  remove_orphans=True)\n",
    "model.remove_metabolites([model.metabolites.a_gal__D_c])"
   ]
  },
  {
   "cell_type": "markdown",
   "id": "2443c5ae",
   "metadata": {},
   "source": [
    "# Add reactions"
   ]
  },
  {
   "cell_type": "code",
   "execution_count": 4,
   "id": "9e0d023f",
   "metadata": {},
   "outputs": [],
   "source": [
    "model.reactions.GALK2.id = 'GALK'\n",
    "model.reactions.GALK.build_reaction_from_string('atp_c + gal_c --> adp_c + gal1p_c + h_c')\n",
    "model.reactions.FBA.id = 'FDPA'#avoid confusion with FBA(flux balance analysis)\n",
    "#fix directions\n",
    "model.reactions.FDPA.lower_bound = 0.0#FBA\n",
    "model.reactions.GAPD.lower_bound = 0.0\n",
    "model.reactions.PGK.lower_bound = 0.0\n",
    "model.reactions.PGM.lower_bound = 0.0\n",
    "model.reactions.ENO.lower_bound = 0.0\n",
    "model.reactions.LDH_L.build_reaction_from_string('h_c + nadh_c + pyr_c --> lac__L_c + nad_c')\n",
    "model.reactions.LDH_L.lower_bound = 0.0\n",
    "model.reactions.LDH_D.build_reaction_from_string('h_c + nadh_c + pyr_c --> lac__D_c + nad_c')\n",
    "model.reactions.LDH_D.lower_bound = 0.0\n",
    "model.reactions.PFL.lower_bound = 0.0\n",
    "model.reactions.PTAr.lower_bound = 0.0\n",
    "model.reactions.ACKr.build_reaction_from_string('actp_c + adp_c --> ac_c + atp_c')\n",
    "model.reactions.ACKr.lower_bound = 0.0\n",
    "model.reactions.GALU.lower_bound = 0.0 # irreversible\n",
    "model.reactions.PGMT.build_reaction_from_string('g6p_c --> g1p_c')\n",
    "model.reactions.PGMT.lower_bound = 0.0\n",
    "model.reactions.PMANM.build_reaction_from_string('man6p_c --> man1p_c')\n",
    "model.reactions.PMANM.lower_bound = 0.0\n",
    "model.reactions.GALT.lower_bound = 0.0\n",
    "model.reactions.ACALD.build_reaction_from_string('accoa_c + h_c + nadh_c --> acald_c + coa_c + nad_c')\n",
    "model.reactions.ACALD.lower_bound = 0.0\n",
    "model.reactions.ALCD2x.build_reaction_from_string('acald_c + h_c + nadh_c --> etoh_c + nad_c')\n",
    "model.reactions.ALCD2x.lower_bound = 0.0\n",
    "# remove ATP maintainance\n",
    "model.reactions.ATPM.lower_bound = 0.0"
   ]
  },
  {
   "cell_type": "code",
   "execution_count": 5,
   "id": "a9961817",
   "metadata": {},
   "outputs": [],
   "source": [
    "gal_e = Metabolite('gal_e','C6H12O6','D-Galactose',0,'default')\n",
    "EX_gal_e = Reaction('EX_gal_e','D-Galactose exchange', -1000, 1000) ;\n",
    "GALt2 = Reaction('GALt2','D-Galactose exchange', -1000, 1000) ;\n",
    "# Build forward and reverse reactions\n",
    "model.reactions.RPI.id = 'RPI_for';model.reactions.RPI_for.lower_bound = 0.0;\n",
    "RPI_rev = Reaction('RPI_rev','ribose 5 phosphate isomerase(reverse)', 0, 1000)\n",
    "model.reactions.RPE.id = 'RPE_for';model.reactions.RPE_for.lower_bound = 0.0;\n",
    "RPE_rev = Reaction('RPE_rev','ribulose 5 phosphate 3 epimerase(reverse)', 0, 1000)\n",
    "model.reactions.PGI.id = 'PGI_for'; model.reactions.PGI_for.lower_bound = 0.0;\n",
    "PGI_rev = Reaction('PGI_rev','glucose 6 phosphate isomerase(reverse)', 0, 1000)\n",
    "model.reactions.UDPG4E.id = 'UDPG4E_for'; model.reactions.UDPG4E_for.lower_bound = 0.0;\n",
    "UDPG4E_rev = Reaction('UDPG4E_rev','UDPglucose 4 epimerase(reverse)', 0, 1000)\n",
    "model.reactions.MAN6PI.id = 'MAN6PI_rev'; model.reactions.MAN6PI_rev.lower_bound = 0.0;\n",
    "MAN6PI_for = Reaction('MAN6PI_for','mannose 6 phosphate isomerase(forward)', 0, 1000)\n",
    "model.add_reactions([RPI_rev, RPE_rev, PGI_rev, UDPG4E_rev, MAN6PI_for, EX_gal_e, GALt2])\n",
    "model.add_metabolites([gal_e])\n",
    "\n",
    "\n",
    "model.reactions.EX_gal_e.build_reaction_from_string('gal_e <=>')\n",
    "model.reactions.GALt2.build_reaction_from_string('gal_c + h_c <=> gal_e + h_e')\n",
    "model.reactions.RPI_rev.build_reaction_from_string('ru5p__D_c --> r5p_c')\n",
    "model.reactions.RPE_rev.build_reaction_from_string('xu5p__D_c --> ru5p__D_c')\n",
    "model.reactions.PGI_rev.build_reaction_from_string('f6p_c --> g6p_c')\n",
    "model.reactions.UDPG4E_rev.build_reaction_from_string('udpgal_c --> udpg_c')\n",
    "model.reactions.MAN6PI_for.build_reaction_from_string('f6p_c --> man6p_c')"
   ]
  },
  {
   "cell_type": "code",
   "execution_count": 6,
   "id": "07be084b",
   "metadata": {},
   "outputs": [],
   "source": [
    "# shut down acetate production\n",
    "model.reactions.ACKr.upper_bound = 0.0"
   ]
  },
  {
   "cell_type": "markdown",
   "id": "7df0d9dc",
   "metadata": {},
   "source": [
    "# Pseudo-reactions of EPS repeating unit synthesis"
   ]
  },
  {
   "cell_type": "code",
   "execution_count": 7,
   "id": "abc8432e",
   "metadata": {},
   "outputs": [],
   "source": [
    "gdpmann_c = Metabolite('gdpmann_c','C16H23N5O16P2','GDP-D-mannose',-2,'default')\n",
    "manx14_c = Metabolite('manx14_c','C84H154O70','Mannose residues of EPS repeating unit',0,'default')\n",
    "manx14_glcx6_c = Metabolite('manx14_glcx6_c','C120H220O100','Mannose and glucose residues of EPS repeating unit',0,'default')\n",
    "EPS_c = Metabolite('EPS_c','C126H231O105','EPS repeating unit',0,'default')\n",
    "EPS_e = Metabolite('EPS_e','C126H231O105','EPS repeating unit',0,'default')\n",
    "model.add_metabolites([gdpmann_c, manx14_c,manx14_glcx6_c,EPS_c, EPS_e ])\n",
    "\n",
    "MAN1PT = Reaction('MAN1PT','Mannose-1-phosphate guanylyltransferase (GDP)', 0, 1000)\n",
    "MANT_EPS = Reaction('MANT_EPS','Mannosyltransferase for EPS formation', 0, 1000)\n",
    "GLCT_EPS = Reaction('GLCT_EPS','Glucosyltransferase for EPS formation', 0, 1000)\n",
    "GALT_EPS = Reaction('GALT_EPS','Galactosyltransferase for EPS formation', 0, 1000)\n",
    "WZX = Reaction('WZX','Wzx flippase-mediated membrane translocation','',0,1000)\n",
    "EX_EPS_e = Reaction('EX_EPS_e','EX_EPS_e','',-1000,1000)\n",
    "model.add_reactions([MAN1PT, MANT_EPS, GLCT_EPS,GALT_EPS, WZX,EX_EPS_e ])\n",
    "\n",
    "model.reactions.MAN1PT.build_reaction_from_string('gdp_c + h_c + man1p_c --> gdpmann_c + pi_c')\n",
    "model.reactions.MANT_EPS.build_reaction_from_string('gdpmann_c --> 0.07143 manx14_c + gdp_c')\n",
    "model.reactions.GLCT_EPS.build_reaction_from_string('udpg_c + 0.16667 manx14_c --> 0.16667 manx14_glcx6_c + udp_c')\n",
    "model.reactions.GALT_EPS.build_reaction_from_string('udpgal_c + manx14_glcx6_c --> EPS_c + udp_c')\n",
    "model.reactions.WZX.build_reaction_from_string('EPS_c + atp_c + h2o_c --> EPS_e + adp_c + pi_c +h_c' )\n",
    "model.reactions.EX_EPS_e.build_reaction_from_string('EPS_e <=> ')"
   ]
  },
  {
   "cell_type": "markdown",
   "id": "10908863",
   "metadata": {},
   "source": [
    "# Save the modified model"
   ]
  },
  {
   "cell_type": "code",
   "execution_count": 8,
   "id": "95647964",
   "metadata": {},
   "outputs": [],
   "source": [
    "# cobra.io.save_json_model(model, \"../data/GSMM_parameters/LP_HMX2.json\")"
   ]
  },
  {
   "cell_type": "markdown",
   "id": "d9c9e3d3",
   "metadata": {},
   "source": [
    "# Assess amino acid requirement"
   ]
  },
  {
   "cell_type": "code",
   "execution_count": 5,
   "id": "eace25d4",
   "metadata": {},
   "outputs": [],
   "source": [
    "model = load_json_model('../data/GSMM_parameters/LP_HMX2.json')"
   ]
  },
  {
   "cell_type": "code",
   "execution_count": 6,
   "id": "77a2797e",
   "metadata": {},
   "outputs": [
    {
     "name": "stdout",
     "output_type": "stream",
     "text": [
      "EX_btn_e       6.000000e-06\n",
      "EX_cys_L_e     4.825200e-02\n",
      "EX_glc_e       2.344413e+01\n",
      "EX_gln_L_e     2.000000e-01\n",
      "EX_glu_L_e     1.589140e-01\n",
      "EX_ile_L_e     2.000000e-01\n",
      "EX_leu_L_e     2.000000e-01\n",
      "EX_nac_e       1.200000e-03\n",
      "EX_nh4_e       5.038239e+00\n",
      "EX_phe_L_e     2.000000e-01\n",
      "EX_pi_e        7.524606e-01\n",
      "EX_pnto_R_e    1.200000e-04\n",
      "EX_pydam_e     6.000000e-07\n",
      "EX_val_L_e     2.000000e-01\n",
      "dtype: float64\n"
     ]
    },
    {
     "name": "stderr",
     "output_type": "stream",
     "text": [
      "/home/bras5181/miniconda3/lib/python3.8/site-packages/cobra/medium/minimal_medium.py:112: FutureWarning: The default dtype for empty Series will be 'object' instead of 'float64' in a future version. Specify a dtype explicitly to silence this warning.\n",
      "  medium = pd.Series()\n"
     ]
    }
   ],
   "source": [
    "with model:\n",
    "    model.medium = init_MRSmedium()\n",
    "    minmed = minimal_medium(model,0.6, minimize_components=True)\n",
    "print(minmed)"
   ]
  },
  {
   "cell_type": "code",
   "execution_count": null,
   "id": "336bbf1e",
   "metadata": {},
   "outputs": [],
   "source": []
  }
 ],
 "metadata": {
  "kernelspec": {
   "display_name": "Python 3 (ipykernel)",
   "language": "python",
   "name": "python3"
  },
  "language_info": {
   "codemirror_mode": {
    "name": "ipython",
    "version": 3
   },
   "file_extension": ".py",
   "mimetype": "text/x-python",
   "name": "python",
   "nbconvert_exporter": "python",
   "pygments_lexer": "ipython3",
   "version": "3.8.10"
  }
 },
 "nbformat": 4,
 "nbformat_minor": 5
}
