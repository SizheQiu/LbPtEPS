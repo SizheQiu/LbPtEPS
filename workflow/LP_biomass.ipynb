{
 "cells": [
  {
   "cell_type": "markdown",
   "id": "a507cefc",
   "metadata": {},
   "source": [
    "Ref:Analysis of Growth of Lactobacillus plantarum WCFS1 on a Complex Medium Using a Genome-scale Metabolic Model\n",
    "    DOI:https://doi.org/10.1074/jbc.M606263200"
   ]
  },
  {
   "cell_type": "code",
   "execution_count": 1,
   "id": "0f391ce9",
   "metadata": {},
   "outputs": [],
   "source": [
    "import cobra\n",
    "from cobra.io import read_sbml_model,load_json_model\n",
    "from cobra import Model, Reaction, Metabolite\n",
    "import pandas as pd\n",
    "import numpy as np\n",
    "import matplotlib.pyplot as plt\n",
    "from cobra.flux_analysis import production_envelope"
   ]
  },
  {
   "cell_type": "code",
   "execution_count": 25,
   "id": "a7982bad",
   "metadata": {},
   "outputs": [],
   "source": [
    "lphmx2 = read_sbml_model('../models/lphmx2.xml')\n",
    "#cobra.io.save_json_model(lphmx2, '../models/lphmx2.json')"
   ]
  },
  {
   "cell_type": "code",
   "execution_count": null,
   "id": "e0dd3960",
   "metadata": {},
   "outputs": [],
   "source": [
    "fractions = {'DNA':1.9/100, 'RNA':9/100, 'Protein':29.9/100,\n",
    "            'lipids':6.3/100,'Polysaccharides':9.9/100,\n",
    "             'Peptidoglycans':14.5/100,'Wall_teichoic_acids':13.8/100,\n",
    "            'Lipoteichoic_acids':4.1/100,'Rest':14.4/100}\n",
    "\n",
    "\n",
    "biomass = '(0.1294) CPS_LPL2 + (0.000617) DNA_LPL + (0.00013) LTA_LPL + (0.00001) MGD + (0.1462) PGlac2 + (0.00243) PROT_LPL_v6.0 + (0.002784) RNA_LPL + (0.01378) RTAglc + (27.2) atp + (0.00001) btn + (0.000018) clpn_LPL + (0.0002) coa + (27.2) h2o + (0.000164) lyspg_LPL + (0.0002) nad + (0.000625) pg_LPL + (0.000001) pydx5p + (0.00001) thf + (0.00001) thmpp + (0.0002) udcpdp'\n"
   ]
  },
  {
   "cell_type": "code",
   "execution_count": null,
   "id": "d81f1a67",
   "metadata": {},
   "outputs": [],
   "source": [
    "DNA_syn ='1.37 atp_c + 0.28 datp_c + 0.22 dctp_c + 0.22 dgtp_c + 0.28 dttp_c + 1.37 h2o_c --> 0.01 DNA_LP_c + 1.37 adp_c + 1.37 h_c + 1.37 pi_c + ppi_c'\n",
    "RNA_syn ='0.66 atp_c + 0.2 ctp_c + 0.32 gtp_c + 0.4 h2o_c + 0.22 utp_c --> 0.01 RNA_LP_c + 0.4 adp_c + (0.4) h + (0.4) pi + ppi'\n",
    "\n",
    "DNA_LP_c = Metabolite(id='DNA_LP_c', formula='C978H1128N372O600P100', name='DNA_LP_c', charge=-100, compartment='C_c')\n",
    "RNA_LP_c = Metabolite(id='RNA_LP_c', formula='C958H1078N394O696P100', name='RNA_LP_c', charge=-100, compartment='C_c')\n"
   ]
  },
  {
   "cell_type": "code",
   "execution_count": null,
   "id": "bcfe17ea",
   "metadata": {},
   "outputs": [],
   "source": [
    "#lipids pg,clpn,lyspg\n",
    "lyspg_syn = 'lys__L_c + 0.01 pg_LP_c --> 0.01 lyspg_LP_c'\n",
    "pg_syn =''\n",
    "clpn_syn=''"
   ]
  },
  {
   "cell_type": "code",
   "execution_count": 2,
   "id": "29f3f039",
   "metadata": {},
   "outputs": [],
   "source": [
    "lak = pd.read_csv('../../../ref_data/LAB_kinetics.csv')"
   ]
  },
  {
   "cell_type": "code",
   "execution_count": null,
   "id": "3221d679",
   "metadata": {},
   "outputs": [],
   "source": []
  }
 ],
 "metadata": {
  "kernelspec": {
   "display_name": "Python 3 (ipykernel)",
   "language": "python",
   "name": "python3"
  },
  "language_info": {
   "codemirror_mode": {
    "name": "ipython",
    "version": 3
   },
   "file_extension": ".py",
   "mimetype": "text/x-python",
   "name": "python",
   "nbconvert_exporter": "python",
   "pygments_lexer": "ipython3",
   "version": "3.8.10"
  }
 },
 "nbformat": 4,
 "nbformat_minor": 5
}
