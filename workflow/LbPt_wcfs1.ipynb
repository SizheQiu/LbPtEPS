{
 "cells": [
  {
   "cell_type": "code",
   "execution_count": 1,
   "id": "fd9b3a6f",
   "metadata": {},
   "outputs": [],
   "source": [
    "import cobra\n",
    "from cobra.io import read_sbml_model,load_json_model\n",
    "from cobra import Model, Reaction, Metabolite\n",
    "from cobra.medium import minimal_medium\n",
    "import pandas as pd\n",
    "import numpy as np\n",
    "import matplotlib.pyplot as plt"
   ]
  },
  {
   "cell_type": "code",
   "execution_count": 23,
   "id": "cdcb1e81",
   "metadata": {},
   "outputs": [],
   "source": [
    "model = read_sbml_model('../models/Lactobacillus_plantarum_WCFS1.xml')"
   ]
  },
  {
   "cell_type": "code",
   "execution_count": 25,
   "id": "f164a1a4",
   "metadata": {},
   "outputs": [],
   "source": [
    "cobra.io.save_json_model(model, '../models/LbPt_WCFS1.json')"
   ]
  },
  {
   "cell_type": "code",
   "execution_count": null,
   "id": "512c6913",
   "metadata": {},
   "outputs": [],
   "source": []
  }
 ],
 "metadata": {
  "kernelspec": {
   "display_name": "Python 3 (ipykernel)",
   "language": "python",
   "name": "python3"
  },
  "language_info": {
   "codemirror_mode": {
    "name": "ipython",
    "version": 3
   },
   "file_extension": ".py",
   "mimetype": "text/x-python",
   "name": "python",
   "nbconvert_exporter": "python",
   "pygments_lexer": "ipython3",
   "version": "3.8.10"
  }
 },
 "nbformat": 4,
 "nbformat_minor": 5
}
