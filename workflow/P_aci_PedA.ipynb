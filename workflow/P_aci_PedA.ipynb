{
 "cells": [
  {
   "cell_type": "code",
   "execution_count": 1,
   "id": "94d5a404",
   "metadata": {},
   "outputs": [],
   "source": [
    "import cobra\n",
    "from cobra.io import read_sbml_model\n",
    "from cobra import Model, Reaction, Metabolite\n",
    "import pandas as pd\n",
    "import numpy as np\n",
    "import matplotlib.pyplot as plt\n",
    "from cobra.flux_analysis import production_envelope"
   ]
  },
  {
   "cell_type": "code",
   "execution_count": 3,
   "id": "405a72c1",
   "metadata": {},
   "outputs": [],
   "source": [
    "pa = read_sbml_model('../models/pabcb1h.xml')\n",
    "#cobra.io.save_json_model(pa, '../models/pabcb1h.json')"
   ]
  },
  {
   "cell_type": "code",
   "execution_count": 8,
   "id": "ca2e3192",
   "metadata": {},
   "outputs": [
    {
     "data": {
      "text/plain": [
       "['assembly_00756',\n",
       " 'assembly_00504',\n",
       " 'assembly_00173',\n",
       " 'assembly_00398',\n",
       " 'assembly_00686',\n",
       " 'assembly_01673',\n",
       " 'assembly_01011',\n",
       " '',\n",
       " '']"
      ]
     },
     "execution_count": 8,
     "metadata": {},
     "output_type": "execute_result"
    }
   ],
   "source": [
    "TCA_rxns = ['PPC','PC','MDH','FUM','SUCD1','FRDx','ACACT1r','OCOAT1','SUCOAACTr']\n",
    "TCA_genes = []\n",
    "for r in TCA_rxns:\n",
    "    TCA_genes.append(pa.reactions.get_by_id(r).gene_reaction_rule)\n",
    "TCA_genes"
   ]
  },
  {
   "cell_type": "code",
   "execution_count": 10,
   "id": "7c173fb6",
   "metadata": {},
   "outputs": [
    {
     "data": {
      "text/html": [
       "\n",
       "        <table>\n",
       "            <tr>\n",
       "                <td><strong>Reaction identifier</strong></td><td>3OXCOAT</td>\n",
       "            </tr><tr>\n",
       "                <td><strong>Name</strong></td><td>3-oxoadipyl-CoA thiolase</td>\n",
       "            </tr><tr>\n",
       "                <td><strong>Memory address</strong></td>\n",
       "                <td>0x07fbe1d3d6bb0</td>\n",
       "            </tr><tr>\n",
       "                <td><strong>Stoichiometry</strong></td>\n",
       "                <td>\n",
       "                    <p style='text-align:right'>coa_c + oxadpcoa_c --> accoa_c + succoa_c</p>\n",
       "                    <p style='text-align:right'>Coenzyme A + 3-Oxoadipyl-CoA --> Acetyl-CoA + Succinyl-CoA</p>\n",
       "                </td>\n",
       "            </tr><tr>\n",
       "                <td><strong>GPR</strong></td><td>assembly_01011</td>\n",
       "            </tr><tr>\n",
       "                <td><strong>Lower bound</strong></td><td>0.0</td>\n",
       "            </tr><tr>\n",
       "                <td><strong>Upper bound</strong></td><td>1000.0</td>\n",
       "            </tr>\n",
       "        </table>\n",
       "        "
      ],
      "text/plain": [
       "<Reaction 3OXCOAT at 0x7fbe1d3d6bb0>"
      ]
     },
     "execution_count": 10,
     "metadata": {},
     "output_type": "execute_result"
    }
   ],
   "source": [
    "pa.reactions.get_by_id('3OXCOAT')"
   ]
  },
  {
   "cell_type": "code",
   "execution_count": 9,
   "id": "13c6598b",
   "metadata": {},
   "outputs": [
    {
     "data": {
      "text/html": [
       "\n",
       "        <table>\n",
       "            <tr>\n",
       "                <td><strong>Metabolite identifier</strong></td><td>succoa_c</td>\n",
       "            </tr><tr>\n",
       "                <td><strong>Name</strong></td><td>Succinyl-CoA</td>\n",
       "            </tr><tr>\n",
       "                <td><strong>Memory address</strong></td>\n",
       "                <td>0x07fbe1d601b80</td>\n",
       "            </tr><tr>\n",
       "                <td><strong>Formula</strong></td><td>C25H35N7O19P3S</td>\n",
       "            </tr><tr>\n",
       "                <td><strong>Compartment</strong></td><td>C_c</td>\n",
       "            </tr><tr>\n",
       "                <td><strong>In 6 reaction(s)</strong></td><td>\n",
       "                    THDPS, OCOAT1, BSCT, SUCOAACTr, 3OXCOAT, 3OADPCOAT</td>\n",
       "            </tr>\n",
       "        </table>"
      ],
      "text/plain": [
       "<Metabolite succoa_c at 0x7fbe1d601b80>"
      ]
     },
     "execution_count": 9,
     "metadata": {},
     "output_type": "execute_result"
    }
   ],
   "source": [
    "pa.metabolites.succoa_c"
   ]
  },
  {
   "cell_type": "markdown",
   "id": "f1701a03",
   "metadata": {},
   "source": [
    " if list(DMEM['rxn'])[i] not in ['EX_h2s(e)','EX_pydxn(e)', 'EX_mqn7(e)', 'EX_pheme(e)',\n",
    "                                    'EX_sheme(e)','EX_arabinogal(e)','EX_mqn8(e)','EX_q8(e)']:"
   ]
  },
  {
   "cell_type": "code",
   "execution_count": 8,
   "id": "6b1b951a",
   "metadata": {},
   "outputs": [
    {
     "name": "stdout",
     "output_type": "stream",
     "text": [
      "{'EX_ala_L(e)': 1.0, 'EX_arg_L(e)': 1.0, 'EX_asn_L(e)': 1.0, 'EX_asp_L(e)': 1.0, 'EX_cys_L(e)': 1.0, 'EX_gln_L(e)': 1.0, 'EX_glu_L(e)': 1.0, 'EX_gly(e)': 1.0, 'EX_his_L(e)': 1.0, 'EX_ile_L(e)': 1.0, 'EX_leu_L(e)': 1.0, 'EX_lys_L(e)': 1.0, 'EX_met_L(e)': 1.0, 'EX_phe_L(e)': 1.0, 'EX_pro_L(e)': 1.0, 'EX_ser_L(e)': 1.0, 'EX_thr_L(e)': 1.0, 'EX_trp_L(e)': 1.0, 'EX_tyr_L(e)': 1.0, 'EX_val_L(e)': 1.0, 'EX_glc_D(e)': 4.5, 'EX_pyr(e)': 1.0, 'EX_ca2(e)': 1.0, 'EX_chol(e)': 1.0, 'EX_cl(e)': 1.0, 'EX_cobalt2(e)': 1.0, 'EX_cu2(e)': 1.0, 'EX_fe2(e)': 1.0, 'EX_fe3(e)': 1.0, 'EX_fol(e)': 1.0, 'EX_k(e)': 1.0, 'EX_h2o(e)': 10.0, 'EX_h2s(e)': 1.0, 'EX_inost(e)': 1.0, 'EX_mg2(e)': 1.0, 'EX_mn2(e)': 1.0, 'EX_ncam(e)': 1.0, 'EX_pi(e)': 10.0, 'EX_pnto_R(e)': 1.0, 'EX_pydxn(e)': 1.0, 'EX_ribflv(e)': 1.0, 'EX_so4(e)': 1.0, 'EX_thm(e)': 1.0, 'EX_zn2(e)': 1.0, 'EX_mqn7(e)': 1.0, 'EX_mqn8(e)': 1.0, 'EX_pheme(e)': 1.0, 'EX_q8(e)': 1.0, 'EX_sheme(e)': 1.0}\n"
     ]
    }
   ],
   "source": [
    "DMEM = pd.read_csv('DMEM6429_medium.csv')\n",
    "DMEM_medium = {}\n",
    "for i in range(len(DMEM['rxn'])):\n",
    "    if list(DMEM['rxn'])[i] not in ['EX_arabinogal(e)']:\n",
    "        DMEM_medium[list(DMEM['rxn'])[i]] = list(DMEM['flux'])[i]\n",
    "print(DMEM_medium)"
   ]
  },
  {
   "cell_type": "code",
   "execution_count": 74,
   "id": "100145fa",
   "metadata": {},
   "outputs": [],
   "source": [
    "# medium_id = ['DMEM' for i in range(49)]\n",
    "# description = ['DMEM' for i in range(49) ]\n",
    "# compound = ['ala__L', 'arg__L', 'asn__L', 'asp__L', 'cys__L', 'gln__L', 'glu__L','gly', 'his__L', 'ile__L',\n",
    "#             'leu__L', 'lys__L', 'met__L', 'phe__L','pro__L', 'ser__L', 'thr__L', 'trp__L', 'tyr__L', 'val__L', 'glc__D',\n",
    "#             'pyr', 'ca2', 'chol', 'cl', 'cobalt2', 'cu2', 'fe2', 'fe3','fol', 'k', 'h2o', 'h2s', 'inost', 'mg2', 'mn2',\n",
    "#             'ncam','pi', 'pnto_R', 'pydxn', 'ribflv', 'so4', 'thm', 'zn2', 'mqn7','mqn8', 'pheme', 'q8', 'sheme']\n",
    "# name = []\n",
    "# for c in compound:\n",
    "#     if pa.metabolites.query(c) == []:\n",
    "#         name.append(c)\n",
    "#     else:\n",
    "#         name.append(pa.metabolites.query(c)[0].name)\n",
    "# name[-1] = 'Siroheme C42H36FeN4O16'\n",
    "\n",
    "# db_table = pd.DataFrame(zip(medium_id,description,compound,name),\n",
    "#                         columns = ['medium','description','compound','name'])\n",
    "# db_table.to_csv('DMEM_db.tsv',sep='\\t',index=None)"
   ]
  },
  {
   "cell_type": "code",
   "execution_count": 14,
   "id": "94a9fccc",
   "metadata": {},
   "outputs": [
    {
     "data": {
      "text/plain": [
       "{'EX_ala_L(e)': 1.0,\n",
       " 'EX_arg_L(e)': 1.0,\n",
       " 'EX_asn_L(e)': 1.0,\n",
       " 'EX_asp_L(e)': 1.0,\n",
       " 'EX_cys_L(e)': 1.0,\n",
       " 'EX_gln_L(e)': 1.0,\n",
       " 'EX_glu_L(e)': 1.0,\n",
       " 'EX_gly(e)': 1.0,\n",
       " 'EX_his_L(e)': 1.0,\n",
       " 'EX_ile_L(e)': 1.0,\n",
       " 'EX_leu_L(e)': 1.0,\n",
       " 'EX_lys_L(e)': 1.0,\n",
       " 'EX_met_L(e)': 1.0,\n",
       " 'EX_phe_L(e)': 1.0,\n",
       " 'EX_pro_L(e)': 1.0,\n",
       " 'EX_ser_L(e)': 1.0,\n",
       " 'EX_thr_L(e)': 1.0,\n",
       " 'EX_trp_L(e)': 1.0,\n",
       " 'EX_tyr_L(e)': 1.0,\n",
       " 'EX_val_L(e)': 1.0,\n",
       " 'EX_glc_D(e)': 4.5,\n",
       " 'EX_pyr(e)': 1.0,\n",
       " 'EX_ca2(e)': 1.0,\n",
       " 'EX_chol(e)': 1.0,\n",
       " 'EX_cl(e)': 1.0,\n",
       " 'EX_cobalt2(e)': 1.0,\n",
       " 'EX_cu2(e)': 1.0,\n",
       " 'EX_fe2(e)': 1.0,\n",
       " 'EX_fe3(e)': 1.0,\n",
       " 'EX_fol(e)': 1.0,\n",
       " 'EX_k(e)': 1.0,\n",
       " 'EX_h2o(e)': 10.0,\n",
       " 'EX_h2s(e)': 1.0,\n",
       " 'EX_inost(e)': 1.0,\n",
       " 'EX_mg2(e)': 1.0,\n",
       " 'EX_mn2(e)': 1.0,\n",
       " 'EX_ncam(e)': 1.0,\n",
       " 'EX_pi(e)': 10.0,\n",
       " 'EX_pnto_R(e)': 1.0,\n",
       " 'EX_pydxn(e)': 1.0,\n",
       " 'EX_ribflv(e)': 1.0,\n",
       " 'EX_so4(e)': 1.0,\n",
       " 'EX_thm(e)': 1.0,\n",
       " 'EX_zn2(e)': 1.0,\n",
       " 'EX_mqn7(e)': 1.0,\n",
       " 'EX_mqn8(e)': 1.0,\n",
       " 'EX_pheme(e)': 1.0,\n",
       " 'EX_q8(e)': 1.0,\n",
       " 'EX_sheme(e)': 1.0}"
      ]
     },
     "execution_count": 14,
     "metadata": {},
     "output_type": "execute_result"
    }
   ],
   "source": [
    "DMEM_medium"
   ]
  },
  {
   "cell_type": "code",
   "execution_count": 9,
   "id": "c1dd822a",
   "metadata": {},
   "outputs": [],
   "source": [
    "#ncam,pheme,pnto_R\n",
    "#pydxn,\n",
    "# DMEM_M = {'EX_ala__L_e': 1.0, 'EX_arg__L_e': 1.0, 'EX_asn__L_e': 1.0, 'EX_asp__L_e': 1.0, 'EX_cys__L_e': 1.0,\n",
    "#           'EX_gln__L_e': 1.0, 'EX_glu__L_e': 1.0, 'EX_gly_e': 1.0, 'EX_his__L_e': 1.0, 'EX_ile__L_e': 1.0, \n",
    "#           'EX_leu__L_e': 1.0, 'EX_lys__L_e': 1.0, 'EX_met__L_e': 1.0, 'EX_phe__L_e': 1.0, 'EX_pro__L_e': 1.0,\n",
    "#           'EX_ser__L_e': 1.0, 'EX_thr__L_e': 1.0, 'EX_trp__L_e': 1.0, 'EX_tyr__L_e': 1.0, 'EX_val__L_e': 1.0,\n",
    "#           'EX_glc__D_e': 4.5, 'EX_pyr_e': 1.0, 'EX_ca2_e': 1.0, 'EX_chol_e': 1.0, 'EX_cl_e': 1.0, 'EX_cobalt2_e': 1.0,\n",
    "#           'EX_cu2_e': 1.0, 'EX_fe2_e': 1.0, 'EX_fe3_e': 1.0, 'EX_fol_e': 1.0, 'EX_k_e': 1.0, 'EX_h2o_e': 10.0,\n",
    "#           'EX_h2s_e': 1.0, 'EX_inost_e': 1.0, 'EX_mg2_e': 1.0, 'EX_mn2_e': 1.0, 'EX_ncam_e': 1.0, 'EX_pi_e': 10.0,\n",
    "#           'EX_ribflv_e': 1.0, 'EX_so4_e': 1.0, 'EX_thm_e': 1.0, 'EX_zn2_e': 1.0,'EX_pheme_e': 1.0}"
   ]
  },
  {
   "cell_type": "code",
   "execution_count": 10,
   "id": "aa13a8a9",
   "metadata": {},
   "outputs": [],
   "source": [
    "# DMEM_rich_M = {}\n",
    "# for ex in DMEM_M.keys():\n",
    "#     DMEM_rich_M[ex] = 1000"
   ]
  },
  {
   "cell_type": "code",
   "execution_count": 5,
   "id": "4fe337d3",
   "metadata": {},
   "outputs": [],
   "source": [
    "#add reactions\n",
    "# ncam_e = Metabolite('ncam_e',formula='C6H6N2O',name='Nicotinamide',compartment='C_e')\n",
    "# pheme_e = Metabolite('pheme_e',formula='C34H30FeN4O4',name = 'Protoheme C34H30FeN4O4',compartment='C_e')\n",
    "# pa.add_metabolites([ncam_e,pheme_e])\n",
    "# EX_na1_e = Reaction('EX_na1_e','R_EX_na1_e','',-1000.,1000.)\n",
    "# EX_ni2_e = Reaction('EX_ni2_e','R_EX_ni2_e','',-1000.,1000.)\n",
    "# NCAMUP = Reaction(id='NCAMUP',name='Nicotinamide acid uptake', subsystem='', lower_bound=-1000.0, upper_bound=1000.0)\n",
    "# PHEMEt = Reaction(id='PHEMEt',name='Heme transport', subsystem='', lower_bound=-1000.0, upper_bound=1000.0)\n",
    "# EX_ncam_e = Reaction(id='EX_ncam_e',name='EX_ncam_e', subsystem='', lower_bound=-1000.0, upper_bound=1000.0)\n",
    "# EX_pheme_e = Reaction(id='EX_pheme_e',name='EX_pheme_e', subsystem='', lower_bound=-1000.0, upper_bound=1000.0)\n",
    "# pa.add_reactions([EX_na1_e,EX_ni2_e,NCAMUP,PHEMEt,EX_ncam_e,EX_pheme_e])\n",
    "# EX_ni2_e.build_reaction_from_string('ni2_e <=> ')\n",
    "# EX_na1_e.build_reaction_from_string('na1_e <=> ')\n",
    "# NCAMUP.build_reaction_from_string('ncam_e <=> ncam_c')\n",
    "# PHEMEt.build_reaction_from_string('pheme_e <=> pheme_c')\n",
    "# EX_ncam_e.build_reaction_from_string('ncam_e <=> ')\n",
    "# EX_pheme_e.build_reaction_from_string('pheme_e <=> ')"
   ]
  },
  {
   "cell_type": "markdown",
   "id": "cd48374c",
   "metadata": {},
   "source": [
    "# simulation"
   ]
  },
  {
   "cell_type": "code",
   "execution_count": 30,
   "id": "52992fd6",
   "metadata": {},
   "outputs": [
    {
     "name": "stdout",
     "output_type": "stream",
     "text": [
      "36.9421023710234\n",
      "19.302404084785806\n"
     ]
    }
   ],
   "source": [
    "# with pa:\n",
    "#     temp_M = DMEM_M.copy()\n",
    "#     pa.medium = temp_M\n",
    "    \n",
    "#     print(pa.slim_optimize())\n",
    "    \n",
    "# with pa:\n",
    "#     temp_M = DMEM_rich_M.copy()\n",
    "#     pa.medium = temp_M\n",
    "#     print(pa.slim_optimize())\n",
    "with pa:\n",
    "    print(pa.slim_optimize())\n",
    "    temp = pa.medium\n",
    "    temp['EX_o2_e'] = 0\n",
    "    pa.medium = temp\n",
    "    print(pa.slim_optimize())"
   ]
  },
  {
   "cell_type": "markdown",
   "id": "38930f15",
   "metadata": {},
   "source": [
    "# PedA synthesis"
   ]
  },
  {
   "cell_type": "code",
   "execution_count": 7,
   "id": "cacd2069",
   "metadata": {},
   "outputs": [
    {
     "name": "stdout",
     "output_type": "stream",
     "text": [
      "{'K': 4, 'Y': 2, 'G': 8, 'N': 4, 'V': 2, 'T': 4, 'C': 4, 'H': 3, 'S': 2, 'D': 1, 'W': 2, 'A': 4, 'I': 2, 'M': 1, 'Q': 1}\n",
      "189.464\n"
     ]
    }
   ],
   "source": [
    "# pediocin PA-1\n",
    "aa_freq = {}\n",
    "pedA_seq = 'KYYGNGVTCGKHSCSVDWGKATTCIINNGAMAWATGGHQGNHKC'\n",
    "for a in pedA_seq:\n",
    "    if a in aa_freq:\n",
    "        aa_freq[a] += 1\n",
    "    else:\n",
    "        aa_freq[a] = 1\n",
    "print(aa_freq)\n",
    "    \n",
    "atp_num = len(pedA_seq)*4.306\n",
    "print(atp_num)"
   ]
  },
  {
   "cell_type": "code",
   "execution_count": 8,
   "id": "4ad3f22c",
   "metadata": {},
   "outputs": [
    {
     "name": "stdout",
     "output_type": "stream",
     "text": [
      "4.0 lys__L_c + 2.0 tyr__L_c + 8.0 gly_c + 4.0 asn__L_c + 2.0 val__L_c + 4.0 thr__L_c + 4.0 cys__L_c + 3.0 his__L_c + 2.0 ser__L_c + 1.0 asp__L_c + 2.0 trp__L_c + 4.0 ala__L_c + 2.0 ile__L_c + 1.0 met__L_c + 1.0 gln__L_c + 189.464 atp_c + 146.464 h2o_c --> 189.464 adp_c + 189.464 pi_c + pedA_c + 189.464 h_c\n"
     ]
    }
   ],
   "source": [
    "aa_names = {'A':'ala__L_c', 'C':'cys__L_c', 'D':'asp__L_c', 'E':'glu__L_c', 'F':'phe__L_c', 'G':'gly_c',\n",
    "            'H':'his__L_c', 'I':'ile__L_c', 'K':'lys__L_c', 'L':'leu__L_c', 'M':'met__L_c', 'N':'asn__L_c',\n",
    "            'P':'pro__L_c','Q':'gln__L_c', 'R':'arg__L_c', 'S':'ser__L_c', 'T':'thr__L_c', 'V':'val__L_c',\n",
    "            'W':'trp__L_c', 'Y':'tyr__L_c'}\n",
    "\n",
    "pedA_c = Metabolite('pedA_c',formula='C196H293N61O60S5',name='Pediocin PA-1',compartment='C_c')\n",
    "pedA_e = Metabolite('pedA_e',formula='C196H293N61O60S5',name='Pediocin PA-1',compartment='C_e')\n",
    "pa.add_metabolites([pedA_c,pedA_e])\n",
    "#pediocin synthesis\n",
    "PedA_synthesis = Reaction('PedA_synthesis','Pediocin PA-1 synthesis','',0,1000)\n",
    "PedA_synthesis_rxn = ''\n",
    "for aa in aa_freq:\n",
    "    PedA_synthesis_rxn = PedA_synthesis_rxn + str(float(aa_freq[aa])) + ' ' + aa_names[aa] + ' + '\n",
    "PedA_synthesis_rxn =(  PedA_synthesis_rxn + \n",
    "    '189.464 atp_c + 146.464 h2o_c --> 189.464 adp_c + 189.464 pi_c + pedA_c + 189.464 h_c' )\n",
    "    \n",
    "print(PedA_synthesis_rxn)\n",
    "#pediocin export: c->e and exchange\n",
    "PedAabc = Reaction('PedAabc')\n",
    "PedAabc.name = 'Pediocin PA-1 export via ABC system'\n",
    "PedAabc.subsystem = ''\n",
    "PedAabc.lower_bound = 0\n",
    "PedAabc.upper_bound = 1000.\n",
    "PedAabc.gene_reaction_rule = ''\n",
    "PedAabc_rxn = 'pedA_c + atp_c + h2o_c --> pedA_e + adp_c + pi_c + h_c '\n",
    "EX_pedA_e = Reaction('EX_pedA_e')\n",
    "EX_pedA_e.name = 'R_EX_pedA_e'\n",
    "EX_pedA_e.subsystem = ''\n",
    "EX_pedA_e.lower_bound = -1000.\n",
    "EX_pedA_e.upper_bound = 1000.\n",
    "EX_pedA_e.gene_reaction_rule = ''\n",
    "EX_pedA_e_rxn = 'pedA_e <=> '\n",
    "pa.add_reactions([PedA_synthesis,PedAabc,EX_pedA_e])\n",
    "PedA_synthesis.build_reaction_from_string(PedA_synthesis_rxn)\n",
    "PedAabc.build_reaction_from_string(PedAabc_rxn)\n",
    "EX_pedA_e.build_reaction_from_string(EX_pedA_e_rxn)"
   ]
  },
  {
   "cell_type": "code",
   "execution_count": 15,
   "id": "34d25b5e",
   "metadata": {},
   "outputs": [
    {
     "data": {
      "image/png": "[encoded data removed]",
      "text/plain": [
       "<Figure size 432x288 with 2 Axes>"
      ]
     },
     "metadata": {
      "needs_background": "light"
     },
     "output_type": "display_data"
    }
   ],
   "source": [
    "with pa:\n",
    "    temp_M = DMEM_rich_M.copy()\n",
    "    pa.medium = temp_M\n",
    "    result = production_envelope(pa, [\"EX_pedA_e\", \"EX_glc__D_e\"])\n",
    "    result = result[result['flux_maximum'].notna()]\n",
    "    plt.tricontourf( -np.array(list(result['EX_glc__D_e']) ) , list(result['flux_maximum']), \n",
    "                list(result['EX_pedA_e']) )\n",
    "    cbar = plt.colorbar();\n",
    "    cbar.set_label('EX_pedA_e')\n",
    "    plt.xlabel('EX_glc__D_e')\n",
    "    plt.ylabel('Growth rate')\n",
    "    plt.title('Phase Plane')"
   ]
  },
  {
   "cell_type": "code",
   "execution_count": null,
   "id": "7d340896",
   "metadata": {},
   "outputs": [],
   "source": []
  }
 ],
 "metadata": {
  "kernelspec": {
   "display_name": "Python 3 (ipykernel)",
   "language": "python",
   "name": "python3"
  },
  "language_info": {
   "codemirror_mode": {
    "name": "ipython",
    "version": 3
   },
   "file_extension": ".py",
   "mimetype": "text/x-python",
   "name": "python",
   "nbconvert_exporter": "python",
   "pygments_lexer": "ipython3",
   "version": "3.8.10"
  }
 },
 "nbformat": 4,
 "nbformat_minor": 5
}
