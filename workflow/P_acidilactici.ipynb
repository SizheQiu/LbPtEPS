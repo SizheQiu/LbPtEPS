{
 "cells": [
  {
   "cell_type": "code",
   "execution_count": 1,
   "id": "356c524a",
   "metadata": {},
   "outputs": [],
   "source": [
    "import cobra\n",
    "from cobra.io import read_sbml_model\n",
    "from cobra import Model, Reaction, Metabolite\n",
    "import pandas as pd\n",
    "import numpy as np\n",
    "import matplotlib.pyplot as plt\n",
    "from cobra.medium import minimal_medium\n",
    "#from matplotlib_venn import venn2"
   ]
  },
  {
   "cell_type": "code",
   "execution_count": 2,
   "id": "90d207ea",
   "metadata": {},
   "outputs": [],
   "source": [
    "pa74 = read_sbml_model('../models/Pediococcus_acidilactici_7_4.xml')\n",
    "paDSM = read_sbml_model('../models/Pediococcus_acidilactici_DSM_20284.xml')\n",
    "\n",
    "cobra.io.save_json_model(pa74, '../models/pa74.json')\n",
    "cobra.io.save_json_model(paDSM, '../models/paDSM.json')"
   ]
  },
  {
   "cell_type": "code",
   "execution_count": 3,
   "id": "7ed10af8",
   "metadata": {},
   "outputs": [
    {
     "data": {
      "text/plain": [
       "[]"
      ]
     },
     "execution_count": 3,
     "metadata": {},
     "output_type": "execute_result"
    }
   ],
   "source": [
    "pa74.metabolites.query('arabinogal')"
   ]
  },
  {
   "cell_type": "code",
   "execution_count": 3,
   "id": "b62ef1ff",
   "metadata": {},
   "outputs": [
    {
     "data": {
      "text/plain": [
       "Text(0.5, 1.0, 'Reactions')"
      ]
     },
     "execution_count": 3,
     "metadata": {},
     "output_type": "execute_result"
    },
    {
     "data": {
      "image/png": "[encoded data removed]",
      "text/plain": [
       "<Figure size 432x288 with 2 Axes>"
      ]
     },
     "metadata": {},
     "output_type": "display_data"
    }
   ],
   "source": [
    "pa74_mets, paDSM_mets, pa74_rxns, paDSM_rxns = [],[],[],[]\n",
    "for met in pa74.metabolites:\n",
    "    pa74_mets.append(met.id)\n",
    "for met in paDSM.metabolites:\n",
    "    paDSM_mets.append(met.id)\n",
    "for rxn in pa74.reactions:\n",
    "    pa74_rxns.append(rxn.id)\n",
    "for rxn in paDSM.reactions:\n",
    "    paDSM_rxns.append(rxn.id)\n",
    "\n",
    "fig, (ax1,ax2) = plt.subplots(1,2)\n",
    "venn2(subsets=( set(pa74_mets),set(paDSM_mets)),set_labels=('pa74', 'paDSM'),ax = ax1)\n",
    "venn2(subsets=(set(pa74_rxns),set(paDSM_rxns)),set_labels=('pa74', 'paDSM'),ax = ax2)\n",
    "ax1.set_title('Metabolites')\n",
    "ax2.set_title('Reactions')"
   ]
  },
  {
   "cell_type": "code",
   "execution_count": 4,
   "id": "6e46c9f0",
   "metadata": {},
   "outputs": [
    {
     "name": "stdout",
     "output_type": "stream",
     "text": [
      "{'EX_ala_L(e)': 1.0, 'EX_arg_L(e)': 1.0, 'EX_asn_L(e)': 1.0, 'EX_asp_L(e)': 1.0, 'EX_cys_L(e)': 1.0, 'EX_gln_L(e)': 1.0, 'EX_glu_L(e)': 1.0, 'EX_gly(e)': 1.0, 'EX_his_L(e)': 1.0, 'EX_ile_L(e)': 1.0, 'EX_leu_L(e)': 1.0, 'EX_lys_L(e)': 1.0, 'EX_met_L(e)': 1.0, 'EX_phe_L(e)': 1.0, 'EX_pro_L(e)': 1.0, 'EX_ser_L(e)': 1.0, 'EX_thr_L(e)': 1.0, 'EX_trp_L(e)': 1.0, 'EX_tyr_L(e)': 1.0, 'EX_val_L(e)': 1.0, 'EX_glc_D(e)': 4.5, 'EX_pyr(e)': 1.0, 'EX_ca2(e)': 1.0, 'EX_chol(e)': 1.0, 'EX_cl(e)': 1.0, 'EX_cobalt2(e)': 1.0, 'EX_cu2(e)': 1.0, 'EX_fe2(e)': 1.0, 'EX_fe3(e)': 1.0, 'EX_fol(e)': 1.0, 'EX_k(e)': 1.0, 'EX_h2o(e)': 10.0, 'EX_inost(e)': 1.0, 'EX_mg2(e)': 1.0, 'EX_mn2(e)': 1.0, 'EX_ncam(e)': 1.0, 'EX_pi(e)': 10.0, 'EX_pnto_R(e)': 1.0, 'EX_ribflv(e)': 1.0, 'EX_so4(e)': 1.0, 'EX_thm(e)': 1.0, 'EX_zn2(e)': 1.0}\n"
     ]
    }
   ],
   "source": [
    "DMEM = pd.read_csv('DMEM6429_medium.csv')\n",
    "DMEM_medium = {}\n",
    "for i in range(len(DMEM['rxn'])):\n",
    "    if list(DMEM['rxn'])[i] not in ['EX_h2s(e)','EX_pydxn(e)', 'EX_mqn7(e)', 'EX_pheme(e)',\n",
    "                                    'EX_sheme(e)','EX_arabinogal(e)','EX_mqn8(e)','EX_q8(e)']:\n",
    "        DMEM_medium[list(DMEM['rxn'])[i]] = list(DMEM['flux'])[i]\n",
    "print(DMEM_medium)"
   ]
  },
  {
   "cell_type": "markdown",
   "id": "dc90672d",
   "metadata": {},
   "source": [
    "## add missing reactions and metabolites"
   ]
  },
  {
   "cell_type": "code",
   "execution_count": 5,
   "id": "80d61abb",
   "metadata": {},
   "outputs": [],
   "source": [
    "ser_L_e = Metabolite('ser_L[e]',formula='C3H7NO3',name='L-Serine',compartment='e')\n",
    "thr_L_e = Metabolite('thr_L[e]',formula='C4H9NO3',name='L-Threonine',compartment='e')\n",
    "pyr_e = Metabolite('pyr[e]',formula='C3H3O3',name='Pyruvate',compartment='e')\n",
    "inost_e = Metabolite('inost[e]',formula='C6H12O6',name='Myo-Inositol',compartment='e')\n",
    "ncam_e = Metabolite('ncam[e]',formula='C6H6N2O',name='Nicotinamide',compartment='e')\n",
    "# pa74: ser_L, thr_L, pyr, inost, ncam\n",
    "SERt2r = Reaction(id='SERt2r',name='L-serine reversible transport via proton symport', subsystem='',\n",
    "                  lower_bound=-1000.0, upper_bound=1000.0)\n",
    "THRt2r = Reaction(id='THRt2r',name='L-threonine reversible transport via proton symport', subsystem='',\n",
    "                  lower_bound=-1000.0, upper_bound=1000.0)\n",
    "PYRt2 = Reaction(id='PYRt2',name='Pyruvate transport in via proton symport', subsystem='',\n",
    "                 lower_bound=-1000.0, upper_bound=1000.0)\n",
    "INOSt2 = Reaction(id='INOSt2',name='Myo-Inositol transport in via proton symport', subsystem='',\n",
    "                 lower_bound=-1000.0, upper_bound=1000.0)\n",
    "NCAMUP = Reaction(id='NCAMUP',name='Nicotinamide acid uptake', subsystem='', lower_bound=-1000.0, upper_bound=1000.0)\n",
    "\n",
    "EX_ser_L_e = Reaction(id='EX_ser_L(e)',name='EX_ser_L(e)', subsystem='', lower_bound=-1000.0, upper_bound=1000.0)\n",
    "EX_thr_L_e = Reaction(id='EX_thr_L(e)',name='EX_thr_L(e)', subsystem='', lower_bound=-1000.0, upper_bound=1000.0)\n",
    "EX_pyr_e = Reaction(id='EX_pyr(e)',name='EX_pyr(e)', subsystem='', lower_bound=-1000.0, upper_bound=1000.0)\n",
    "EX_inost_e = Reaction(id='EX_inost(e)',name='EX_inost(e)', subsystem='', lower_bound=-1000.0, upper_bound=1000.0)\n",
    "EX_ncam_e = Reaction(id='EX_ncam(e)',name='EX_ncam(e)', subsystem='', lower_bound=-1000.0, upper_bound=1000.0)\n",
    "pa74.add_metabolites([ser_L_e,thr_L_e,pyr_e,inost_e,ncam_e])\n",
    "pa74.add_reactions([SERt2r,THRt2r,PYRt2,INOSt2,NCAMUP,EX_ser_L_e,EX_thr_L_e,EX_pyr_e,EX_inost_e,EX_ncam_e])\n",
    "SERt2r.build_reaction_from_string('h[e] + ser_L[e] <=> h[c] + ser_L[c]')\n",
    "THRt2r.build_reaction_from_string('h[e] + thr_L[e] <=> h[c] + thr_L[c]')\n",
    "PYRt2.build_reaction_from_string('h[e] + pyr[e] <=> h[c] + pyr[c]')\n",
    "INOSt2.build_reaction_from_string('h[e] + inost[e] <=> h[c] + inost[c]')\n",
    "NCAMUP.build_reaction_from_string('ncam[e] <=> ncam[c]')\n",
    "EX_ser_L_e.build_reaction_from_string('ser_L[e] <=> ')\n",
    "EX_thr_L_e.build_reaction_from_string('thr_L[e] <=> ')\n",
    "EX_pyr_e.build_reaction_from_string('pyr[e] <=> ')\n",
    "EX_inost_e.build_reaction_from_string('inost[e] <=> ')\n",
    "EX_ncam_e.build_reaction_from_string('ncam[e] <=> ')\n",
    "# paDSM: ser_L, pyr, inost, ncam"
   ]
  },
  {
   "cell_type": "code",
   "execution_count": 9,
   "id": "28d27990",
   "metadata": {},
   "outputs": [
    {
     "data": {
      "text/plain": [
       "EX_26dap_M(e)     0.092476\n",
       "EX_alahis(e)      0.092623\n",
       "EX_alaleu(e)      0.438660\n",
       "EX_arg_L(e)       0.581914\n",
       "EX_ca2(e)         0.007809\n",
       "EX_cl(e)          0.007809\n",
       "EX_cobalt2(e)     0.007809\n",
       "EX_cu2(e)         0.007809\n",
       "EX_cys_L(e)       0.104599\n",
       "EX_fe2(e)         0.007809\n",
       "EX_fe3(e)         0.007809\n",
       "EX_for(e)         1.104929\n",
       "EX_gln_L(e)       1.942411\n",
       "EX_glyasp(e)      1.493891\n",
       "EX_ile_L(e)       0.282550\n",
       "EX_k(e)           0.007809\n",
       "EX_lys_L(e)       0.333550\n",
       "EX_mantr(e)      31.275120\n",
       "EX_met_L(e)       0.157149\n",
       "EX_mg2(e)         0.007809\n",
       "EX_mn2(e)         0.007809\n",
       "EX_phe_L(e)       0.180560\n",
       "EX_pi(e)          1.170679\n",
       "EX_pnto_R(e)      0.015619\n",
       "EX_pro_L(e)       0.215430\n",
       "EX_pydx(e)        0.007809\n",
       "EX_ribflv(e)      0.015619\n",
       "EX_so4(e)         0.007809\n",
       "EX_trp_L(e)       0.055157\n",
       "EX_tyr_L(e)       0.134250\n",
       "EX_val_L(e)       0.411600\n",
       "EX_zn2(e)         0.007809\n",
       "EX_ncam(e)        0.015619\n",
       "dtype: float64"
      ]
     },
     "execution_count": 9,
     "metadata": {},
     "output_type": "execute_result"
    }
   ],
   "source": [
    "minimal_medium(pa74,min_objective_value=1,minimize_components=True)"
   ]
  },
  {
   "cell_type": "code",
   "execution_count": 12,
   "id": "e9ec1f31",
   "metadata": {},
   "outputs": [
    {
     "name": "stdout",
     "output_type": "stream",
     "text": [
      "{'EX_26dap_M(e)': 1, 'EX_ala_L(e)': 1.0, 'EX_alahis(e)': 1, 'EX_alaleu(e)': 1, 'EX_arg_L(e)': 1.0, 'EX_asn_L(e)': 1.0, 'EX_asp_L(e)': 1.0, 'EX_ca2(e)': 1.0, 'EX_chol(e)': 1.0, 'EX_cl(e)': 1.0, 'EX_cobalt2(e)': 1.0, 'EX_cu2(e)': 1.0, 'EX_cys_L(e)': 1.0, 'EX_fe2(e)': 1.0, 'EX_fe3(e)': 1.0, 'EX_fol(e)': 1.0, 'EX_for(e)': 1, 'EX_glc_D(e)': 4.5, 'EX_gln_L(e)': 1.0, 'EX_glu_L(e)': 1.0, 'EX_gly(e)': 1.0, 'EX_glyasp(e)': 1, 'EX_h2o(e)': 10.0, 'EX_his_L(e)': 1.0, 'EX_ile_L(e)': 1.0, 'EX_k(e)': 1.0, 'EX_leu_L(e)': 1.0, 'EX_lys_L(e)': 1.0, 'EX_mantr(e)': 30, 'EX_met_L(e)': 1.0, 'EX_mg2(e)': 1.0, 'EX_mn2(e)': 1.0, 'EX_phe_L(e)': 1.0, 'EX_pi(e)': 10.0, 'EX_pnto_R(e)': 1.0, 'EX_pro_L(e)': 1.0, 'EX_ribflv(e)': 1.0, 'EX_so4(e)': 1.0, 'EX_thm(e)': 1.0, 'EX_trp_L(e)': 1.0, 'EX_tyr_L(e)': 1.0, 'EX_val_L(e)': 1.0, 'EX_zn2(e)': 1.0, 'EX_ser_L(e)': 1.0, 'EX_thr_L(e)': 1.0, 'EX_pyr(e)': 1.0, 'EX_inost(e)': 1.0, 'EX_ncam(e)': 1.0}\n",
      "0.0\n"
     ]
    }
   ],
   "source": [
    "with pa74:\n",
    "    temp_medium = DMEM_medium.copy()\n",
    "    temp_medium['EX_mantr(e)'] = 30\n",
    "    temp_medium['EX_for(e)'] = 1\n",
    "    temp_medium['EX_glyasp(e)'] = 1\n",
    "    temp_medium['EX_alaleu(e)'] = 1\n",
    "    temp_medium['EX_alahis(e)'] = 1\n",
    "    temp_medium['EX_26dap_M(e)'] = 1\n",
    "    pa74.medium = temp_medium\n",
    "    print(pa74.medium)\n",
    "    print(pa74.slim_optimize())"
   ]
  },
  {
   "cell_type": "markdown",
   "id": "0f51ee75",
   "metadata": {},
   "source": [
    "## PedA synthesis"
   ]
  },
  {
   "cell_type": "markdown",
   "id": "69c4128f",
   "metadata": {},
   "source": [
    "'H-Lys-Tyr-Tyr-Gly-Asn-Gly-Val-Thr-Cys(1)-Gly-Lys-His-Ser-Cys(1)-Ser-Val-Asp-Trp-Gly-Lys-Ala-Thr-Thr-Cys(2)-Ile-Ile-Asn-Asn-Gly-Ala-Met-Ala-Trp-Ala-Thr-Gly-Gly-His-Gln-Gly-Asn-His-Lys-Cys(2)-OH'\n",
    "\n",
    "https://pubchem.ncbi.nlm.nih.gov/compound/Pediocin-PA-1#section=Biologic-Description\n"
   ]
  },
  {
   "cell_type": "code",
   "execution_count": null,
   "id": "935750a5",
   "metadata": {},
   "outputs": [],
   "source": [
    "# pediocin PA-1\n",
    "aa_freq = {}\n",
    "pedA_seq = 'KYYGNGVTCGKHSCSVDWGKATTCIINNGAMAWATGGHQGNHKC'\n",
    "for a in pedA_seq:\n",
    "    if a in aa_freq:\n",
    "        aa_freq[a] += 1\n",
    "    else:\n",
    "        aa_freq[a] = 1\n",
    "print(aa_freq)\n",
    "    \n",
    "atp_num = len(pedA_seq)*4.306\n",
    "print(atp_num)"
   ]
  },
  {
   "cell_type": "code",
   "execution_count": null,
   "id": "8d1b7993",
   "metadata": {},
   "outputs": [],
   "source": [
    "aa_names = {'A':'ala_L[c]', 'C':'cys_L[c]', 'D':'asp_L[c]', 'E':'glu_L[c]', 'F':'phe_L[c]', 'G':'gly[c]',\n",
    "            'H':'his_L[c]', 'I':'ile_L[c]', 'K':'lys_L[c]', 'L':'leu_L[c]', 'M':'met_L[c]', 'N':'asn_L[c]',\n",
    "            'P':'pro_L[c]','Q':'gln_L[c]', 'R':'arg_L[c]', 'S':'ser_L[c]', 'T':'thr_L[c]', 'V':'val_L[c]',\n",
    "            'W':'trp_L[c]', 'Y':'tyr_L[c]'}\n",
    "\n",
    "pedA_c = Metabolite('pedA[c]',formula='C196H293N61O60S5',name='Pediocin PA-1',compartment='c')\n",
    "pedA_e = Metabolite('pedA[e]',formula='C196H293N61O60S5',name='Pediocin PA-1',compartment='e')\n",
    "pa74.add_metabolites([pedA_c,pedA_e])\n",
    "#pediocin synthesis\n",
    "PedA_synthesis = Reaction('PedA_synthesis')\n",
    "PedA_synthesis.name = 'Pediocin PA-1 synthesis'\n",
    "PedA_synthesis.subsystem = ''\n",
    "PedA_synthesis.lower_bound = 0\n",
    "PedA_synthesis.upper_bound = 1000.\n",
    "PedA_synthesis.gene_reaction_rule = ''\n",
    "PedA_synthesis_rxn = ''\n",
    "for aa in aa_freq:\n",
    "    PedA_synthesis_rxn = PedA_synthesis_rxn + str(float(aa_freq[aa])) + ' ' + aa_names[aa] + ' + '\n",
    "PedA_synthesis_rxn =(  PedA_synthesis_rxn + \n",
    "    '189.464 atp[c] + 146.464 h2o[c] --> 189.464 adp[c] + 189.464 pi[c] + pedA[c] + 189.464 h[c]' )\n",
    "    \n",
    "print(PedA_synthesis_rxn)\n",
    "#pediocin export: c->e and exchange\n",
    "PedAabc = Reaction('PedAabc')\n",
    "PedAabc.name = 'Pediocin PA-1 export via ABC system'\n",
    "PedAabc.subsystem = ''\n",
    "PedAabc.lower_bound = 0\n",
    "PedAabc.upper_bound = 1000.\n",
    "PedAabc.gene_reaction_rule = ''\n",
    "PedAabc_rxn = 'pedA[c] + atp[c] + h2o[c] --> pedA[e] + adp[c] + pi[c] + h[c] '\n",
    "EX_pedA_e = Reaction('EX_pedA_e')\n",
    "EX_pedA_e.name = 'R_EX_pedA_e'\n",
    "EX_pedA_e.subsystem = ''\n",
    "EX_pedA_e.lower_bound = -1000.\n",
    "EX_pedA_e.upper_bound = 1000.\n",
    "EX_pedA_e.gene_reaction_rule = ''\n",
    "EX_pedA_e_rxn = 'pedA[e] <=> '\n",
    "pa74.add_reactions([PedA_synthesis,PedAabc,EX_pedA_e])\n",
    "PedA_synthesis.build_reaction_from_string(PedA_synthesis_rxn)\n",
    "PedAabc.build_reaction_from_string(PedAabc_rxn)\n",
    "EX_pedA_e.build_reaction_from_string(EX_pedA_e_rxn)"
   ]
  },
  {
   "cell_type": "code",
   "execution_count": null,
   "id": "a062f486",
   "metadata": {},
   "outputs": [],
   "source": []
  }
 ],
 "metadata": {
  "kernelspec": {
   "display_name": "Python 3 (ipykernel)",
   "language": "python",
   "name": "python3"
  },
  "language_info": {
   "codemirror_mode": {
    "name": "ipython",
    "version": 3
   },
   "file_extension": ".py",
   "mimetype": "text/x-python",
   "name": "python",
   "nbconvert_exporter": "python",
   "pygments_lexer": "ipython3",
   "version": "3.8.10"
  }
 },
 "nbformat": 4,
 "nbformat_minor": 5
}
