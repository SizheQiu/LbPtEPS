{
 "cells": [
  {
   "cell_type": "code",
   "execution_count": null,
   "id": "356c524a",
   "metadata": {},
   "outputs": [],
   "source": [
    "import cobra\n",
    "from cobra.io import read_sbml_model\n",
    "from cobra import Model, Reaction, Metabolite\n",
    "import pandas as pd\n",
    "import numpy as np\n",
    "import matplotlib.pyplot as plt"
   ]
  },
  {
   "cell_type": "code",
   "execution_count": null,
   "id": "90d207ea",
   "metadata": {},
   "outputs": [],
   "source": [
    "pa74 = read_sbml_model('../PA/Pediococcus_acidilactici_7_4.xml')\n"
   ]
  },
  {
   "cell_type": "code",
   "execution_count": null,
   "id": "e6bf50a8",
   "metadata": {},
   "outputs": [],
   "source": [
    "M9 = {'EX_ca2_e': 1000.0, 'EX_cl_e': 1000.0, 'EX_co2_e': 1000.0, 'EX_cobalt2_e': 1000.0, \n",
    "      'EX_cu2_e': 1000.0, 'EX_fe2_e': 1000.0, 'EX_fe3_e': 1000.0, 'EX_h_e': 1000.0, 'EX_h2o_e': 1000.0, \n",
    "      'EX_k_e': 1000.0, 'EX_mg2_e': 1000.0, 'EX_mn2_e': 1000.0, 'EX_mobd_e': 1000.0, 'EX_na1_e': 1000.0, \n",
    "      'EX_zn2_e': 1000.0, 'EX_ni2_e': 1000.0, 'EX_glc__D_e': 20.0,'EX_so4_e': 1000.0, \n",
    "      'EX_nh4_e': 1000.0, 'EX_pi_e': 1000.0, 'EX_o2_e': 20.0}"
   ]
  },
  {
   "cell_type": "markdown",
   "id": "0f51ee75",
   "metadata": {},
   "source": [
    "## PedA synthesis"
   ]
  },
  {
   "cell_type": "markdown",
   "id": "69c4128f",
   "metadata": {},
   "source": [
    "'H-Lys-Tyr-Tyr-Gly-Asn-Gly-Val-Thr-Cys(1)-Gly-Lys-His-Ser-Cys(1)-Ser-Val-Asp-Trp-Gly-Lys-Ala-Thr-Thr-Cys(2)-Ile-Ile-Asn-Asn-Gly-Ala-Met-Ala-Trp-Ala-Thr-Gly-Gly-His-Gln-Gly-Asn-His-Lys-Cys(2)-OH'\n",
    "\n",
    "https://pubchem.ncbi.nlm.nih.gov/compound/Pediocin-PA-1#section=Biologic-Description\n"
   ]
  },
  {
   "cell_type": "code",
   "execution_count": null,
   "id": "935750a5",
   "metadata": {},
   "outputs": [],
   "source": [
    "# pediocin PA-1\n",
    "aa_freq = {}\n",
    "pedA_seq = 'MKKIEKLTEKEMANIIGGKYYGNGVTCGKHSCSVDWGKATTCIINNGAMAWATGGHQGNHKC'\n",
    "for a in pedA_seq:\n",
    "    if a in aa_freq:\n",
    "        aa_freq[a] += 1\n",
    "    else:\n",
    "        aa_freq[a] = 1\n",
    "print(aa_freq)\n",
    "    \n",
    "atp_num = len(pedA_seq)*4.306\n",
    "print(atp_num)"
   ]
  },
  {
   "cell_type": "code",
   "execution_count": null,
   "id": "8d1b7993",
   "metadata": {},
   "outputs": [],
   "source": [
    "aa_names = {'A':'ala__L_c', 'C':'cys__L_c', 'D':'asp__L_c', 'E':'glu__L_c', 'F':'phe__L_c', 'G':'gly_c',\n",
    "            'H':'his__L_c', 'I':'ile__L_c', 'K':'lys__L_c', 'L':'leu__L_c', 'M':'met__L_c', 'N':'asn__L_c',\n",
    "            'P':'pro__L_c','Q':'gln__L_c', 'R':'arg__L_c', 'S':'ser__L_c', 'T':'thr__L_c', 'V':'val__L_c',\n",
    "            'W':'trp__L_c', 'Y':'tyr__L_c'}\n",
    "pedA_c = Metabolite('pedA_c',formula='C196H293N61O60S5',name='Pediocin PA-1',compartment='C_c')\n",
    "pedA_e = Metabolite('pedA_e',formula='C196H293N61O60S5',name='Pediocin PA-1',compartment='C_e')\n",
    "pa.add_metabolites([pedA_c,pedA_e])\n",
    "#pediocin synthesis\n",
    "PedA_synthesis = Reaction('PedA_synthesis')\n",
    "PedA_synthesis.name = 'Pediocin PA-1 synthesis'\n",
    "PedA_synthesis.subsystem = ''\n",
    "PedA_synthesis.lower_bound = 0\n",
    "PedA_synthesis.upper_bound = 1000.\n",
    "PedA_synthesis.gene_reaction_rule = ''\n",
    "PedA_synthesis_rxn = ''\n",
    "for aa in aa_freq:\n",
    "    PedA_synthesis_rxn = PedA_synthesis_rxn + str(float(aa_freq[aa])) + ' ' + aa_names[aa] + ' + '\n",
    "PedA_synthesis_rxn = PedA_synthesis_rxn + '266.972 atp_c --> 266.972 adp_c + 266.972 pi_c + pedA_c'\n",
    "print(PedA_synthesis_rxn)\n",
    "#pediocin export: c->e and exchange\n",
    "PedAabc = Reaction('PedAabc')\n",
    "PedAabc.name = 'Pediocin PA-1 export via ABC system'\n",
    "PedAabc.subsystem = ''\n",
    "PedAabc.lower_bound = 0\n",
    "PedAabc.upper_bound = 1000.\n",
    "PedAabc.gene_reaction_rule = ''\n",
    "PedAabc_rxn = 'pedA_c + atp_c + h2o_c --> pedA_e + adp_c + pi_c + h_c '\n",
    "EX_pedA_e = Reaction('EX_pedA_e')\n",
    "EX_pedA_e.name = 'R_EX_pedA_e'\n",
    "EX_pedA_e.subsystem = ''\n",
    "EX_pedA_e.lower_bound = -1000.\n",
    "EX_pedA_e.upper_bound = 1000.\n",
    "EX_pedA_e.gene_reaction_rule = ''\n",
    "EX_pedA_e_rxn = 'pedA_e <=> '\n",
    "pa.add_reactions([PedA_synthesis,PedAabc,EX_pedA_e])\n",
    "PedA_synthesis.build_reaction_from_string(PedA_synthesis_rxn)\n",
    "PedAabc.build_reaction_from_string(PedAabc_rxn)\n",
    "EX_pedA_e.build_reaction_from_string(EX_pedA_e_rxn)"
   ]
  }
 ],
 "metadata": {
  "kernelspec": {
   "display_name": "Python 3 (ipykernel)",
   "language": "python",
   "name": "python3"
  },
  "language_info": {
   "codemirror_mode": {
    "name": "ipython",
    "version": 3
   },
   "file_extension": ".py",
   "mimetype": "text/x-python",
   "name": "python",
   "nbconvert_exporter": "python",
   "pygments_lexer": "ipython3",
   "version": "3.8.10"
  }
 },
 "nbformat": 4,
 "nbformat_minor": 5
}
