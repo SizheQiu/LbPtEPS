{
 "cells": [
  {
   "cell_type": "code",
   "execution_count": 39,
   "id": "f39be1a4",
   "metadata": {},
   "outputs": [],
   "source": [
    "import os\n",
    "import pickle as pkl\n",
    "import numpy as np\n",
    "import pandas as pd\n",
    "from matplotlib import pyplot as plt\n",
    "from functions import *\n",
    "import cobra\n",
    "from cobra.io import read_sbml_model,load_json_model\n",
    "from scipy.optimize import curve_fit\n",
    "import seaborn as sns\n",
    "from sklearn.metrics import r2_score"
   ]
  },
  {
   "cell_type": "code",
   "execution_count": 3,
   "id": "bc86c467",
   "metadata": {},
   "outputs": [],
   "source": [
    "model = load_json_model('../data/GSMM_parameters/LP_WCFS1.json')\n",
    "proB = pd.read_excel('../data/Proteomics/Proteomics_B.xlsx')\n",
    "gene_info = proB[list(proB.columns[0:5])]\n",
    "proB = proB[ ['Accession'] + list(proB.columns[-12:])].fillna(0)\n",
    "uniprot_info = pd.read_csv('../data/Proteomics/uniprotkb_taxonomy_id_220668.tsv',sep='\\t')"
   ]
  },
  {
   "cell_type": "markdown",
   "id": "3a1900b4",
   "metadata": {},
   "source": [
    "# Map expression to reactions\n",
    "* Central carbon metabolism\n",
    "* Purine and pyrimidine"
   ]
  },
  {
   "cell_type": "code",
   "execution_count": 4,
   "id": "3efdc8db",
   "metadata": {},
   "outputs": [],
   "source": [
    "cc_rxns = ['GLCpts','PGMT','GALU','UDPG4E','MAN6PI','PMANM',\n",
    "       'PGI','PFK','FBA','TPI','GAPD','PGK','PGM','ENO','PYK',\n",
    "       'PDH','PTAr','ACKr','PFL','LDH_D','LDH_L','ACCOAC','MACPMT','kaasIII',\n",
    "       'G6PDH2r','PGL','GND','RPE','RPI','TKT1','TKT2','TALA']\n",
    "\n",
    "pyr_rxns = ['ASPCT','DHORTS','DHORD6','ORPT','OMPDC','PRPPS',\n",
    "           'GLUPRT','PRAGS','GARFT','PRFGS','PRAIS','AIRC','PRASCS','ADSL2',\n",
    "           'AICART','IMPC','IMPD','GMPS2']"
   ]
  },
  {
   "cell_type": "code",
   "execution_count": 5,
   "id": "2f8d4dff",
   "metadata": {},
   "outputs": [],
   "source": [
    "def locus2id(locus, uniprot_info):\n",
    "    temp = uniprot_info[uniprot_info['Gene Names (ordered locus)']==locus] \n",
    "    return list(temp['Entry'])[0]\n",
    "    \n",
    "    \n",
    "def get_expr(gene, table, cond):\n",
    "    if gene not in list(table['Accession']):\n",
    "        return 0\n",
    "    temp_pd = (table[table['Accession']==gene]).reset_index().drop(['index'],axis=1)\n",
    "    expr = sum( [temp_pd[cond+'-B'+str(i)][0] for i in range(1,4) ] )/3\n",
    "    return expr\n",
    "\n",
    "def expr_or( gene_list, uniprot_info, expr_table, cond ):\n",
    "    gids = [ locus2id(x.strip(), uniprot_info) for x in gene_list]\n",
    "    expr = sum([get_expr(gid, expr_table, cond) for gid in gids])\n",
    "    return expr\n",
    "\n",
    "def expr_and( gene_list, uniprot_info, expr_table, cond ):\n",
    "    gids = [ locus2id(x.strip(), uniprot_info) for x in gene_list]\n",
    "    expr = min([get_expr(gid, expr_table, cond) for gid in gids])\n",
    "    return expr\n",
    "\n",
    "def get_rxn_expr( gpr, uniprot_info, expr_table, cond):\n",
    "    if '(' not in gpr:\n",
    "        if 'or' in gpr:\n",
    "            expr = expr_or( gpr.split('or'), uniprot_info, expr_table, cond )\n",
    "        else:\n",
    "            expr = expr_and( gpr.split('and'), uniprot_info, expr_table, cond )\n",
    "    elif ('(' in gpr) and ('and' in gpr) and ('or' in gpr): # for GLCpts/AIRC special case\n",
    "        gpr_list = gpr.split('or')\n",
    "        expr_1 = expr_and( gpr_list[0].replace('(','').replace(')','').split('and'), uniprot_info, expr_table, cond )\n",
    "        expr_2 = expr_and( gpr_list[1].replace('(','').replace(')','').split('and'), uniprot_info, expr_table, cond )\n",
    "        expr = expr_1 + expr_2\n",
    "    elif ('(' in gpr) and ('and' in gpr):\n",
    "        gpr = gpr.replace('(','').replace(')','')\n",
    "        expr = expr_and( gpr.split('and'), uniprot_info, expr_table, cond )\n",
    "        \n",
    "    return expr  "
   ]
  },
  {
   "cell_type": "code",
   "execution_count": 6,
   "id": "5ed806ad",
   "metadata": {},
   "outputs": [],
   "source": [
    "data = []\n",
    "for rxn_id in cc_rxns:\n",
    "    temp = {'RXN':rxn_id}\n",
    "    gpr = model.reactions.get_by_id( rxn_id ).gene_reaction_rule\n",
    "    for cond in ['pH6.5','pH5.5','pH5','pH4.5']:\n",
    "        expr = get_rxn_expr( gpr, uniprot_info, proB, cond)\n",
    "        temp[cond] = expr\n",
    "    data.append(temp)\n",
    "    \n",
    "cc_rxn_expr = pd.DataFrame(data)\n",
    "idx_keep = cc_rxn_expr.index[ cc_rxn_expr[cc_rxn_expr.columns[1:5]].sum(axis=1)>0 ]\n",
    "cc_rxn_expr = (cc_rxn_expr.iloc[idx_keep]).reset_index().drop(['index'],axis=1)\n",
    "\n",
    "for acid_cond in ['pH5.5','pH5','pH4.5']:\n",
    "    cc_rxn_expr[ 'Log2FC_'+ acid_cond + 'vsRef' ] = list( np.log2( cc_rxn_expr[acid_cond]/cc_rxn_expr['pH6.5'] ) )\n",
    "# cc_rxn_expr.to_csv('../data/Proteomics/cc_RXN_lfc.csv',index=None)"
   ]
  },
  {
   "cell_type": "code",
   "execution_count": 7,
   "id": "0455b588",
   "metadata": {},
   "outputs": [],
   "source": [
    "data = []\n",
    "for rxn_id in pyr_rxns:\n",
    "    temp = {'RXN':rxn_id}\n",
    "    gpr = model.reactions.get_by_id( rxn_id ).gene_reaction_rule\n",
    "    for cond in ['pH6.5','pH5.5','pH5','pH4.5']:\n",
    "        expr = get_rxn_expr( gpr, uniprot_info, proB, cond)\n",
    "        temp[cond] = expr\n",
    "    data.append(temp)\n",
    "pyr_rxn_expr = pd.DataFrame(data)\n",
    "for acid_cond in ['pH5.5','pH5','pH4.5']:\n",
    "    pyr_rxn_expr[ 'Log2FC_'+ acid_cond + 'vsRef' ] = list( np.log2( pyr_rxn_expr[acid_cond]/pyr_rxn_expr['pH6.5'] ) )\n",
    "# pyr_rxn_expr.to_csv('../data/Proteomics/pyr_RXN_lfc.csv' ,index=None)"
   ]
  },
  {
   "cell_type": "markdown",
   "id": "a5b3b978",
   "metadata": {},
   "source": [
    "# Resource allocation between proteome sectors"
   ]
  },
  {
   "cell_type": "code",
   "execution_count": 8,
   "id": "f26bd486",
   "metadata": {},
   "outputs": [],
   "source": [
    "sectors = {'C':[],'T':[],'A':[],'EPS_syn':[]}\n",
    "sectors['T'] = ['F9UST3', 'F9UR54','F9UN59','F9UN60'] # lactic acid transporter, GLCpts, "
   ]
  },
  {
   "cell_type": "code",
   "execution_count": 9,
   "id": "5ac6585c",
   "metadata": {},
   "outputs": [],
   "source": [
    "#A sector includes ribosomal proteins and chaperones\n",
    "for i in range(len(gene_info.index) ):\n",
    "    g_name = list(gene_info['Protein Name'])[i]\n",
    "    if 'ribosomal subunit protein' in g_name or 'ribosomal protein' in g_name :\n",
    "        sectors['A'].append( list(gene_info['Accession'])[i].strip() )\n",
    "    if ('Chaperone' in g_name) or ('Chaperonin' in g_name) or ('chaperone' in g_name) or ('chaperonin' in g_name):\n",
    "        sectors['A'].append( list(gene_info['Accession'])[i].strip() )"
   ]
  },
  {
   "cell_type": "code",
   "execution_count": 10,
   "id": "4e8060d5",
   "metadata": {},
   "outputs": [],
   "source": [
    "column_names = ('query acc.ver, subject acc.ver, % identity, alignment length, mismatches, gap opens, q. start, q. end, s. start, s. end, evalue, bit score').split(', ')\n",
    "data = []\n",
    "ffile = open('../data/Genome_HMX2/eps_blast_uniprot.tsv', \"rt\")\n",
    "lines = ffile.readlines()\n",
    "ffile.close()\n",
    "for line in lines:\n",
    "    line = line.strip()\n",
    "    if '#' not in line:\n",
    "        data.append( line.split('\\t'))\n",
    "blast_result = pd.DataFrame(data ,columns=column_names)\n",
    "blast_result = blast_result[blast_result['query acc.ver']!='1_990'] #remove AraC\n",
    "sectors['EPS_syn'] = list( set(blast_result['subject acc.ver']).intersection(set(list(gene_info['Accession']))) )"
   ]
  },
  {
   "cell_type": "code",
   "execution_count": 11,
   "id": "dece5c0c",
   "metadata": {},
   "outputs": [],
   "source": [
    "cc_proteins = []\n",
    "for rxn_id in cc_rxns:\n",
    "    genes = model.reactions.get_by_id( rxn_id ).genes\n",
    "    for g in genes:\n",
    "        cc_proteins.append( locus2id( g.id, uniprot_info) )\n",
    "cc_proteins = list(set(cc_proteins).intersection(set(list(gene_info['Accession']))))\n",
    "sectors['C'] = cc_proteins"
   ]
  },
  {
   "cell_type": "code",
   "execution_count": 12,
   "id": "4da834c1",
   "metadata": {},
   "outputs": [],
   "source": [
    "sector_expr = []\n",
    "for sec in ['C','T','A','EPS_syn']:\n",
    "    data = {'sector':sec}\n",
    "    temp = proB[proB.Accession.isin(sectors[sec])][proB.columns[1:]]\n",
    "    temp_dict = dict(temp.sum())\n",
    "    data.update(temp_dict)\n",
    "    sector_expr.append(data)\n",
    "sec_expr_table = pd.DataFrame(sector_expr)\n",
    "newcol_dict = {x: x.replace('B','') for x in proB.columns[1:]}\n",
    "sec_expr_table = sec_expr_table.rename( columns= newcol_dict )"
   ]
  },
  {
   "cell_type": "code",
   "execution_count": 13,
   "id": "22c0ee79",
   "metadata": {},
   "outputs": [
    {
     "data": {
      "text/html": [
       "<div>\n",
       "<style scoped>\n",
       "    .dataframe tbody tr th:only-of-type {\n",
       "        vertical-align: middle;\n",
       "    }\n",
       "\n",
       "    .dataframe tbody tr th {\n",
       "        vertical-align: top;\n",
       "    }\n",
       "\n",
       "    .dataframe thead th {\n",
       "        text-align: right;\n",
       "    }\n",
       "</style>\n",
       "<table border=\"1\" class=\"dataframe\">\n",
       "  <thead>\n",
       "    <tr style=\"text-align: right;\">\n",
       "      <th></th>\n",
       "      <th>sector</th>\n",
       "      <th>pH6.5-1</th>\n",
       "      <th>pH6.5-2</th>\n",
       "      <th>pH6.5-3</th>\n",
       "      <th>pH5.5-1</th>\n",
       "      <th>pH5.5-2</th>\n",
       "      <th>pH5.5-3</th>\n",
       "      <th>pH5-1</th>\n",
       "      <th>pH5-2</th>\n",
       "      <th>pH5-3</th>\n",
       "      <th>pH4.5-1</th>\n",
       "      <th>pH4.5-2</th>\n",
       "      <th>pH4.5-3</th>\n",
       "    </tr>\n",
       "  </thead>\n",
       "  <tbody>\n",
       "    <tr>\n",
       "      <th>0</th>\n",
       "      <td>C</td>\n",
       "      <td>71.375217</td>\n",
       "      <td>71.007676</td>\n",
       "      <td>70.366571</td>\n",
       "      <td>72.086005</td>\n",
       "      <td>71.663209</td>\n",
       "      <td>72.366470</td>\n",
       "      <td>68.441485</td>\n",
       "      <td>68.785790</td>\n",
       "      <td>68.097180</td>\n",
       "      <td>64.812136</td>\n",
       "      <td>65.872762</td>\n",
       "      <td>65.342449</td>\n",
       "    </tr>\n",
       "    <tr>\n",
       "      <th>1</th>\n",
       "      <td>T</td>\n",
       "      <td>3.302442</td>\n",
       "      <td>3.315682</td>\n",
       "      <td>3.312254</td>\n",
       "      <td>3.628535</td>\n",
       "      <td>3.585963</td>\n",
       "      <td>3.712618</td>\n",
       "      <td>4.282620</td>\n",
       "      <td>4.223713</td>\n",
       "      <td>4.341526</td>\n",
       "      <td>4.698778</td>\n",
       "      <td>4.595434</td>\n",
       "      <td>4.647106</td>\n",
       "    </tr>\n",
       "    <tr>\n",
       "      <th>2</th>\n",
       "      <td>A</td>\n",
       "      <td>67.335147</td>\n",
       "      <td>68.519734</td>\n",
       "      <td>67.355088</td>\n",
       "      <td>60.011841</td>\n",
       "      <td>59.626008</td>\n",
       "      <td>59.950449</td>\n",
       "      <td>66.192857</td>\n",
       "      <td>66.821894</td>\n",
       "      <td>65.563820</td>\n",
       "      <td>64.701355</td>\n",
       "      <td>64.558362</td>\n",
       "      <td>64.629858</td>\n",
       "    </tr>\n",
       "    <tr>\n",
       "      <th>3</th>\n",
       "      <td>EPS_syn</td>\n",
       "      <td>16.622409</td>\n",
       "      <td>17.383596</td>\n",
       "      <td>16.784743</td>\n",
       "      <td>16.334366</td>\n",
       "      <td>16.436766</td>\n",
       "      <td>16.358438</td>\n",
       "      <td>27.943913</td>\n",
       "      <td>27.936373</td>\n",
       "      <td>27.951453</td>\n",
       "      <td>29.742320</td>\n",
       "      <td>29.730416</td>\n",
       "      <td>29.736368</td>\n",
       "    </tr>\n",
       "  </tbody>\n",
       "</table>\n",
       "</div>"
      ],
      "text/plain": [
       "    sector    pH6.5-1    pH6.5-2    pH6.5-3    pH5.5-1    pH5.5-2    pH5.5-3  \\\n",
       "0        C  71.375217  71.007676  70.366571  72.086005  71.663209  72.366470   \n",
       "1        T   3.302442   3.315682   3.312254   3.628535   3.585963   3.712618   \n",
       "2        A  67.335147  68.519734  67.355088  60.011841  59.626008  59.950449   \n",
       "3  EPS_syn  16.622409  17.383596  16.784743  16.334366  16.436766  16.358438   \n",
       "\n",
       "       pH5-1      pH5-2      pH5-3    pH4.5-1    pH4.5-2    pH4.5-3  \n",
       "0  68.441485  68.785790  68.097180  64.812136  65.872762  65.342449  \n",
       "1   4.282620   4.223713   4.341526   4.698778   4.595434   4.647106  \n",
       "2  66.192857  66.821894  65.563820  64.701355  64.558362  64.629858  \n",
       "3  27.943913  27.936373  27.951453  29.742320  29.730416  29.736368  "
      ]
     },
     "execution_count": 13,
     "metadata": {},
     "output_type": "execute_result"
    }
   ],
   "source": [
    "old_columns = list(sec_expr_table.columns)\n",
    "sec_expr_table = sec_expr_table.drop(['pH5-1','pH4.5-3'],axis=1) # outliers are replaced by average values\n",
    "sec_expr_table['pH5-1'] = (sec_expr_table['pH5-2'] + sec_expr_table['pH5-3'])/2\n",
    "sec_expr_table['pH4.5-3'] = (sec_expr_table['pH4.5-1'] + sec_expr_table['pH4.5-2'])/2\n",
    "sec_expr_table = sec_expr_table[old_columns]\n",
    "sec_expr_table"
   ]
  },
  {
   "cell_type": "code",
   "execution_count": 14,
   "id": "92072613",
   "metadata": {},
   "outputs": [],
   "source": [
    "sec_ratios = []\n",
    "for sec in ['C','T','A','EPS_syn']:\n",
    "    data = {'sector':sec}\n",
    "    values = sec_expr_table[sec_expr_table['sector']==sec].values[0][1:]\n",
    "    total = np.array( list(sec_expr_table.sum()[1:]) )\n",
    "    ratios = values/total\n",
    "    temp_dict = {list(sec_expr_table.columns[1:])[i]: ratios[i] for i in range(len(sec_expr_table.columns[1:]))}\n",
    "    data.update(temp_dict)\n",
    "    sec_ratios.append( data )\n",
    "ratio_table = pd.DataFrame(sec_ratios)"
   ]
  },
  {
   "cell_type": "code",
   "execution_count": 15,
   "id": "825a34d4",
   "metadata": {},
   "outputs": [
    {
     "data": {
      "text/html": [
       "<div>\n",
       "<style scoped>\n",
       "    .dataframe tbody tr th:only-of-type {\n",
       "        vertical-align: middle;\n",
       "    }\n",
       "\n",
       "    .dataframe tbody tr th {\n",
       "        vertical-align: top;\n",
       "    }\n",
       "\n",
       "    .dataframe thead th {\n",
       "        text-align: right;\n",
       "    }\n",
       "</style>\n",
       "<table border=\"1\" class=\"dataframe\">\n",
       "  <thead>\n",
       "    <tr style=\"text-align: right;\">\n",
       "      <th></th>\n",
       "      <th>sector</th>\n",
       "      <th>pH6.5-1</th>\n",
       "      <th>pH6.5-2</th>\n",
       "      <th>pH6.5-3</th>\n",
       "      <th>pH5.5-1</th>\n",
       "      <th>pH5.5-2</th>\n",
       "      <th>pH5.5-3</th>\n",
       "      <th>pH5-1</th>\n",
       "      <th>pH5-2</th>\n",
       "      <th>pH5-3</th>\n",
       "      <th>pH4.5-1</th>\n",
       "      <th>pH4.5-2</th>\n",
       "      <th>pH4.5-3</th>\n",
       "    </tr>\n",
       "  </thead>\n",
       "  <tbody>\n",
       "    <tr>\n",
       "      <th>0</th>\n",
       "      <td>C</td>\n",
       "      <td>0.449933</td>\n",
       "      <td>0.443170</td>\n",
       "      <td>0.445870</td>\n",
       "      <td>0.474061</td>\n",
       "      <td>0.473612</td>\n",
       "      <td>0.474883</td>\n",
       "      <td>0.410171</td>\n",
       "      <td>0.410006</td>\n",
       "      <td>0.410338</td>\n",
       "      <td>0.395305</td>\n",
       "      <td>0.399818</td>\n",
       "      <td>0.397567</td>\n",
       "    </tr>\n",
       "    <tr>\n",
       "      <th>1</th>\n",
       "      <td>T</td>\n",
       "      <td>0.020818</td>\n",
       "      <td>0.020694</td>\n",
       "      <td>0.020988</td>\n",
       "      <td>0.023862</td>\n",
       "      <td>0.023699</td>\n",
       "      <td>0.024363</td>\n",
       "      <td>0.025666</td>\n",
       "      <td>0.025176</td>\n",
       "      <td>0.026161</td>\n",
       "      <td>0.028659</td>\n",
       "      <td>0.027892</td>\n",
       "      <td>0.028275</td>\n",
       "    </tr>\n",
       "    <tr>\n",
       "      <th>2</th>\n",
       "      <td>A</td>\n",
       "      <td>0.424465</td>\n",
       "      <td>0.427642</td>\n",
       "      <td>0.426788</td>\n",
       "      <td>0.394657</td>\n",
       "      <td>0.394060</td>\n",
       "      <td>0.393407</td>\n",
       "      <td>0.396695</td>\n",
       "      <td>0.398300</td>\n",
       "      <td>0.395072</td>\n",
       "      <td>0.394630</td>\n",
       "      <td>0.391840</td>\n",
       "      <td>0.393231</td>\n",
       "    </tr>\n",
       "    <tr>\n",
       "      <th>3</th>\n",
       "      <td>EPS_syn</td>\n",
       "      <td>0.104784</td>\n",
       "      <td>0.108494</td>\n",
       "      <td>0.106355</td>\n",
       "      <td>0.107420</td>\n",
       "      <td>0.108628</td>\n",
       "      <td>0.107347</td>\n",
       "      <td>0.167468</td>\n",
       "      <td>0.166518</td>\n",
       "      <td>0.168429</td>\n",
       "      <td>0.181406</td>\n",
       "      <td>0.180450</td>\n",
       "      <td>0.180927</td>\n",
       "    </tr>\n",
       "  </tbody>\n",
       "</table>\n",
       "</div>"
      ],
      "text/plain": [
       "    sector   pH6.5-1   pH6.5-2   pH6.5-3   pH5.5-1   pH5.5-2   pH5.5-3  \\\n",
       "0        C  0.449933  0.443170  0.445870  0.474061  0.473612  0.474883   \n",
       "1        T  0.020818  0.020694  0.020988  0.023862  0.023699  0.024363   \n",
       "2        A  0.424465  0.427642  0.426788  0.394657  0.394060  0.393407   \n",
       "3  EPS_syn  0.104784  0.108494  0.106355  0.107420  0.108628  0.107347   \n",
       "\n",
       "      pH5-1     pH5-2     pH5-3   pH4.5-1   pH4.5-2   pH4.5-3  \n",
       "0  0.410171  0.410006  0.410338  0.395305  0.399818  0.397567  \n",
       "1  0.025666  0.025176  0.026161  0.028659  0.027892  0.028275  \n",
       "2  0.396695  0.398300  0.395072  0.394630  0.391840  0.393231  \n",
       "3  0.167468  0.166518  0.168429  0.181406  0.180450  0.180927  "
      ]
     },
     "execution_count": 15,
     "metadata": {},
     "output_type": "execute_result"
    }
   ],
   "source": [
    "ratio_table"
   ]
  },
  {
   "cell_type": "code",
   "execution_count": 16,
   "id": "bb19834e",
   "metadata": {},
   "outputs": [
    {
     "data": {
      "image/png": "[encoded data removed]",
      "text/plain": [
       "<Figure size 1296x288 with 4 Axes>"
      ]
     },
     "metadata": {
      "needs_background": "light"
     },
     "output_type": "display_data"
    }
   ],
   "source": [
    "fig, axs = plt.subplots(1,4,figsize=(18,4))\n",
    "colors = ['tab:blue','tab:cyan','tab:orange','tab:red']\n",
    "conds = ['pH6.5','pH5.5','pH5','pH4.5']\n",
    "for i in range(len(ratio_table.index)):\n",
    "    values = list( ratio_table.iloc[i][1:])\n",
    "    temp_sec = list(ratio_table['sector'])[i]\n",
    "    avgs, stds= [],[]\n",
    "    for j in range(len(conds)):\n",
    "        avgs.append( np.mean([values[j*3],values[j*3+1],values[j*3+2] ]))\n",
    "        stds.append( np.std([values[j*3],values[j*3+1],values[j*3+2] ]) )\n",
    "        \n",
    "    axs[i].bar(conds, avgs, color =colors[i])\n",
    "    axs[i].errorbar(conds, avgs, marker='o',markersize=5, elinewidth=2, yerr=stds,color=\"black\")\n",
    "#     axs[i].scatter(conds, avgs, s=50, color=\"black\")\n",
    "    if temp_sec == 'EPS_syn':\n",
    "        axs[i].set_title('U sector')\n",
    "    else:\n",
    "        axs[i].set_title(temp_sec+' sector')\n",
    "axs[0].set_ylabel('Proteome mass fraction');"
   ]
  },
  {
   "cell_type": "markdown",
   "id": "90e2610b",
   "metadata": {},
   "source": [
    "# Equation discovery for U sector ratio"
   ]
  },
  {
   "cell_type": "code",
   "execution_count": 36,
   "id": "c6378c28",
   "metadata": {},
   "outputs": [],
   "source": [
    "u_avgs, u_stds=[],[]\n",
    "values = list( ratio_table.iloc[3][1:])\n",
    "for i in range(4):\n",
    "    u_avgs.append(  np.mean([values[i*3],values[i*3+1],values[i*3+2] ]) )\n",
    "    u_stds.append( np.std([values[i*3],values[i*3+1],values[i*3+2] ])  )"
   ]
  },
  {
   "cell_type": "code",
   "execution_count": 37,
   "id": "1fcfa909",
   "metadata": {},
   "outputs": [
    {
     "name": "stdout",
     "output_type": "stream",
     "text": [
      "[11.0886758   5.13625503]\n"
     ]
    }
   ],
   "source": [
    "conds = [6.5,5.5,5.0,4.5]\n",
    "def sigmoid_func(x, k1, k2):\n",
    "    r0=0.1065;\n",
    "    r1=0.07443;\n",
    "    return r0+r1/(1+np.exp(k1*(x-k2)))\n",
    "\n",
    "popt, pcov = curve_fit( sigmoid_func, conds, u_avgs)\n",
    "print(popt)"
   ]
  },
  {
   "cell_type": "code",
   "execution_count": 48,
   "id": "f263b439",
   "metadata": {},
   "outputs": [
    {
     "name": "stdout",
     "output_type": "stream",
     "text": [
      "0.9999985512629095\n"
     ]
    },
    {
     "data": {
      "text/plain": [
       "Text(5.5, 0.14, 'R2=0.999')"
      ]
     },
     "execution_count": 48,
     "metadata": {},
     "output_type": "execute_result"
    },
    {
     "data": {
      "image/png": "[encoded data removed]",
      "text/plain": [
       "<Figure size 432x360 with 1 Axes>"
      ]
     },
     "metadata": {
      "needs_background": "light"
     },
     "output_type": "display_data"
    }
   ],
   "source": [
    "fig, ax = plt.subplots(1,1,figsize=(6,5))\n",
    "ax.bar(conds, u_avgs, width=0.3, edgecolor = \"black\", color ='r')\n",
    "ax.scatter([6.5]*3+[5.5]*3+[5.0]*3+[4.5]*3, list( ratio_table.iloc[3][1:]), color='tab:orange',\n",
    "           alpha=0.4, edgecolor='black', s=50, label='Experiment')\n",
    "ax.set_xticks([4.5,5.0,5.5,6.0,6.5]);\n",
    "temp_pH = np.linspace(4.2, 6.5)\n",
    "u_preds = [sigmoid_func(x, 11.09, 5.136) for x in temp_pH ]\n",
    "ax.plot(temp_pH, u_preds, color='black',linestyle='--', label='curve fit')\n",
    "ax.legend()\n",
    "ax.set_xlabel('pH',fontsize=14)\n",
    "ax.set_ylabel('U-sector mass fraction',fontsize=14)\n",
    "\n",
    "r2 =  r2_score( [sigmoid_func(x, 11.09, 5.136) for x in conds],u_avgs )\n",
    "print(r2)\n",
    "ax.text(5.5,0.14,s='R2=0.999',fontsize=16)"
   ]
  },
  {
   "cell_type": "code",
   "execution_count": null,
   "id": "cade3ae8",
   "metadata": {},
   "outputs": [],
   "source": []
  }
 ],
 "metadata": {
  "kernelspec": {
   "display_name": "Python 3 (ipykernel)",
   "language": "python",
   "name": "python3"
  },
  "language_info": {
   "codemirror_mode": {
    "name": "ipython",
    "version": 3
   },
   "file_extension": ".py",
   "mimetype": "text/x-python",
   "name": "python",
   "nbconvert_exporter": "python",
   "pygments_lexer": "ipython3",
   "version": "3.8.10"
  }
 },
 "nbformat": 4,
 "nbformat_minor": 5
}
