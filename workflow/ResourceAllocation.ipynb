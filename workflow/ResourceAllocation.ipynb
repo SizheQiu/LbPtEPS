{
 "cells": [
  {
   "cell_type": "code",
   "execution_count": 1,
   "id": "f39be1a4",
   "metadata": {},
   "outputs": [],
   "source": [
    "import os\n",
    "import pickle as pkl\n",
    "import numpy as np\n",
    "import pandas as pd\n",
    "from matplotlib import pyplot as plt\n",
    "from functions import *\n",
    "import cobra\n",
    "from cobra.io import read_sbml_model,load_json_model\n",
    "from cobra import Model, Reaction, Metabolite"
   ]
  },
  {
   "cell_type": "code",
   "execution_count": 3,
   "id": "bc86c467",
   "metadata": {},
   "outputs": [],
   "source": [
    "model = load_json_model('../data/GSMM_parameters/LP_WCFS1.json')\n",
    "proB = pd.read_excel('../data/Proteomics/Proteomics_B.xlsx')\n",
    "gene_info = proB[list(proB.columns[0:5])]\n",
    "proB = proB[ ['Accession'] + list(proB.columns[-12:])].fillna(0)\n",
    "uniprot_info = pd.read_csv('../data/Proteomics/uniprotkb_taxonomy_id_220668.tsv',sep='\\t')"
   ]
  },
  {
   "cell_type": "markdown",
   "id": "3a1900b4",
   "metadata": {},
   "source": [
    "# Map expression to reactions\n",
    "* Central carbon metabolism\n",
    "* Purine and pyrimidine"
   ]
  },
  {
   "cell_type": "code",
   "execution_count": 17,
   "id": "3efdc8db",
   "metadata": {},
   "outputs": [],
   "source": [
    "cc_rxns = ['GLCpts','PGMT','GALU','UDPG4E','MAN6PI','PMANM',\n",
    "       'PGI','PFK','FBA','TPI','GAPD','PGK','PGM','ENO','PYK',\n",
    "       'PDH','PTAr','ACKr','PFL','LDH_D','LDH_L','ACCOAC','MACPMT','kaasIII',\n",
    "       'G6PDH2r','PGL','GND','RPE','RPI','TKT1','TKT2','TALA']\n",
    "\n",
    "pyr_rxns = ['ASPCT','DHORTS','DHORD6','ORPT','OMPDC','PRPPS',\n",
    "           'GLUPRT','PRAGS','GARFT','PRFGS','PRAIS','AIRC','PRASCS','ADSL2',\n",
    "           'AICART','IMPC','IMPD','GMPS2']"
   ]
  },
  {
   "cell_type": "code",
   "execution_count": 18,
   "id": "2f8d4dff",
   "metadata": {},
   "outputs": [],
   "source": [
    "def locus2id(locus, uniprot_info):\n",
    "    temp = uniprot_info[uniprot_info['Gene Names (ordered locus)']==locus] \n",
    "    return list(temp['Entry'])[0]\n",
    "    \n",
    "    \n",
    "def get_expr(gene, table, cond):\n",
    "    if gene not in list(table['Accession']):\n",
    "        return 0\n",
    "    temp_pd = (table[table['Accession']==gene]).reset_index().drop(['index'],axis=1)\n",
    "    expr = sum( [temp_pd[cond+'-B'+str(i)][0] for i in range(1,4) ] )/3\n",
    "    return expr\n",
    "\n",
    "def expr_or( gene_list, uniprot_info, expr_table, cond ):\n",
    "    gids = [ locus2id(x.strip(), uniprot_info) for x in gene_list]\n",
    "    expr = sum([get_expr(gid, expr_table, cond) for gid in gids])\n",
    "    return expr\n",
    "\n",
    "def expr_and( gene_list, uniprot_info, expr_table, cond ):\n",
    "    gids = [ locus2id(x.strip(), uniprot_info) for x in gene_list]\n",
    "    expr = min([get_expr(gid, expr_table, cond) for gid in gids])\n",
    "    return expr\n",
    "\n",
    "def get_rxn_expr( gpr, uniprot_info, expr_table, cond):\n",
    "    if '(' not in gpr:\n",
    "        if 'or' in gpr:\n",
    "            expr = expr_or( gpr.split('or'), uniprot_info, expr_table, cond )\n",
    "        else:\n",
    "            expr = expr_and( gpr.split('and'), uniprot_info, expr_table, cond )\n",
    "    elif ('(' in gpr) and ('and' in gpr) and ('or' in gpr): # for GLCpts/AIRC special case\n",
    "        gpr_list = gpr.split('or')\n",
    "        expr_1 = expr_and( gpr_list[0].replace('(','').replace(')','').split('and'), uniprot_info, expr_table, cond )\n",
    "        expr_2 = expr_and( gpr_list[1].replace('(','').replace(')','').split('and'), uniprot_info, expr_table, cond )\n",
    "        expr = expr_1 + expr_2\n",
    "    elif ('(' in gpr) and ('and' in gpr):\n",
    "        gpr = gpr.replace('(','').replace(')','')\n",
    "        expr = expr_and( gpr.split('and'), uniprot_info, expr_table, cond )\n",
    "        \n",
    "    return expr  "
   ]
  },
  {
   "cell_type": "code",
   "execution_count": 19,
   "id": "5ed806ad",
   "metadata": {},
   "outputs": [],
   "source": [
    "data = []\n",
    "for rxn_id in cc_rxns:\n",
    "    temp = {'RXN':rxn_id}\n",
    "    gpr = model.reactions.get_by_id( rxn_id ).gene_reaction_rule\n",
    "    for cond in ['pH6.5','pH5.5','pH5','pH4.5']:\n",
    "        expr = get_rxn_expr( gpr, uniprot_info, proB, cond)\n",
    "        temp[cond] = expr\n",
    "    data.append(temp)\n",
    "    \n",
    "cc_rxn_expr = pd.DataFrame(data)\n",
    "idx_keep = cc_rxn_expr.index[ cc_rxn_expr[cc_rxn_expr.columns[1:5]].sum(axis=1)>0 ]\n",
    "cc_rxn_expr = (cc_rxn_expr.iloc[idx_keep]).reset_index().drop(['index'],axis=1)\n",
    "\n",
    "for acid_cond in ['pH5.5','pH5','pH4.5']:\n",
    "    cc_rxn_expr[ 'Log2FC_'+ acid_cond + 'vsRef' ] = list( np.log2( cc_rxn_expr[acid_cond]/cc_rxn_expr['pH6.5'] ) )\n",
    "# cc_rxn_expr.to_csv('../data/Proteomics/cc_RXN_lfc.csv',index=None)"
   ]
  },
  {
   "cell_type": "code",
   "execution_count": 20,
   "id": "0455b588",
   "metadata": {},
   "outputs": [],
   "source": [
    "data = []\n",
    "for rxn_id in pyr_rxns:\n",
    "    temp = {'RXN':rxn_id}\n",
    "    gpr = model.reactions.get_by_id( rxn_id ).gene_reaction_rule\n",
    "    for cond in ['pH6.5','pH5.5','pH5','pH4.5']:\n",
    "        expr = get_rxn_expr( gpr, uniprot_info, proB, cond)\n",
    "        temp[cond] = expr\n",
    "    data.append(temp)\n",
    "pyr_rxn_expr = pd.DataFrame(data)\n",
    "for acid_cond in ['pH5.5','pH5','pH4.5']:\n",
    "    pyr_rxn_expr[ 'Log2FC_'+ acid_cond + 'vsRef' ] = list( np.log2( pyr_rxn_expr[acid_cond]/pyr_rxn_expr['pH6.5'] ) )\n",
    "# pyr_rxn_expr.to_csv('../data/Proteomics/pyr_RXN_lfc.csv' ,index=None)"
   ]
  },
  {
   "cell_type": "markdown",
   "id": "a5b3b978",
   "metadata": {},
   "source": [
    "# RA relations: re-scale protein expression to mass ratio"
   ]
  },
  {
   "cell_type": "code",
   "execution_count": 12,
   "id": "f26bd486",
   "metadata": {},
   "outputs": [],
   "source": [
    "sectors = {'C':[],'T':[],'A':[],'EPS_syn':[]}\n",
    "sectors['T'] = ['F9UST3', 'F9UR54','F9UN59','F9UN60'] # lactic acid transporter, GLCpts, "
   ]
  },
  {
   "cell_type": "code",
   "execution_count": 13,
   "id": "5ac6585c",
   "metadata": {},
   "outputs": [],
   "source": [
    "for i in range(len(gene_info.index) ):\n",
    "    if 'ribosomal subunit protein' in list(gene_info['Protein Name'])[i] \\\n",
    "            or 'ribosomal protein' in list(gene_info['Protein Name'])[i] :\n",
    "        sectors['A'].append( list(gene_info['Accession'])[i].strip() )"
   ]
  },
  {
   "cell_type": "code",
   "execution_count": 14,
   "id": "4e8060d5",
   "metadata": {},
   "outputs": [],
   "source": [
    "column_names = ('query acc.ver, subject acc.ver, % identity, alignment length, mismatches, gap opens, q. start, q. end, s. start, s. end, evalue, bit score').split(', ')\n",
    "data = []\n",
    "ffile = open('../data/Genome_HMX2/eps_blast_uniprot.tsv', \"rt\")\n",
    "lines = ffile.readlines()\n",
    "ffile.close()\n",
    "for line in lines:\n",
    "    line = line.strip()\n",
    "    if '#' not in line:\n",
    "        data.append( line.split('\\t'))\n",
    "blast_result = pd.DataFrame(data ,columns=column_names)\n",
    "sectors['EPS_syn'] = list( set(blast_result['subject acc.ver']).intersection(set(list(gene_info['Accession']))) )"
   ]
  },
  {
   "cell_type": "code",
   "execution_count": 21,
   "id": "7987e4c1",
   "metadata": {},
   "outputs": [],
   "source": [
    "sector_expr = []\n",
    "temp = cc_rxn_expr.iloc[1:,1:5]\n",
    "c_expr = dict( temp.sum(axis=0) )\n",
    "c_expr['sector'] = 'C'\n",
    "sector_expr.append( c_expr )\n",
    "\n",
    "for sec in ['T','A','EPS_syn']:\n",
    "    data = {'sector':sec}\n",
    "    for cond in ['pH6.5','pH5.5','pH5','pH4.5']:\n",
    "        expr = 0\n",
    "        for gene in sectors[sec]:\n",
    "            expr += get_expr(gene, proB, cond)\n",
    "        data[cond] = expr\n",
    "    sector_expr.append(data)\n",
    "sec_expr_table = pd.DataFrame(sector_expr)"
   ]
  },
  {
   "cell_type": "code",
   "execution_count": 43,
   "id": "c6378c28",
   "metadata": {},
   "outputs": [
    {
     "data": {
      "text/plain": [
       "Text(0, 0.5, 'U/(A+C+T+U)')"
      ]
     },
     "execution_count": 43,
     "metadata": {},
     "output_type": "execute_result"
    },
    {
     "data": {
      "image/png": "[encoded data removed]",
      "text/plain": [
       "<Figure size 432x288 with 1 Axes>"
      ]
     },
     "metadata": {
      "needs_background": "light"
     },
     "output_type": "display_data"
    }
   ],
   "source": [
    "u_ratio = []\n",
    "for i in range(4):\n",
    "    u_ratio.append( sec_expr_table.iloc[3,i]/sum(sec_expr_table.iloc[:,i])  )\n",
    "plt.plot([6.5,5.5,5.0,4.5],u_ratio, marker='o',linestyle='--')\n",
    "plt.xticks([4.5,5.0,5.5,6.0,6.5]);\n",
    "plt.xlabel('pH')\n",
    "plt.ylabel('U/(A+C+T+U)')"
   ]
  },
  {
   "cell_type": "code",
   "execution_count": null,
   "id": "a3ae36bf",
   "metadata": {},
   "outputs": [],
   "source": []
  }
 ],
 "metadata": {
  "kernelspec": {
   "display_name": "Python 3 (ipykernel)",
   "language": "python",
   "name": "python3"
  },
  "language_info": {
   "codemirror_mode": {
    "name": "ipython",
    "version": 3
   },
   "file_extension": ".py",
   "mimetype": "text/x-python",
   "name": "python",
   "nbconvert_exporter": "python",
   "pygments_lexer": "ipython3",
   "version": "3.8.10"
  }
 },
 "nbformat": 4,
 "nbformat_minor": 5
}
