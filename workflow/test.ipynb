{
 "cells": [
  {
   "cell_type": "code",
   "execution_count": 1,
   "id": "94d5a404",
   "metadata": {},
   "outputs": [],
   "source": [
    "import cobra\n",
    "from cobra.io import read_sbml_model\n",
    "from cobra import Model, Reaction, Metabolite\n",
    "import pandas as pd\n",
    "import numpy as np\n",
    "import matplotlib.pyplot as plt"
   ]
  },
  {
   "cell_type": "code",
   "execution_count": 2,
   "id": "405a72c1",
   "metadata": {},
   "outputs": [],
   "source": [
    "pa = read_sbml_model('../PA/pa.xml')\n",
    "lp = read_sbml_model('../LP/lp.xml')"
   ]
  },
  {
   "cell_type": "code",
   "execution_count": 3,
   "id": "4fe337d3",
   "metadata": {},
   "outputs": [],
   "source": [
    "#add reactions\n",
    "ni2_e = Metabolite('ni2_e',formula='Ni',name='Nickel',compartment='C_e')\n",
    "lp.add_metabolites([ni2_e])\n",
    "\n",
    "\n",
    "EX_na1_e = Reaction('EX_na1_e')\n",
    "EX_na1_e.name = 'R_EX_na1_e'\n",
    "EX_na1_e.subsystem = ''\n",
    "EX_na1_e.lower_bound = -1000. \n",
    "EX_na1_e.upper_bound = 1000.\n",
    "EX_na1_e.gene_reaction_rule = ''\n",
    "\n",
    "EX_ni2_e = Reaction('EX_ni2_e')\n",
    "EX_ni2_e.name = 'R_EX_ni2_e'\n",
    "EX_ni2_e.subsystem = ''\n",
    "EX_ni2_e.lower_bound = -1000. \n",
    "EX_ni2_e.upper_bound = 1000.\n",
    "EX_ni2_e.gene_reaction_rule = ''\n",
    "\n",
    "NIt5 = Reaction('NIt5')\n",
    "NIt5.name = 'Nickel transport in/out via permease(noH+)'\n",
    "NIt5.subsystem = ''\n",
    "NIt5.lower_bound = -1000. \n",
    "NIt5.upper_bound = 1000.\n",
    "NIt5.gene_reaction_rule = ''\n",
    "\n",
    "NIabc = Reaction('NIabc')\n",
    "NIabc.name = 'Nickel transport via ABC system'\n",
    "NIabc.subsystem = ''\n",
    "NIabc.lower_bound = 0\n",
    "NIabc.upper_bound = 1000.\n",
    "NIabc.gene_reaction_rule = ''\n",
    "\n",
    "\n",
    "pa.add_reactions([EX_na1_e,EX_ni2_e])\n",
    "lp.add_reactions([EX_na1_e,EX_ni2_e,NIt5,NIabc])\n",
    "EX_ni2_e.build_reaction_from_string('ni2_e <=> ')\n",
    "EX_na1_e.build_reaction_from_string('na1_e <=> ')\n",
    "NIt5.build_reaction_from_string('ni2_c <=> ni2_e')\n",
    "NIabc.build_reaction_from_string('atp_c + h2o_c + ni2_e --> adp_c + h_c + ni2_c + pi_c')"
   ]
  },
  {
   "cell_type": "markdown",
   "id": "cd48374c",
   "metadata": {},
   "source": [
    "# simulation"
   ]
  },
  {
   "cell_type": "code",
   "execution_count": 4,
   "id": "6b1b951a",
   "metadata": {},
   "outputs": [],
   "source": [
    "M9 = {'EX_ca2_e': 1000.0, 'EX_cl_e': 1000.0, 'EX_co2_e': 1000.0, 'EX_cobalt2_e': 1000.0, \n",
    "      'EX_cu2_e': 1000.0, 'EX_fe2_e': 1000.0, 'EX_fe3_e': 1000.0, 'EX_h_e': 1000.0, 'EX_h2o_e': 1000.0, \n",
    "      'EX_k_e': 1000.0, 'EX_mg2_e': 1000.0, 'EX_mn2_e': 1000.0, 'EX_mobd_e': 1000.0, 'EX_na1_e': 1000.0, \n",
    "      'EX_zn2_e': 1000.0, 'EX_ni2_e': 1000.0, 'EX_glc__D_e': 20.0,'EX_so4_e': 1000.0, \n",
    "      'EX_nh4_e': 1000.0, 'EX_pi_e': 1000.0, 'EX_o2_e': 20.0}"
   ]
  },
  {
   "cell_type": "code",
   "execution_count": 5,
   "id": "52992fd6",
   "metadata": {},
   "outputs": [
    {
     "name": "stdout",
     "output_type": "stream",
     "text": [
      "0.939550975920328\n",
      "0.6583014852332018\n"
     ]
    }
   ],
   "source": [
    "with pa:\n",
    "    pa.medium = M9\n",
    "    print(pa.slim_optimize())\n",
    "with lp:\n",
    "    temp_M9 = M9.copy()\n",
    "    temp_M9.pop('EX_mobd_e')\n",
    "    lp.medium = temp_M9\n",
    "    print(lp.slim_optimize())"
   ]
  },
  {
   "cell_type": "code",
   "execution_count": 6,
   "id": "b4aef5d5",
   "metadata": {},
   "outputs": [
    {
     "name": "stdout",
     "output_type": "stream",
     "text": [
      "0.0\n",
      "0.44758494910567287\n"
     ]
    }
   ],
   "source": [
    "with pa:\n",
    "    temp_M9 = M9.copy()\n",
    "    temp_M9['EX_o2_e'] = 0\n",
    "    pa.medium = temp_M9\n",
    "    print(pa.slim_optimize())\n",
    "with lp:\n",
    "    temp_M9 = M9.copy()\n",
    "    temp_M9.pop('EX_mobd_e')\n",
    "    temp_M9['EX_o2_e'] = 0\n",
    "    lp.medium = temp_M9\n",
    "    print(lp.slim_optimize())"
   ]
  },
  {
   "cell_type": "code",
   "execution_count": null,
   "id": "cacd2069",
   "metadata": {},
   "outputs": [],
   "source": []
  }
 ],
 "metadata": {
  "kernelspec": {
   "display_name": "Python 3 (ipykernel)",
   "language": "python",
   "name": "python3"
  },
  "language_info": {
   "codemirror_mode": {
    "name": "ipython",
    "version": 3
   },
   "file_extension": ".py",
   "mimetype": "text/x-python",
   "name": "python",
   "nbconvert_exporter": "python",
   "pygments_lexer": "ipython3",
   "version": "3.8.10"
  }
 },
 "nbformat": 4,
 "nbformat_minor": 5
}
